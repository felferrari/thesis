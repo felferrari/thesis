{
 "cells": [
  {
   "cell_type": "code",
   "execution_count": 10,
   "metadata": {},
   "outputs": [],
   "source": [
    "import plotly.express as px\n",
    "from utils.ops import load_yaml\n",
    "from  pathlib import Path\n",
    "import pandas as pd\n",
    "import plotly.graph_objects as go"
   ]
  },
  {
   "cell_type": "code",
   "execution_count": 11,
   "metadata": {},
   "outputs": [],
   "source": [
    "site = 2\n",
    "site_label  = 'PA'"
   ]
  },
  {
   "cell_type": "code",
   "execution_count": 12,
   "metadata": {},
   "outputs": [],
   "source": [
    "cfg = load_yaml('cfg.yaml')\n",
    "site_cfg = load_yaml(f'site_{site}.yaml')\n",
    "\n",
    "preparation_params = cfg['preparation_params']\n",
    "paths_params = cfg['paths']\n",
    "general_params = cfg['general_params']\n",
    "experiments_paths = general_params['experiments_folders']"
   ]
  },
  {
   "cell_type": "code",
   "execution_count": 13,
   "metadata": {},
   "outputs": [],
   "source": [
    "def results(experiments):\n",
    "    exp_results = []\n",
    "    for exp_i in experiments:\n",
    "        #experiment_params = cfg['experiments'][f'exp_{experiments[exp_i]}']\n",
    "        exp_path = Path(paths_params['experiments']) / f'exp_{experiments[exp_i]}'\n",
    "\n",
    "        results_path = exp_path / experiments_paths['results']\n",
    "        final_results_file = results_path / f'results_{experiments[exp_i]}.data'\n",
    "\n",
    "        result_df = pd.read_pickle(final_results_file)\n",
    "        exp_results.append(\n",
    "            {\n",
    "                'name': exp_i,\n",
    "                'Cloud Condition': 'Global',\n",
    "                'metric': 'Precision',\n",
    "                'value': result_df['global_precision'][0],\n",
    "            }\n",
    "        )\n",
    "        exp_results.append(\n",
    "            {\n",
    "                'name': exp_i,\n",
    "                'Cloud Condition': 'Global',\n",
    "                'metric': 'Recall',\n",
    "                'value': result_df['global_recall'][0],\n",
    "            }\n",
    "        )\n",
    "        exp_results.append(\n",
    "            {\n",
    "                'name': exp_i,\n",
    "                'Cloud Condition': 'Global',\n",
    "                'metric': 'F1-Score',\n",
    "                'value': result_df['global_f1'][0],\n",
    "            }\n",
    "        )\n",
    "        exp_results.append(\n",
    "            {\n",
    "                'name': exp_i,\n",
    "                'Cloud Condition': 'No Cloud',\n",
    "                'metric': 'Precision',\n",
    "                'value': result_df['no_cloud_precision'][0],\n",
    "            }\n",
    "        )\n",
    "        exp_results.append(\n",
    "            {\n",
    "                'name': exp_i,\n",
    "                'Cloud Condition': 'No Cloud',\n",
    "                'metric': 'Recall',\n",
    "                'value': result_df['no_cloud_recall'][0],\n",
    "            }\n",
    "        )\n",
    "        exp_results.append(\n",
    "            {\n",
    "                'name': exp_i,\n",
    "                'Cloud Condition': 'No Cloud',\n",
    "                'metric': 'F1-Score',\n",
    "                'value': result_df['no_cloud_f1'][0],\n",
    "            }\n",
    "        )\n",
    "        exp_results.append(\n",
    "            {\n",
    "                'name': exp_i,\n",
    "                'Cloud Condition': 'Cloudy',\n",
    "                'metric': 'Precision',\n",
    "                'value': result_df['cloud_precision'][0],\n",
    "            }\n",
    "        )\n",
    "        exp_results.append(\n",
    "            {\n",
    "                'name': exp_i,\n",
    "                'Cloud Condition': 'Cloudy',\n",
    "                'metric': 'Recall',\n",
    "                'value': result_df['cloud_recall'][0],\n",
    "            }\n",
    "        )\n",
    "        exp_results.append(\n",
    "            {\n",
    "                'name': exp_i,\n",
    "                'Cloud Condition': 'Cloudy',\n",
    "                'metric': 'F1-Score',\n",
    "                'value': result_df['cloud_f1'][0],\n",
    "            }\n",
    "        )\n",
    "        \n",
    "        \n",
    "    return pd.DataFrame(exp_results)\n"
   ]
  },
  {
   "cell_type": "code",
   "execution_count": 20,
   "metadata": {},
   "outputs": [
    {
     "data": {
      "application/vnd.plotly.v1+json": {
       "config": {
        "plotlyServerURL": "https://plot.ly"
       },
       "data": [
        {
         "alignmentgroup": "True",
         "hovertemplate": "name=Opt (Diverse Cond)<br>Cloud Condition=Global<br>metric=%{x}<br>value=%{text}<extra></extra>",
         "legendgroup": "Opt (Diverse Cond)",
         "marker": {
          "color": "#636efa",
          "pattern": {
           "shape": ""
          }
         },
         "name": "Opt (Diverse Cond)",
         "offsetgroup": "Opt (Diverse Cond)",
         "orientation": "v",
         "showlegend": true,
         "text": [
          0.2508237049077937,
          0.7367089520513376,
          0.37423383923576287
         ],
         "textposition": "outside",
         "texttemplate": "%{text:.2f}",
         "type": "bar",
         "x": [
          "Precision",
          "Recall",
          "F1-Score"
         ],
         "xaxis": "x",
         "y": [
          0.2508237049077937,
          0.7367089520513376,
          0.37423383923576287
         ],
         "yaxis": "y"
        },
        {
         "alignmentgroup": "True",
         "hovertemplate": "name=Opt (Cloud-free)<br>Cloud Condition=Global<br>metric=%{x}<br>value=%{text}<extra></extra>",
         "legendgroup": "Opt (Cloud-free)",
         "marker": {
          "color": "#EF553B",
          "pattern": {
           "shape": ""
          }
         },
         "name": "Opt (Cloud-free)",
         "offsetgroup": "Opt (Cloud-free)",
         "orientation": "v",
         "showlegend": true,
         "text": [
          0.7203688564220224,
          0.8881865426338047,
          0.7955236411280577
         ],
         "textposition": "outside",
         "texttemplate": "%{text:.2f}",
         "type": "bar",
         "x": [
          "Precision",
          "Recall",
          "F1-Score"
         ],
         "xaxis": "x",
         "y": [
          0.7203688564220224,
          0.8881865426338047,
          0.7955236411280577
         ],
         "yaxis": "y"
        },
        {
         "alignmentgroup": "True",
         "hovertemplate": "name=SAR (12 Avg Images)<br>Cloud Condition=Global<br>metric=%{x}<br>value=%{text}<extra></extra>",
         "legendgroup": "SAR (12 Avg Images)",
         "marker": {
          "color": "#00cc96",
          "pattern": {
           "shape": ""
          }
         },
         "name": "SAR (12 Avg Images)",
         "offsetgroup": "SAR (12 Avg Images)",
         "orientation": "v",
         "showlegend": true,
         "text": [
          0.6689654108554166,
          0.9042240190398461,
          0.7690041401340949
         ],
         "textposition": "outside",
         "texttemplate": "%{text:.2f}",
         "type": "bar",
         "x": [
          "Precision",
          "Recall",
          "F1-Score"
         ],
         "xaxis": "x",
         "y": [
          0.6689654108554166,
          0.9042240190398461,
          0.7690041401340949
         ],
         "yaxis": "y"
        },
        {
         "alignmentgroup": "True",
         "hovertemplate": "name=Early Fusion (Diverse Opt + 12 Avg SAR)<br>Cloud Condition=Global<br>metric=%{x}<br>value=%{text}<extra></extra>",
         "legendgroup": "Early Fusion (Diverse Opt + 12 Avg SAR)",
         "marker": {
          "color": "#ab63fa",
          "pattern": {
           "shape": ""
          }
         },
         "name": "Early Fusion (Diverse Opt + 12 Avg SAR)",
         "offsetgroup": "Early Fusion (Diverse Opt + 12 Avg SAR)",
         "orientation": "v",
         "showlegend": true,
         "text": [
          0.40001533457281635,
          0.8544467051812396,
          0.5449216856569439
         ],
         "textposition": "outside",
         "texttemplate": "%{text:.2f}",
         "type": "bar",
         "x": [
          "Precision",
          "Recall",
          "F1-Score"
         ],
         "xaxis": "x",
         "y": [
          0.40001533457281635,
          0.8544467051812396,
          0.5449216856569439
         ],
         "yaxis": "y"
        },
        {
         "alignmentgroup": "True",
         "hovertemplate": "name=Joint Fusion (Diverse Opt + 12 Avg SAR)<br>Cloud Condition=Global<br>metric=%{x}<br>value=%{text}<extra></extra>",
         "legendgroup": "Joint Fusion (Diverse Opt + 12 Avg SAR)",
         "marker": {
          "color": "#FFA15A",
          "pattern": {
           "shape": ""
          }
         },
         "name": "Joint Fusion (Diverse Opt + 12 Avg SAR)",
         "offsetgroup": "Joint Fusion (Diverse Opt + 12 Avg SAR)",
         "orientation": "v",
         "showlegend": true,
         "text": [
          0.7025597759525819,
          0.8940439616644624,
          0.7868193097633872
         ],
         "textposition": "outside",
         "texttemplate": "%{text:.2f}",
         "type": "bar",
         "x": [
          "Precision",
          "Recall",
          "F1-Score"
         ],
         "xaxis": "x",
         "y": [
          0.7025597759525819,
          0.8940439616644624,
          0.7868193097633872
         ],
         "yaxis": "y"
        },
        {
         "alignmentgroup": "True",
         "hovertemplate": "name=Late Fusion (Diverse Opt + 12 Avg SAR)<br>Cloud Condition=Global<br>metric=%{x}<br>value=%{text}<extra></extra>",
         "legendgroup": "Late Fusion (Diverse Opt + 12 Avg SAR)",
         "marker": {
          "color": "#19d3f3",
          "pattern": {
           "shape": ""
          }
         },
         "name": "Late Fusion (Diverse Opt + 12 Avg SAR)",
         "offsetgroup": "Late Fusion (Diverse Opt + 12 Avg SAR)",
         "orientation": "v",
         "showlegend": true,
         "text": [
          0.7277974208335484,
          0.8861085401304762,
          0.7991884603986749
         ],
         "textposition": "outside",
         "texttemplate": "%{text:.2f}",
         "type": "bar",
         "x": [
          "Precision",
          "Recall",
          "F1-Score"
         ],
         "xaxis": "x",
         "y": [
          0.7277974208335484,
          0.8861085401304762,
          0.7991884603986749
         ],
         "yaxis": "y"
        },
        {
         "alignmentgroup": "True",
         "hovertemplate": "name=Joint Fusion - pretrained (Diverse Opt + 12 Avg SAR)<br>Cloud Condition=Global<br>metric=%{x}<br>value=%{text}<extra></extra>",
         "legendgroup": "Joint Fusion - pretrained (Diverse Opt + 12 Avg SAR)",
         "marker": {
          "color": "#FF6692",
          "pattern": {
           "shape": ""
          }
         },
         "name": "Joint Fusion - pretrained (Diverse Opt + 12 Avg SAR)",
         "offsetgroup": "Joint Fusion - pretrained (Diverse Opt + 12 Avg SAR)",
         "orientation": "v",
         "showlegend": true,
         "text": [
          0.7227752142120156,
          0.8930561061818367,
          0.7989433182810106
         ],
         "textposition": "outside",
         "texttemplate": "%{text:.2f}",
         "type": "bar",
         "x": [
          "Precision",
          "Recall",
          "F1-Score"
         ],
         "xaxis": "x",
         "y": [
          0.7227752142120156,
          0.8930561061818367,
          0.7989433182810106
         ],
         "yaxis": "y"
        },
        {
         "alignmentgroup": "True",
         "hovertemplate": "name=Late Fusion - pretrained (Diverse Opt + 12 Avg SAR)<br>Cloud Condition=Global<br>metric=%{x}<br>value=%{text}<extra></extra>",
         "legendgroup": "Late Fusion - pretrained (Diverse Opt + 12 Avg SAR)",
         "marker": {
          "color": "#B6E880",
          "pattern": {
           "shape": ""
          }
         },
         "name": "Late Fusion - pretrained (Diverse Opt + 12 Avg SAR)",
         "offsetgroup": "Late Fusion - pretrained (Diverse Opt + 12 Avg SAR)",
         "orientation": "v",
         "showlegend": true,
         "text": [
          0.6748596203778462,
          0.9047524624742894,
          0.7730770231370481
         ],
         "textposition": "outside",
         "texttemplate": "%{text:.2f}",
         "type": "bar",
         "x": [
          "Precision",
          "Recall",
          "F1-Score"
         ],
         "xaxis": "x",
         "y": [
          0.6748596203778462,
          0.9047524624742894,
          0.7730770231370481
         ],
         "yaxis": "y"
        }
       ],
       "layout": {
        "annotations": [
         {
          "font": {},
          "showarrow": false,
          "text": "",
          "x": 0.5,
          "xanchor": "center",
          "xref": "paper",
          "y": 1,
          "yanchor": "bottom",
          "yref": "paper"
         }
        ],
        "bargap": 0.3,
        "barmode": "group",
        "font": {
         "size": 14
        },
        "height": 400,
        "legend": {
         "font": {
          "size": 16
         },
         "orientation": "h",
         "title": {
          "text": "Model"
         },
         "tracegroupgap": 0
        },
        "margin": {
         "t": 60
        },
        "template": {
         "data": {
          "bar": [
           {
            "error_x": {
             "color": "#2a3f5f"
            },
            "error_y": {
             "color": "#2a3f5f"
            },
            "marker": {
             "line": {
              "color": "#E5ECF6",
              "width": 0.5
             },
             "pattern": {
              "fillmode": "overlay",
              "size": 10,
              "solidity": 0.2
             }
            },
            "type": "bar"
           }
          ],
          "barpolar": [
           {
            "marker": {
             "line": {
              "color": "#E5ECF6",
              "width": 0.5
             },
             "pattern": {
              "fillmode": "overlay",
              "size": 10,
              "solidity": 0.2
             }
            },
            "type": "barpolar"
           }
          ],
          "carpet": [
           {
            "aaxis": {
             "endlinecolor": "#2a3f5f",
             "gridcolor": "white",
             "linecolor": "white",
             "minorgridcolor": "white",
             "startlinecolor": "#2a3f5f"
            },
            "baxis": {
             "endlinecolor": "#2a3f5f",
             "gridcolor": "white",
             "linecolor": "white",
             "minorgridcolor": "white",
             "startlinecolor": "#2a3f5f"
            },
            "type": "carpet"
           }
          ],
          "choropleth": [
           {
            "colorbar": {
             "outlinewidth": 0,
             "ticks": ""
            },
            "type": "choropleth"
           }
          ],
          "contour": [
           {
            "colorbar": {
             "outlinewidth": 0,
             "ticks": ""
            },
            "colorscale": [
             [
              0,
              "#0d0887"
             ],
             [
              0.1111111111111111,
              "#46039f"
             ],
             [
              0.2222222222222222,
              "#7201a8"
             ],
             [
              0.3333333333333333,
              "#9c179e"
             ],
             [
              0.4444444444444444,
              "#bd3786"
             ],
             [
              0.5555555555555556,
              "#d8576b"
             ],
             [
              0.6666666666666666,
              "#ed7953"
             ],
             [
              0.7777777777777778,
              "#fb9f3a"
             ],
             [
              0.8888888888888888,
              "#fdca26"
             ],
             [
              1,
              "#f0f921"
             ]
            ],
            "type": "contour"
           }
          ],
          "contourcarpet": [
           {
            "colorbar": {
             "outlinewidth": 0,
             "ticks": ""
            },
            "type": "contourcarpet"
           }
          ],
          "heatmap": [
           {
            "colorbar": {
             "outlinewidth": 0,
             "ticks": ""
            },
            "colorscale": [
             [
              0,
              "#0d0887"
             ],
             [
              0.1111111111111111,
              "#46039f"
             ],
             [
              0.2222222222222222,
              "#7201a8"
             ],
             [
              0.3333333333333333,
              "#9c179e"
             ],
             [
              0.4444444444444444,
              "#bd3786"
             ],
             [
              0.5555555555555556,
              "#d8576b"
             ],
             [
              0.6666666666666666,
              "#ed7953"
             ],
             [
              0.7777777777777778,
              "#fb9f3a"
             ],
             [
              0.8888888888888888,
              "#fdca26"
             ],
             [
              1,
              "#f0f921"
             ]
            ],
            "type": "heatmap"
           }
          ],
          "heatmapgl": [
           {
            "colorbar": {
             "outlinewidth": 0,
             "ticks": ""
            },
            "colorscale": [
             [
              0,
              "#0d0887"
             ],
             [
              0.1111111111111111,
              "#46039f"
             ],
             [
              0.2222222222222222,
              "#7201a8"
             ],
             [
              0.3333333333333333,
              "#9c179e"
             ],
             [
              0.4444444444444444,
              "#bd3786"
             ],
             [
              0.5555555555555556,
              "#d8576b"
             ],
             [
              0.6666666666666666,
              "#ed7953"
             ],
             [
              0.7777777777777778,
              "#fb9f3a"
             ],
             [
              0.8888888888888888,
              "#fdca26"
             ],
             [
              1,
              "#f0f921"
             ]
            ],
            "type": "heatmapgl"
           }
          ],
          "histogram": [
           {
            "marker": {
             "pattern": {
              "fillmode": "overlay",
              "size": 10,
              "solidity": 0.2
             }
            },
            "type": "histogram"
           }
          ],
          "histogram2d": [
           {
            "colorbar": {
             "outlinewidth": 0,
             "ticks": ""
            },
            "colorscale": [
             [
              0,
              "#0d0887"
             ],
             [
              0.1111111111111111,
              "#46039f"
             ],
             [
              0.2222222222222222,
              "#7201a8"
             ],
             [
              0.3333333333333333,
              "#9c179e"
             ],
             [
              0.4444444444444444,
              "#bd3786"
             ],
             [
              0.5555555555555556,
              "#d8576b"
             ],
             [
              0.6666666666666666,
              "#ed7953"
             ],
             [
              0.7777777777777778,
              "#fb9f3a"
             ],
             [
              0.8888888888888888,
              "#fdca26"
             ],
             [
              1,
              "#f0f921"
             ]
            ],
            "type": "histogram2d"
           }
          ],
          "histogram2dcontour": [
           {
            "colorbar": {
             "outlinewidth": 0,
             "ticks": ""
            },
            "colorscale": [
             [
              0,
              "#0d0887"
             ],
             [
              0.1111111111111111,
              "#46039f"
             ],
             [
              0.2222222222222222,
              "#7201a8"
             ],
             [
              0.3333333333333333,
              "#9c179e"
             ],
             [
              0.4444444444444444,
              "#bd3786"
             ],
             [
              0.5555555555555556,
              "#d8576b"
             ],
             [
              0.6666666666666666,
              "#ed7953"
             ],
             [
              0.7777777777777778,
              "#fb9f3a"
             ],
             [
              0.8888888888888888,
              "#fdca26"
             ],
             [
              1,
              "#f0f921"
             ]
            ],
            "type": "histogram2dcontour"
           }
          ],
          "mesh3d": [
           {
            "colorbar": {
             "outlinewidth": 0,
             "ticks": ""
            },
            "type": "mesh3d"
           }
          ],
          "parcoords": [
           {
            "line": {
             "colorbar": {
              "outlinewidth": 0,
              "ticks": ""
             }
            },
            "type": "parcoords"
           }
          ],
          "pie": [
           {
            "automargin": true,
            "type": "pie"
           }
          ],
          "scatter": [
           {
            "fillpattern": {
             "fillmode": "overlay",
             "size": 10,
             "solidity": 0.2
            },
            "type": "scatter"
           }
          ],
          "scatter3d": [
           {
            "line": {
             "colorbar": {
              "outlinewidth": 0,
              "ticks": ""
             }
            },
            "marker": {
             "colorbar": {
              "outlinewidth": 0,
              "ticks": ""
             }
            },
            "type": "scatter3d"
           }
          ],
          "scattercarpet": [
           {
            "marker": {
             "colorbar": {
              "outlinewidth": 0,
              "ticks": ""
             }
            },
            "type": "scattercarpet"
           }
          ],
          "scattergeo": [
           {
            "marker": {
             "colorbar": {
              "outlinewidth": 0,
              "ticks": ""
             }
            },
            "type": "scattergeo"
           }
          ],
          "scattergl": [
           {
            "marker": {
             "colorbar": {
              "outlinewidth": 0,
              "ticks": ""
             }
            },
            "type": "scattergl"
           }
          ],
          "scattermapbox": [
           {
            "marker": {
             "colorbar": {
              "outlinewidth": 0,
              "ticks": ""
             }
            },
            "type": "scattermapbox"
           }
          ],
          "scatterpolar": [
           {
            "marker": {
             "colorbar": {
              "outlinewidth": 0,
              "ticks": ""
             }
            },
            "type": "scatterpolar"
           }
          ],
          "scatterpolargl": [
           {
            "marker": {
             "colorbar": {
              "outlinewidth": 0,
              "ticks": ""
             }
            },
            "type": "scatterpolargl"
           }
          ],
          "scatterternary": [
           {
            "marker": {
             "colorbar": {
              "outlinewidth": 0,
              "ticks": ""
             }
            },
            "type": "scatterternary"
           }
          ],
          "surface": [
           {
            "colorbar": {
             "outlinewidth": 0,
             "ticks": ""
            },
            "colorscale": [
             [
              0,
              "#0d0887"
             ],
             [
              0.1111111111111111,
              "#46039f"
             ],
             [
              0.2222222222222222,
              "#7201a8"
             ],
             [
              0.3333333333333333,
              "#9c179e"
             ],
             [
              0.4444444444444444,
              "#bd3786"
             ],
             [
              0.5555555555555556,
              "#d8576b"
             ],
             [
              0.6666666666666666,
              "#ed7953"
             ],
             [
              0.7777777777777778,
              "#fb9f3a"
             ],
             [
              0.8888888888888888,
              "#fdca26"
             ],
             [
              1,
              "#f0f921"
             ]
            ],
            "type": "surface"
           }
          ],
          "table": [
           {
            "cells": {
             "fill": {
              "color": "#EBF0F8"
             },
             "line": {
              "color": "white"
             }
            },
            "header": {
             "fill": {
              "color": "#C8D4E3"
             },
             "line": {
              "color": "white"
             }
            },
            "type": "table"
           }
          ]
         },
         "layout": {
          "annotationdefaults": {
           "arrowcolor": "#2a3f5f",
           "arrowhead": 0,
           "arrowwidth": 1
          },
          "autotypenumbers": "strict",
          "coloraxis": {
           "colorbar": {
            "outlinewidth": 0,
            "ticks": ""
           }
          },
          "colorscale": {
           "diverging": [
            [
             0,
             "#8e0152"
            ],
            [
             0.1,
             "#c51b7d"
            ],
            [
             0.2,
             "#de77ae"
            ],
            [
             0.3,
             "#f1b6da"
            ],
            [
             0.4,
             "#fde0ef"
            ],
            [
             0.5,
             "#f7f7f7"
            ],
            [
             0.6,
             "#e6f5d0"
            ],
            [
             0.7,
             "#b8e186"
            ],
            [
             0.8,
             "#7fbc41"
            ],
            [
             0.9,
             "#4d9221"
            ],
            [
             1,
             "#276419"
            ]
           ],
           "sequential": [
            [
             0,
             "#0d0887"
            ],
            [
             0.1111111111111111,
             "#46039f"
            ],
            [
             0.2222222222222222,
             "#7201a8"
            ],
            [
             0.3333333333333333,
             "#9c179e"
            ],
            [
             0.4444444444444444,
             "#bd3786"
            ],
            [
             0.5555555555555556,
             "#d8576b"
            ],
            [
             0.6666666666666666,
             "#ed7953"
            ],
            [
             0.7777777777777778,
             "#fb9f3a"
            ],
            [
             0.8888888888888888,
             "#fdca26"
            ],
            [
             1,
             "#f0f921"
            ]
           ],
           "sequentialminus": [
            [
             0,
             "#0d0887"
            ],
            [
             0.1111111111111111,
             "#46039f"
            ],
            [
             0.2222222222222222,
             "#7201a8"
            ],
            [
             0.3333333333333333,
             "#9c179e"
            ],
            [
             0.4444444444444444,
             "#bd3786"
            ],
            [
             0.5555555555555556,
             "#d8576b"
            ],
            [
             0.6666666666666666,
             "#ed7953"
            ],
            [
             0.7777777777777778,
             "#fb9f3a"
            ],
            [
             0.8888888888888888,
             "#fdca26"
            ],
            [
             1,
             "#f0f921"
            ]
           ]
          },
          "colorway": [
           "#636efa",
           "#EF553B",
           "#00cc96",
           "#ab63fa",
           "#FFA15A",
           "#19d3f3",
           "#FF6692",
           "#B6E880",
           "#FF97FF",
           "#FECB52"
          ],
          "font": {
           "color": "#2a3f5f"
          },
          "geo": {
           "bgcolor": "white",
           "lakecolor": "white",
           "landcolor": "#E5ECF6",
           "showlakes": true,
           "showland": true,
           "subunitcolor": "white"
          },
          "hoverlabel": {
           "align": "left"
          },
          "hovermode": "closest",
          "mapbox": {
           "style": "light"
          },
          "paper_bgcolor": "white",
          "plot_bgcolor": "#E5ECF6",
          "polar": {
           "angularaxis": {
            "gridcolor": "white",
            "linecolor": "white",
            "ticks": ""
           },
           "bgcolor": "#E5ECF6",
           "radialaxis": {
            "gridcolor": "white",
            "linecolor": "white",
            "ticks": ""
           }
          },
          "scene": {
           "xaxis": {
            "backgroundcolor": "#E5ECF6",
            "gridcolor": "white",
            "gridwidth": 2,
            "linecolor": "white",
            "showbackground": true,
            "ticks": "",
            "zerolinecolor": "white"
           },
           "yaxis": {
            "backgroundcolor": "#E5ECF6",
            "gridcolor": "white",
            "gridwidth": 2,
            "linecolor": "white",
            "showbackground": true,
            "ticks": "",
            "zerolinecolor": "white"
           },
           "zaxis": {
            "backgroundcolor": "#E5ECF6",
            "gridcolor": "white",
            "gridwidth": 2,
            "linecolor": "white",
            "showbackground": true,
            "ticks": "",
            "zerolinecolor": "white"
           }
          },
          "shapedefaults": {
           "line": {
            "color": "#2a3f5f"
           }
          },
          "ternary": {
           "aaxis": {
            "gridcolor": "white",
            "linecolor": "white",
            "ticks": ""
           },
           "baxis": {
            "gridcolor": "white",
            "linecolor": "white",
            "ticks": ""
           },
           "bgcolor": "#E5ECF6",
           "caxis": {
            "gridcolor": "white",
            "linecolor": "white",
            "ticks": ""
           }
          },
          "title": {
           "x": 0.05
          },
          "xaxis": {
           "automargin": true,
           "gridcolor": "white",
           "linecolor": "white",
           "ticks": "",
           "title": {
            "standoff": 15
           },
           "zerolinecolor": "white",
           "zerolinewidth": 2
          },
          "yaxis": {
           "automargin": true,
           "gridcolor": "white",
           "linecolor": "white",
           "ticks": "",
           "title": {
            "standoff": 15
           },
           "zerolinecolor": "white",
           "zerolinewidth": 2
          }
         }
        },
        "title": {
         "text": "Site: PA (Global)",
         "x": 0.5
        },
        "width": 1400,
        "xaxis": {
         "anchor": "y",
         "domain": [
          0,
          1
         ],
         "tickfont": {
          "size": 20
         },
         "title": {
          "text": ""
         }
        },
        "yaxis": {
         "anchor": "x",
         "domain": [
          0,
          1
         ],
         "range": [
          0,
          1.05
         ],
         "tickformat": ".1f",
         "title": {
          "text": ""
         }
        }
       }
      },
      "text/html": [
       "<div>                            <div id=\"5311af25-6879-4240-883e-ef5b614185f7\" class=\"plotly-graph-div\" style=\"height:400px; width:1400px;\"></div>            <script type=\"text/javascript\">                require([\"plotly\"], function(Plotly) {                    window.PLOTLYENV=window.PLOTLYENV || {};                                    if (document.getElementById(\"5311af25-6879-4240-883e-ef5b614185f7\")) {                    Plotly.newPlot(                        \"5311af25-6879-4240-883e-ef5b614185f7\",                        [{\"alignmentgroup\":\"True\",\"hovertemplate\":\"name=Opt (Diverse Cond)\\u003cbr\\u003eCloud Condition=Global\\u003cbr\\u003emetric=%{x}\\u003cbr\\u003evalue=%{text}\\u003cextra\\u003e\\u003c\\u002fextra\\u003e\",\"legendgroup\":\"Opt (Diverse Cond)\",\"marker\":{\"color\":\"#636efa\",\"pattern\":{\"shape\":\"\"}},\"name\":\"Opt (Diverse Cond)\",\"offsetgroup\":\"Opt (Diverse Cond)\",\"orientation\":\"v\",\"showlegend\":true,\"text\":[0.2508237049077937,0.7367089520513376,0.37423383923576287],\"textposition\":\"outside\",\"x\":[\"Precision\",\"Recall\",\"F1-Score\"],\"xaxis\":\"x\",\"y\":[0.2508237049077937,0.7367089520513376,0.37423383923576287],\"yaxis\":\"y\",\"type\":\"bar\",\"texttemplate\":\"%{text:.2f}\"},{\"alignmentgroup\":\"True\",\"hovertemplate\":\"name=Opt (Cloud-free)\\u003cbr\\u003eCloud Condition=Global\\u003cbr\\u003emetric=%{x}\\u003cbr\\u003evalue=%{text}\\u003cextra\\u003e\\u003c\\u002fextra\\u003e\",\"legendgroup\":\"Opt (Cloud-free)\",\"marker\":{\"color\":\"#EF553B\",\"pattern\":{\"shape\":\"\"}},\"name\":\"Opt (Cloud-free)\",\"offsetgroup\":\"Opt (Cloud-free)\",\"orientation\":\"v\",\"showlegend\":true,\"text\":[0.7203688564220224,0.8881865426338047,0.7955236411280577],\"textposition\":\"outside\",\"x\":[\"Precision\",\"Recall\",\"F1-Score\"],\"xaxis\":\"x\",\"y\":[0.7203688564220224,0.8881865426338047,0.7955236411280577],\"yaxis\":\"y\",\"type\":\"bar\",\"texttemplate\":\"%{text:.2f}\"},{\"alignmentgroup\":\"True\",\"hovertemplate\":\"name=SAR (12 Avg Images)\\u003cbr\\u003eCloud Condition=Global\\u003cbr\\u003emetric=%{x}\\u003cbr\\u003evalue=%{text}\\u003cextra\\u003e\\u003c\\u002fextra\\u003e\",\"legendgroup\":\"SAR (12 Avg Images)\",\"marker\":{\"color\":\"#00cc96\",\"pattern\":{\"shape\":\"\"}},\"name\":\"SAR (12 Avg Images)\",\"offsetgroup\":\"SAR (12 Avg Images)\",\"orientation\":\"v\",\"showlegend\":true,\"text\":[0.6689654108554166,0.9042240190398461,0.7690041401340949],\"textposition\":\"outside\",\"x\":[\"Precision\",\"Recall\",\"F1-Score\"],\"xaxis\":\"x\",\"y\":[0.6689654108554166,0.9042240190398461,0.7690041401340949],\"yaxis\":\"y\",\"type\":\"bar\",\"texttemplate\":\"%{text:.2f}\"},{\"alignmentgroup\":\"True\",\"hovertemplate\":\"name=Early Fusion (Diverse Opt + 12 Avg SAR)\\u003cbr\\u003eCloud Condition=Global\\u003cbr\\u003emetric=%{x}\\u003cbr\\u003evalue=%{text}\\u003cextra\\u003e\\u003c\\u002fextra\\u003e\",\"legendgroup\":\"Early Fusion (Diverse Opt + 12 Avg SAR)\",\"marker\":{\"color\":\"#ab63fa\",\"pattern\":{\"shape\":\"\"}},\"name\":\"Early Fusion (Diverse Opt + 12 Avg SAR)\",\"offsetgroup\":\"Early Fusion (Diverse Opt + 12 Avg SAR)\",\"orientation\":\"v\",\"showlegend\":true,\"text\":[0.40001533457281635,0.8544467051812396,0.5449216856569439],\"textposition\":\"outside\",\"x\":[\"Precision\",\"Recall\",\"F1-Score\"],\"xaxis\":\"x\",\"y\":[0.40001533457281635,0.8544467051812396,0.5449216856569439],\"yaxis\":\"y\",\"type\":\"bar\",\"texttemplate\":\"%{text:.2f}\"},{\"alignmentgroup\":\"True\",\"hovertemplate\":\"name=Joint Fusion (Diverse Opt + 12 Avg SAR)\\u003cbr\\u003eCloud Condition=Global\\u003cbr\\u003emetric=%{x}\\u003cbr\\u003evalue=%{text}\\u003cextra\\u003e\\u003c\\u002fextra\\u003e\",\"legendgroup\":\"Joint Fusion (Diverse Opt + 12 Avg SAR)\",\"marker\":{\"color\":\"#FFA15A\",\"pattern\":{\"shape\":\"\"}},\"name\":\"Joint Fusion (Diverse Opt + 12 Avg SAR)\",\"offsetgroup\":\"Joint Fusion (Diverse Opt + 12 Avg SAR)\",\"orientation\":\"v\",\"showlegend\":true,\"text\":[0.7025597759525819,0.8940439616644624,0.7868193097633872],\"textposition\":\"outside\",\"x\":[\"Precision\",\"Recall\",\"F1-Score\"],\"xaxis\":\"x\",\"y\":[0.7025597759525819,0.8940439616644624,0.7868193097633872],\"yaxis\":\"y\",\"type\":\"bar\",\"texttemplate\":\"%{text:.2f}\"},{\"alignmentgroup\":\"True\",\"hovertemplate\":\"name=Late Fusion (Diverse Opt + 12 Avg SAR)\\u003cbr\\u003eCloud Condition=Global\\u003cbr\\u003emetric=%{x}\\u003cbr\\u003evalue=%{text}\\u003cextra\\u003e\\u003c\\u002fextra\\u003e\",\"legendgroup\":\"Late Fusion (Diverse Opt + 12 Avg SAR)\",\"marker\":{\"color\":\"#19d3f3\",\"pattern\":{\"shape\":\"\"}},\"name\":\"Late Fusion (Diverse Opt + 12 Avg SAR)\",\"offsetgroup\":\"Late Fusion (Diverse Opt + 12 Avg SAR)\",\"orientation\":\"v\",\"showlegend\":true,\"text\":[0.7277974208335484,0.8861085401304762,0.7991884603986749],\"textposition\":\"outside\",\"x\":[\"Precision\",\"Recall\",\"F1-Score\"],\"xaxis\":\"x\",\"y\":[0.7277974208335484,0.8861085401304762,0.7991884603986749],\"yaxis\":\"y\",\"type\":\"bar\",\"texttemplate\":\"%{text:.2f}\"},{\"alignmentgroup\":\"True\",\"hovertemplate\":\"name=Joint Fusion - pretrained (Diverse Opt + 12 Avg SAR)\\u003cbr\\u003eCloud Condition=Global\\u003cbr\\u003emetric=%{x}\\u003cbr\\u003evalue=%{text}\\u003cextra\\u003e\\u003c\\u002fextra\\u003e\",\"legendgroup\":\"Joint Fusion - pretrained (Diverse Opt + 12 Avg SAR)\",\"marker\":{\"color\":\"#FF6692\",\"pattern\":{\"shape\":\"\"}},\"name\":\"Joint Fusion - pretrained (Diverse Opt + 12 Avg SAR)\",\"offsetgroup\":\"Joint Fusion - pretrained (Diverse Opt + 12 Avg SAR)\",\"orientation\":\"v\",\"showlegend\":true,\"text\":[0.7227752142120156,0.8930561061818367,0.7989433182810106],\"textposition\":\"outside\",\"x\":[\"Precision\",\"Recall\",\"F1-Score\"],\"xaxis\":\"x\",\"y\":[0.7227752142120156,0.8930561061818367,0.7989433182810106],\"yaxis\":\"y\",\"type\":\"bar\",\"texttemplate\":\"%{text:.2f}\"},{\"alignmentgroup\":\"True\",\"hovertemplate\":\"name=Late Fusion - pretrained (Diverse Opt + 12 Avg SAR)\\u003cbr\\u003eCloud Condition=Global\\u003cbr\\u003emetric=%{x}\\u003cbr\\u003evalue=%{text}\\u003cextra\\u003e\\u003c\\u002fextra\\u003e\",\"legendgroup\":\"Late Fusion - pretrained (Diverse Opt + 12 Avg SAR)\",\"marker\":{\"color\":\"#B6E880\",\"pattern\":{\"shape\":\"\"}},\"name\":\"Late Fusion - pretrained (Diverse Opt + 12 Avg SAR)\",\"offsetgroup\":\"Late Fusion - pretrained (Diverse Opt + 12 Avg SAR)\",\"orientation\":\"v\",\"showlegend\":true,\"text\":[0.6748596203778462,0.9047524624742894,0.7730770231370481],\"textposition\":\"outside\",\"x\":[\"Precision\",\"Recall\",\"F1-Score\"],\"xaxis\":\"x\",\"y\":[0.6748596203778462,0.9047524624742894,0.7730770231370481],\"yaxis\":\"y\",\"type\":\"bar\",\"texttemplate\":\"%{text:.2f}\"}],                        {\"template\":{\"data\":{\"histogram2dcontour\":[{\"type\":\"histogram2dcontour\",\"colorbar\":{\"outlinewidth\":0,\"ticks\":\"\"},\"colorscale\":[[0.0,\"#0d0887\"],[0.1111111111111111,\"#46039f\"],[0.2222222222222222,\"#7201a8\"],[0.3333333333333333,\"#9c179e\"],[0.4444444444444444,\"#bd3786\"],[0.5555555555555556,\"#d8576b\"],[0.6666666666666666,\"#ed7953\"],[0.7777777777777778,\"#fb9f3a\"],[0.8888888888888888,\"#fdca26\"],[1.0,\"#f0f921\"]]}],\"choropleth\":[{\"type\":\"choropleth\",\"colorbar\":{\"outlinewidth\":0,\"ticks\":\"\"}}],\"histogram2d\":[{\"type\":\"histogram2d\",\"colorbar\":{\"outlinewidth\":0,\"ticks\":\"\"},\"colorscale\":[[0.0,\"#0d0887\"],[0.1111111111111111,\"#46039f\"],[0.2222222222222222,\"#7201a8\"],[0.3333333333333333,\"#9c179e\"],[0.4444444444444444,\"#bd3786\"],[0.5555555555555556,\"#d8576b\"],[0.6666666666666666,\"#ed7953\"],[0.7777777777777778,\"#fb9f3a\"],[0.8888888888888888,\"#fdca26\"],[1.0,\"#f0f921\"]]}],\"heatmap\":[{\"type\":\"heatmap\",\"colorbar\":{\"outlinewidth\":0,\"ticks\":\"\"},\"colorscale\":[[0.0,\"#0d0887\"],[0.1111111111111111,\"#46039f\"],[0.2222222222222222,\"#7201a8\"],[0.3333333333333333,\"#9c179e\"],[0.4444444444444444,\"#bd3786\"],[0.5555555555555556,\"#d8576b\"],[0.6666666666666666,\"#ed7953\"],[0.7777777777777778,\"#fb9f3a\"],[0.8888888888888888,\"#fdca26\"],[1.0,\"#f0f921\"]]}],\"heatmapgl\":[{\"type\":\"heatmapgl\",\"colorbar\":{\"outlinewidth\":0,\"ticks\":\"\"},\"colorscale\":[[0.0,\"#0d0887\"],[0.1111111111111111,\"#46039f\"],[0.2222222222222222,\"#7201a8\"],[0.3333333333333333,\"#9c179e\"],[0.4444444444444444,\"#bd3786\"],[0.5555555555555556,\"#d8576b\"],[0.6666666666666666,\"#ed7953\"],[0.7777777777777778,\"#fb9f3a\"],[0.8888888888888888,\"#fdca26\"],[1.0,\"#f0f921\"]]}],\"contourcarpet\":[{\"type\":\"contourcarpet\",\"colorbar\":{\"outlinewidth\":0,\"ticks\":\"\"}}],\"contour\":[{\"type\":\"contour\",\"colorbar\":{\"outlinewidth\":0,\"ticks\":\"\"},\"colorscale\":[[0.0,\"#0d0887\"],[0.1111111111111111,\"#46039f\"],[0.2222222222222222,\"#7201a8\"],[0.3333333333333333,\"#9c179e\"],[0.4444444444444444,\"#bd3786\"],[0.5555555555555556,\"#d8576b\"],[0.6666666666666666,\"#ed7953\"],[0.7777777777777778,\"#fb9f3a\"],[0.8888888888888888,\"#fdca26\"],[1.0,\"#f0f921\"]]}],\"surface\":[{\"type\":\"surface\",\"colorbar\":{\"outlinewidth\":0,\"ticks\":\"\"},\"colorscale\":[[0.0,\"#0d0887\"],[0.1111111111111111,\"#46039f\"],[0.2222222222222222,\"#7201a8\"],[0.3333333333333333,\"#9c179e\"],[0.4444444444444444,\"#bd3786\"],[0.5555555555555556,\"#d8576b\"],[0.6666666666666666,\"#ed7953\"],[0.7777777777777778,\"#fb9f3a\"],[0.8888888888888888,\"#fdca26\"],[1.0,\"#f0f921\"]]}],\"mesh3d\":[{\"type\":\"mesh3d\",\"colorbar\":{\"outlinewidth\":0,\"ticks\":\"\"}}],\"scatter\":[{\"fillpattern\":{\"fillmode\":\"overlay\",\"size\":10,\"solidity\":0.2},\"type\":\"scatter\"}],\"parcoords\":[{\"type\":\"parcoords\",\"line\":{\"colorbar\":{\"outlinewidth\":0,\"ticks\":\"\"}}}],\"scatterpolargl\":[{\"type\":\"scatterpolargl\",\"marker\":{\"colorbar\":{\"outlinewidth\":0,\"ticks\":\"\"}}}],\"bar\":[{\"error_x\":{\"color\":\"#2a3f5f\"},\"error_y\":{\"color\":\"#2a3f5f\"},\"marker\":{\"line\":{\"color\":\"#E5ECF6\",\"width\":0.5},\"pattern\":{\"fillmode\":\"overlay\",\"size\":10,\"solidity\":0.2}},\"type\":\"bar\"}],\"scattergeo\":[{\"type\":\"scattergeo\",\"marker\":{\"colorbar\":{\"outlinewidth\":0,\"ticks\":\"\"}}}],\"scatterpolar\":[{\"type\":\"scatterpolar\",\"marker\":{\"colorbar\":{\"outlinewidth\":0,\"ticks\":\"\"}}}],\"histogram\":[{\"marker\":{\"pattern\":{\"fillmode\":\"overlay\",\"size\":10,\"solidity\":0.2}},\"type\":\"histogram\"}],\"scattergl\":[{\"type\":\"scattergl\",\"marker\":{\"colorbar\":{\"outlinewidth\":0,\"ticks\":\"\"}}}],\"scatter3d\":[{\"type\":\"scatter3d\",\"line\":{\"colorbar\":{\"outlinewidth\":0,\"ticks\":\"\"}},\"marker\":{\"colorbar\":{\"outlinewidth\":0,\"ticks\":\"\"}}}],\"scattermapbox\":[{\"type\":\"scattermapbox\",\"marker\":{\"colorbar\":{\"outlinewidth\":0,\"ticks\":\"\"}}}],\"scatterternary\":[{\"type\":\"scatterternary\",\"marker\":{\"colorbar\":{\"outlinewidth\":0,\"ticks\":\"\"}}}],\"scattercarpet\":[{\"type\":\"scattercarpet\",\"marker\":{\"colorbar\":{\"outlinewidth\":0,\"ticks\":\"\"}}}],\"carpet\":[{\"aaxis\":{\"endlinecolor\":\"#2a3f5f\",\"gridcolor\":\"white\",\"linecolor\":\"white\",\"minorgridcolor\":\"white\",\"startlinecolor\":\"#2a3f5f\"},\"baxis\":{\"endlinecolor\":\"#2a3f5f\",\"gridcolor\":\"white\",\"linecolor\":\"white\",\"minorgridcolor\":\"white\",\"startlinecolor\":\"#2a3f5f\"},\"type\":\"carpet\"}],\"table\":[{\"cells\":{\"fill\":{\"color\":\"#EBF0F8\"},\"line\":{\"color\":\"white\"}},\"header\":{\"fill\":{\"color\":\"#C8D4E3\"},\"line\":{\"color\":\"white\"}},\"type\":\"table\"}],\"barpolar\":[{\"marker\":{\"line\":{\"color\":\"#E5ECF6\",\"width\":0.5},\"pattern\":{\"fillmode\":\"overlay\",\"size\":10,\"solidity\":0.2}},\"type\":\"barpolar\"}],\"pie\":[{\"automargin\":true,\"type\":\"pie\"}]},\"layout\":{\"autotypenumbers\":\"strict\",\"colorway\":[\"#636efa\",\"#EF553B\",\"#00cc96\",\"#ab63fa\",\"#FFA15A\",\"#19d3f3\",\"#FF6692\",\"#B6E880\",\"#FF97FF\",\"#FECB52\"],\"font\":{\"color\":\"#2a3f5f\"},\"hovermode\":\"closest\",\"hoverlabel\":{\"align\":\"left\"},\"paper_bgcolor\":\"white\",\"plot_bgcolor\":\"#E5ECF6\",\"polar\":{\"bgcolor\":\"#E5ECF6\",\"angularaxis\":{\"gridcolor\":\"white\",\"linecolor\":\"white\",\"ticks\":\"\"},\"radialaxis\":{\"gridcolor\":\"white\",\"linecolor\":\"white\",\"ticks\":\"\"}},\"ternary\":{\"bgcolor\":\"#E5ECF6\",\"aaxis\":{\"gridcolor\":\"white\",\"linecolor\":\"white\",\"ticks\":\"\"},\"baxis\":{\"gridcolor\":\"white\",\"linecolor\":\"white\",\"ticks\":\"\"},\"caxis\":{\"gridcolor\":\"white\",\"linecolor\":\"white\",\"ticks\":\"\"}},\"coloraxis\":{\"colorbar\":{\"outlinewidth\":0,\"ticks\":\"\"}},\"colorscale\":{\"sequential\":[[0.0,\"#0d0887\"],[0.1111111111111111,\"#46039f\"],[0.2222222222222222,\"#7201a8\"],[0.3333333333333333,\"#9c179e\"],[0.4444444444444444,\"#bd3786\"],[0.5555555555555556,\"#d8576b\"],[0.6666666666666666,\"#ed7953\"],[0.7777777777777778,\"#fb9f3a\"],[0.8888888888888888,\"#fdca26\"],[1.0,\"#f0f921\"]],\"sequentialminus\":[[0.0,\"#0d0887\"],[0.1111111111111111,\"#46039f\"],[0.2222222222222222,\"#7201a8\"],[0.3333333333333333,\"#9c179e\"],[0.4444444444444444,\"#bd3786\"],[0.5555555555555556,\"#d8576b\"],[0.6666666666666666,\"#ed7953\"],[0.7777777777777778,\"#fb9f3a\"],[0.8888888888888888,\"#fdca26\"],[1.0,\"#f0f921\"]],\"diverging\":[[0,\"#8e0152\"],[0.1,\"#c51b7d\"],[0.2,\"#de77ae\"],[0.3,\"#f1b6da\"],[0.4,\"#fde0ef\"],[0.5,\"#f7f7f7\"],[0.6,\"#e6f5d0\"],[0.7,\"#b8e186\"],[0.8,\"#7fbc41\"],[0.9,\"#4d9221\"],[1,\"#276419\"]]},\"xaxis\":{\"gridcolor\":\"white\",\"linecolor\":\"white\",\"ticks\":\"\",\"title\":{\"standoff\":15},\"zerolinecolor\":\"white\",\"automargin\":true,\"zerolinewidth\":2},\"yaxis\":{\"gridcolor\":\"white\",\"linecolor\":\"white\",\"ticks\":\"\",\"title\":{\"standoff\":15},\"zerolinecolor\":\"white\",\"automargin\":true,\"zerolinewidth\":2},\"scene\":{\"xaxis\":{\"backgroundcolor\":\"#E5ECF6\",\"gridcolor\":\"white\",\"linecolor\":\"white\",\"showbackground\":true,\"ticks\":\"\",\"zerolinecolor\":\"white\",\"gridwidth\":2},\"yaxis\":{\"backgroundcolor\":\"#E5ECF6\",\"gridcolor\":\"white\",\"linecolor\":\"white\",\"showbackground\":true,\"ticks\":\"\",\"zerolinecolor\":\"white\",\"gridwidth\":2},\"zaxis\":{\"backgroundcolor\":\"#E5ECF6\",\"gridcolor\":\"white\",\"linecolor\":\"white\",\"showbackground\":true,\"ticks\":\"\",\"zerolinecolor\":\"white\",\"gridwidth\":2}},\"shapedefaults\":{\"line\":{\"color\":\"#2a3f5f\"}},\"annotationdefaults\":{\"arrowcolor\":\"#2a3f5f\",\"arrowhead\":0,\"arrowwidth\":1},\"geo\":{\"bgcolor\":\"white\",\"landcolor\":\"#E5ECF6\",\"subunitcolor\":\"white\",\"showland\":true,\"showlakes\":true,\"lakecolor\":\"white\"},\"title\":{\"x\":0.05},\"mapbox\":{\"style\":\"light\"}}},\"xaxis\":{\"anchor\":\"y\",\"domain\":[0.0,1.0],\"title\":{\"text\":\"\"},\"tickfont\":{\"size\":20}},\"yaxis\":{\"anchor\":\"x\",\"domain\":[0.0,1.0],\"title\":{\"text\":\"\"},\"range\":[0,1.05],\"tickformat\":\".1f\"},\"annotations\":[{\"font\":{},\"showarrow\":false,\"text\":\"\",\"x\":0.5,\"xanchor\":\"center\",\"xref\":\"paper\",\"y\":1.0,\"yanchor\":\"bottom\",\"yref\":\"paper\"}],\"legend\":{\"title\":{\"text\":\"Model\"},\"tracegroupgap\":0,\"font\":{\"size\":16},\"orientation\":\"h\"},\"margin\":{\"t\":60},\"barmode\":\"group\",\"height\":400,\"width\":1400,\"font\":{\"size\":14},\"title\":{\"text\":\"Site: PA (Global)\",\"x\":0.5},\"bargap\":0.3},                        {\"responsive\": true}                    ).then(function(){\n",
       "                            \n",
       "var gd = document.getElementById('5311af25-6879-4240-883e-ef5b614185f7');\n",
       "var x = new MutationObserver(function (mutations, observer) {{\n",
       "        var display = window.getComputedStyle(gd).display;\n",
       "        if (!display || display === 'none') {{\n",
       "            console.log([gd, 'removed!']);\n",
       "            Plotly.purge(gd);\n",
       "            observer.disconnect();\n",
       "        }}\n",
       "}});\n",
       "\n",
       "// Listen for the removal of the full notebook cells\n",
       "var notebookContainer = gd.closest('#notebook-container');\n",
       "if (notebookContainer) {{\n",
       "    x.observe(notebookContainer, {childList: true});\n",
       "}}\n",
       "\n",
       "// Listen for the clearing of the current output cell\n",
       "var outputEl = gd.closest('.output');\n",
       "if (outputEl) {{\n",
       "    x.observe(outputEl, {childList: true});\n",
       "}}\n",
       "\n",
       "                        })                };                });            </script>        </div>"
      ]
     },
     "metadata": {},
     "output_type": "display_data"
    }
   ],
   "source": [
    "experiments = {\n",
    "    'Opt (Diverse Cond)': 1,\n",
    "    'Opt (Cloud-free)': 6,\n",
    "    'SAR (12 Avg Images)': 2,\n",
    "    'Early Fusion (Diverse Opt + 12 Avg SAR)': 3,\n",
    "    'Joint Fusion (Diverse Opt + 12 Avg SAR)': 4,\n",
    "    'Late Fusion (Diverse Opt + 12 Avg SAR)': 5,\n",
    "    'Joint Fusion - pretrained (Diverse Opt + 12 Avg SAR)': 11,\n",
    "    'Late Fusion - pretrained (Diverse Opt + 12 Avg SAR)': 12,\n",
    "}\n",
    "pixel_cond = 'Global'\n",
    "#pixel_cond = 'Cloudy'\n",
    "#pixel_cond = 'No Cloud'\n",
    "exp_results = results(experiments)\n",
    "#exp_results = exp_results.loc[exp_results['Cloud Condition'] == 'Global']\n",
    "#exp_results = exp_results.loc[~((exp_results['Cloud Condition'] != 'Global') & ( (exp_results['name'] == 'SAR (12 Avg Images)') | (exp_results['name'] == 'Opt (Cloud-free)') ) )]\n",
    "exp_results = exp_results.loc[exp_results['Cloud Condition'] == pixel_cond]\n",
    "fig = px.bar(exp_results, x = 'metric', y= 'value', color='name', barmode='group', text='value', facet_col = 'Cloud Condition', width=1400, height=400)\n",
    "#fig.update_xaxes(categoryorder='array', categoryarray= ['No Cloud', 'Cloudy', 'Global'])\n",
    "fig.update_traces(texttemplate='%{text:.2f}', textposition='outside')\n",
    "fig.update_yaxes(range=[0, 1.05], title_text = '', tickformat = '.1f') \n",
    "fig.update_xaxes(\n",
    "    title_text = '',\n",
    "    tickfont_size = 20\n",
    "    ) \n",
    "fig.update_layout(\n",
    "    legend_title_text = 'Model', \n",
    "    legend_font_size = 16,\n",
    "    legend_orientation = 'h',\n",
    "    font_size = 14,\n",
    "    bargap=0.30,\n",
    "    title_text = f'Site: {site_label} ({pixel_cond})',\n",
    "    title_x = 0.5\n",
    "    )\n",
    "#fig.for_each_annotation(lambda a: a.update(text=a.text.split(\"=\")[-1]))\n",
    "fig.for_each_annotation(lambda a: a.update(text=''))\n",
    "fig.show()"
   ]
  },
  {
   "cell_type": "code",
   "execution_count": 15,
   "metadata": {},
   "outputs": [
    {
     "data": {
      "application/vnd.plotly.v1+json": {
       "config": {
        "plotlyServerURL": "https://plot.ly"
       },
       "data": [
        {
         "alignmentgroup": "True",
         "hovertemplate": "name=SAR (12 Avg Images)<br>metric=Precision<br>Cloud Condition=%{x}<br>value=%{text}<extra></extra>",
         "legendgroup": "SAR (12 Avg Images)",
         "marker": {
          "color": "#636efa",
          "pattern": {
           "shape": ""
          }
         },
         "name": "SAR (12 Avg Images)",
         "offsetgroup": "SAR (12 Avg Images)",
         "orientation": "v",
         "showlegend": true,
         "text": [
          0.6689654108554166
         ],
         "textposition": "outside",
         "texttemplate": "%{text:.2f}",
         "type": "bar",
         "x": [
          "Global"
         ],
         "xaxis": "x",
         "y": [
          0.6689654108554166
         ],
         "yaxis": "y"
        },
        {
         "alignmentgroup": "True",
         "hovertemplate": "name=SAR (12 Avg Images)<br>metric=Recall<br>Cloud Condition=%{x}<br>value=%{text}<extra></extra>",
         "legendgroup": "SAR (12 Avg Images)",
         "marker": {
          "color": "#636efa",
          "pattern": {
           "shape": ""
          }
         },
         "name": "SAR (12 Avg Images)",
         "offsetgroup": "SAR (12 Avg Images)",
         "orientation": "v",
         "showlegend": false,
         "text": [
          0.9042240190398461
         ],
         "textposition": "outside",
         "texttemplate": "%{text:.2f}",
         "type": "bar",
         "x": [
          "Global"
         ],
         "xaxis": "x2",
         "y": [
          0.9042240190398461
         ],
         "yaxis": "y2"
        },
        {
         "alignmentgroup": "True",
         "hovertemplate": "name=SAR (12 Avg Images)<br>metric=F1-Score<br>Cloud Condition=%{x}<br>value=%{text}<extra></extra>",
         "legendgroup": "SAR (12 Avg Images)",
         "marker": {
          "color": "#636efa",
          "pattern": {
           "shape": ""
          }
         },
         "name": "SAR (12 Avg Images)",
         "offsetgroup": "SAR (12 Avg Images)",
         "orientation": "v",
         "showlegend": false,
         "text": [
          0.7690041401340949
         ],
         "textposition": "outside",
         "texttemplate": "%{text:.2f}",
         "type": "bar",
         "x": [
          "Global"
         ],
         "xaxis": "x3",
         "y": [
          0.7690041401340949
         ],
         "yaxis": "y3"
        },
        {
         "alignmentgroup": "True",
         "hovertemplate": "name=SAR (2 Avg Images)<br>metric=Precision<br>Cloud Condition=%{x}<br>value=%{text}<extra></extra>",
         "legendgroup": "SAR (2 Avg Images)",
         "marker": {
          "color": "#EF553B",
          "pattern": {
           "shape": ""
          }
         },
         "name": "SAR (2 Avg Images)",
         "offsetgroup": "SAR (2 Avg Images)",
         "orientation": "v",
         "showlegend": true,
         "text": [
          0.6368742606289008
         ],
         "textposition": "outside",
         "texttemplate": "%{text:.2f}",
         "type": "bar",
         "x": [
          "Global"
         ],
         "xaxis": "x",
         "y": [
          0.6368742606289008
         ],
         "yaxis": "y"
        },
        {
         "alignmentgroup": "True",
         "hovertemplate": "name=SAR (2 Avg Images)<br>metric=Recall<br>Cloud Condition=%{x}<br>value=%{text}<extra></extra>",
         "legendgroup": "SAR (2 Avg Images)",
         "marker": {
          "color": "#EF553B",
          "pattern": {
           "shape": ""
          }
         },
         "name": "SAR (2 Avg Images)",
         "offsetgroup": "SAR (2 Avg Images)",
         "orientation": "v",
         "showlegend": false,
         "text": [
          0.9085155003278894
         ],
         "textposition": "outside",
         "texttemplate": "%{text:.2f}",
         "type": "bar",
         "x": [
          "Global"
         ],
         "xaxis": "x2",
         "y": [
          0.9085155003278894
         ],
         "yaxis": "y2"
        },
        {
         "alignmentgroup": "True",
         "hovertemplate": "name=SAR (2 Avg Images)<br>metric=F1-Score<br>Cloud Condition=%{x}<br>value=%{text}<extra></extra>",
         "legendgroup": "SAR (2 Avg Images)",
         "marker": {
          "color": "#EF553B",
          "pattern": {
           "shape": ""
          }
         },
         "name": "SAR (2 Avg Images)",
         "offsetgroup": "SAR (2 Avg Images)",
         "orientation": "v",
         "showlegend": false,
         "text": [
          0.748820979871108
         ],
         "textposition": "outside",
         "texttemplate": "%{text:.2f}",
         "type": "bar",
         "x": [
          "Global"
         ],
         "xaxis": "x3",
         "y": [
          0.748820979871108
         ],
         "yaxis": "y3"
        },
        {
         "alignmentgroup": "True",
         "hovertemplate": "name=SAR (2 Single Images)<br>metric=Precision<br>Cloud Condition=%{x}<br>value=%{text}<extra></extra>",
         "legendgroup": "SAR (2 Single Images)",
         "marker": {
          "color": "#00cc96",
          "pattern": {
           "shape": ""
          }
         },
         "name": "SAR (2 Single Images)",
         "offsetgroup": "SAR (2 Single Images)",
         "orientation": "v",
         "showlegend": true,
         "text": [
          0.6568502889839448
         ],
         "textposition": "outside",
         "texttemplate": "%{text:.2f}",
         "type": "bar",
         "x": [
          "Global"
         ],
         "xaxis": "x",
         "y": [
          0.6568502889839448
         ],
         "yaxis": "y"
        },
        {
         "alignmentgroup": "True",
         "hovertemplate": "name=SAR (2 Single Images)<br>metric=Recall<br>Cloud Condition=%{x}<br>value=%{text}<extra></extra>",
         "legendgroup": "SAR (2 Single Images)",
         "marker": {
          "color": "#00cc96",
          "pattern": {
           "shape": ""
          }
         },
         "name": "SAR (2 Single Images)",
         "offsetgroup": "SAR (2 Single Images)",
         "orientation": "v",
         "showlegend": false,
         "text": [
          0.9160055369651359
         ],
         "textposition": "outside",
         "texttemplate": "%{text:.2f}",
         "type": "bar",
         "x": [
          "Global"
         ],
         "xaxis": "x2",
         "y": [
          0.9160055369651359
         ],
         "yaxis": "y2"
        },
        {
         "alignmentgroup": "True",
         "hovertemplate": "name=SAR (2 Single Images)<br>metric=F1-Score<br>Cloud Condition=%{x}<br>value=%{text}<extra></extra>",
         "legendgroup": "SAR (2 Single Images)",
         "marker": {
          "color": "#00cc96",
          "pattern": {
           "shape": ""
          }
         },
         "name": "SAR (2 Single Images)",
         "offsetgroup": "SAR (2 Single Images)",
         "orientation": "v",
         "showlegend": false,
         "text": [
          0.7650777544132281
         ],
         "textposition": "outside",
         "texttemplate": "%{text:.2f}",
         "type": "bar",
         "x": [
          "Global"
         ],
         "xaxis": "x3",
         "y": [
          0.7650777544132281
         ],
         "yaxis": "y3"
        },
        {
         "alignmentgroup": "True",
         "hovertemplate": "name=SAR (All Single Images)<br>metric=Precision<br>Cloud Condition=%{x}<br>value=%{text}<extra></extra>",
         "legendgroup": "SAR (All Single Images)",
         "marker": {
          "color": "#ab63fa",
          "pattern": {
           "shape": ""
          }
         },
         "name": "SAR (All Single Images)",
         "offsetgroup": "SAR (All Single Images)",
         "orientation": "v",
         "showlegend": true,
         "text": [
          0.7199652565454187
         ],
         "textposition": "outside",
         "texttemplate": "%{text:.2f}",
         "type": "bar",
         "x": [
          "Global"
         ],
         "xaxis": "x",
         "y": [
          0.7199652565454187
         ],
         "yaxis": "y"
        },
        {
         "alignmentgroup": "True",
         "hovertemplate": "name=SAR (All Single Images)<br>metric=Recall<br>Cloud Condition=%{x}<br>value=%{text}<extra></extra>",
         "legendgroup": "SAR (All Single Images)",
         "marker": {
          "color": "#ab63fa",
          "pattern": {
           "shape": ""
          }
         },
         "name": "SAR (All Single Images)",
         "offsetgroup": "SAR (All Single Images)",
         "orientation": "v",
         "showlegend": false,
         "text": [
          0.905292480150861
         ],
         "textposition": "outside",
         "texttemplate": "%{text:.2f}",
         "type": "bar",
         "x": [
          "Global"
         ],
         "xaxis": "x2",
         "y": [
          0.905292480150861
         ],
         "yaxis": "y2"
        },
        {
         "alignmentgroup": "True",
         "hovertemplate": "name=SAR (All Single Images)<br>metric=F1-Score<br>Cloud Condition=%{x}<br>value=%{text}<extra></extra>",
         "legendgroup": "SAR (All Single Images)",
         "marker": {
          "color": "#ab63fa",
          "pattern": {
           "shape": ""
          }
         },
         "name": "SAR (All Single Images)",
         "offsetgroup": "SAR (All Single Images)",
         "orientation": "v",
         "showlegend": false,
         "text": [
          0.802062488926031
         ],
         "textposition": "outside",
         "texttemplate": "%{text:.2f}",
         "type": "bar",
         "x": [
          "Global"
         ],
         "xaxis": "x3",
         "y": [
          0.802062488926031
         ],
         "yaxis": "y3"
        }
       ],
       "layout": {
        "annotations": [
         {
          "font": {},
          "showarrow": false,
          "text": "Precision",
          "x": 0.15999999999999998,
          "xanchor": "center",
          "xref": "paper",
          "y": 1,
          "yanchor": "bottom",
          "yref": "paper"
         },
         {
          "font": {},
          "showarrow": false,
          "text": "Recall",
          "x": 0.49999999999999994,
          "xanchor": "center",
          "xref": "paper",
          "y": 1,
          "yanchor": "bottom",
          "yref": "paper"
         },
         {
          "font": {},
          "showarrow": false,
          "text": "F1-Score",
          "x": 0.8399999999999999,
          "xanchor": "center",
          "xref": "paper",
          "y": 1,
          "yanchor": "bottom",
          "yref": "paper"
         }
        ],
        "bargap": 0.3,
        "barmode": "group",
        "font": {
         "size": 14
        },
        "height": 400,
        "legend": {
         "font": {
          "size": 16
         },
         "title": {
          "text": "Model"
         },
         "tracegroupgap": 0
        },
        "margin": {
         "t": 60
        },
        "template": {
         "data": {
          "bar": [
           {
            "error_x": {
             "color": "#2a3f5f"
            },
            "error_y": {
             "color": "#2a3f5f"
            },
            "marker": {
             "line": {
              "color": "#E5ECF6",
              "width": 0.5
             },
             "pattern": {
              "fillmode": "overlay",
              "size": 10,
              "solidity": 0.2
             }
            },
            "type": "bar"
           }
          ],
          "barpolar": [
           {
            "marker": {
             "line": {
              "color": "#E5ECF6",
              "width": 0.5
             },
             "pattern": {
              "fillmode": "overlay",
              "size": 10,
              "solidity": 0.2
             }
            },
            "type": "barpolar"
           }
          ],
          "carpet": [
           {
            "aaxis": {
             "endlinecolor": "#2a3f5f",
             "gridcolor": "white",
             "linecolor": "white",
             "minorgridcolor": "white",
             "startlinecolor": "#2a3f5f"
            },
            "baxis": {
             "endlinecolor": "#2a3f5f",
             "gridcolor": "white",
             "linecolor": "white",
             "minorgridcolor": "white",
             "startlinecolor": "#2a3f5f"
            },
            "type": "carpet"
           }
          ],
          "choropleth": [
           {
            "colorbar": {
             "outlinewidth": 0,
             "ticks": ""
            },
            "type": "choropleth"
           }
          ],
          "contour": [
           {
            "colorbar": {
             "outlinewidth": 0,
             "ticks": ""
            },
            "colorscale": [
             [
              0,
              "#0d0887"
             ],
             [
              0.1111111111111111,
              "#46039f"
             ],
             [
              0.2222222222222222,
              "#7201a8"
             ],
             [
              0.3333333333333333,
              "#9c179e"
             ],
             [
              0.4444444444444444,
              "#bd3786"
             ],
             [
              0.5555555555555556,
              "#d8576b"
             ],
             [
              0.6666666666666666,
              "#ed7953"
             ],
             [
              0.7777777777777778,
              "#fb9f3a"
             ],
             [
              0.8888888888888888,
              "#fdca26"
             ],
             [
              1,
              "#f0f921"
             ]
            ],
            "type": "contour"
           }
          ],
          "contourcarpet": [
           {
            "colorbar": {
             "outlinewidth": 0,
             "ticks": ""
            },
            "type": "contourcarpet"
           }
          ],
          "heatmap": [
           {
            "colorbar": {
             "outlinewidth": 0,
             "ticks": ""
            },
            "colorscale": [
             [
              0,
              "#0d0887"
             ],
             [
              0.1111111111111111,
              "#46039f"
             ],
             [
              0.2222222222222222,
              "#7201a8"
             ],
             [
              0.3333333333333333,
              "#9c179e"
             ],
             [
              0.4444444444444444,
              "#bd3786"
             ],
             [
              0.5555555555555556,
              "#d8576b"
             ],
             [
              0.6666666666666666,
              "#ed7953"
             ],
             [
              0.7777777777777778,
              "#fb9f3a"
             ],
             [
              0.8888888888888888,
              "#fdca26"
             ],
             [
              1,
              "#f0f921"
             ]
            ],
            "type": "heatmap"
           }
          ],
          "heatmapgl": [
           {
            "colorbar": {
             "outlinewidth": 0,
             "ticks": ""
            },
            "colorscale": [
             [
              0,
              "#0d0887"
             ],
             [
              0.1111111111111111,
              "#46039f"
             ],
             [
              0.2222222222222222,
              "#7201a8"
             ],
             [
              0.3333333333333333,
              "#9c179e"
             ],
             [
              0.4444444444444444,
              "#bd3786"
             ],
             [
              0.5555555555555556,
              "#d8576b"
             ],
             [
              0.6666666666666666,
              "#ed7953"
             ],
             [
              0.7777777777777778,
              "#fb9f3a"
             ],
             [
              0.8888888888888888,
              "#fdca26"
             ],
             [
              1,
              "#f0f921"
             ]
            ],
            "type": "heatmapgl"
           }
          ],
          "histogram": [
           {
            "marker": {
             "pattern": {
              "fillmode": "overlay",
              "size": 10,
              "solidity": 0.2
             }
            },
            "type": "histogram"
           }
          ],
          "histogram2d": [
           {
            "colorbar": {
             "outlinewidth": 0,
             "ticks": ""
            },
            "colorscale": [
             [
              0,
              "#0d0887"
             ],
             [
              0.1111111111111111,
              "#46039f"
             ],
             [
              0.2222222222222222,
              "#7201a8"
             ],
             [
              0.3333333333333333,
              "#9c179e"
             ],
             [
              0.4444444444444444,
              "#bd3786"
             ],
             [
              0.5555555555555556,
              "#d8576b"
             ],
             [
              0.6666666666666666,
              "#ed7953"
             ],
             [
              0.7777777777777778,
              "#fb9f3a"
             ],
             [
              0.8888888888888888,
              "#fdca26"
             ],
             [
              1,
              "#f0f921"
             ]
            ],
            "type": "histogram2d"
           }
          ],
          "histogram2dcontour": [
           {
            "colorbar": {
             "outlinewidth": 0,
             "ticks": ""
            },
            "colorscale": [
             [
              0,
              "#0d0887"
             ],
             [
              0.1111111111111111,
              "#46039f"
             ],
             [
              0.2222222222222222,
              "#7201a8"
             ],
             [
              0.3333333333333333,
              "#9c179e"
             ],
             [
              0.4444444444444444,
              "#bd3786"
             ],
             [
              0.5555555555555556,
              "#d8576b"
             ],
             [
              0.6666666666666666,
              "#ed7953"
             ],
             [
              0.7777777777777778,
              "#fb9f3a"
             ],
             [
              0.8888888888888888,
              "#fdca26"
             ],
             [
              1,
              "#f0f921"
             ]
            ],
            "type": "histogram2dcontour"
           }
          ],
          "mesh3d": [
           {
            "colorbar": {
             "outlinewidth": 0,
             "ticks": ""
            },
            "type": "mesh3d"
           }
          ],
          "parcoords": [
           {
            "line": {
             "colorbar": {
              "outlinewidth": 0,
              "ticks": ""
             }
            },
            "type": "parcoords"
           }
          ],
          "pie": [
           {
            "automargin": true,
            "type": "pie"
           }
          ],
          "scatter": [
           {
            "fillpattern": {
             "fillmode": "overlay",
             "size": 10,
             "solidity": 0.2
            },
            "type": "scatter"
           }
          ],
          "scatter3d": [
           {
            "line": {
             "colorbar": {
              "outlinewidth": 0,
              "ticks": ""
             }
            },
            "marker": {
             "colorbar": {
              "outlinewidth": 0,
              "ticks": ""
             }
            },
            "type": "scatter3d"
           }
          ],
          "scattercarpet": [
           {
            "marker": {
             "colorbar": {
              "outlinewidth": 0,
              "ticks": ""
             }
            },
            "type": "scattercarpet"
           }
          ],
          "scattergeo": [
           {
            "marker": {
             "colorbar": {
              "outlinewidth": 0,
              "ticks": ""
             }
            },
            "type": "scattergeo"
           }
          ],
          "scattergl": [
           {
            "marker": {
             "colorbar": {
              "outlinewidth": 0,
              "ticks": ""
             }
            },
            "type": "scattergl"
           }
          ],
          "scattermapbox": [
           {
            "marker": {
             "colorbar": {
              "outlinewidth": 0,
              "ticks": ""
             }
            },
            "type": "scattermapbox"
           }
          ],
          "scatterpolar": [
           {
            "marker": {
             "colorbar": {
              "outlinewidth": 0,
              "ticks": ""
             }
            },
            "type": "scatterpolar"
           }
          ],
          "scatterpolargl": [
           {
            "marker": {
             "colorbar": {
              "outlinewidth": 0,
              "ticks": ""
             }
            },
            "type": "scatterpolargl"
           }
          ],
          "scatterternary": [
           {
            "marker": {
             "colorbar": {
              "outlinewidth": 0,
              "ticks": ""
             }
            },
            "type": "scatterternary"
           }
          ],
          "surface": [
           {
            "colorbar": {
             "outlinewidth": 0,
             "ticks": ""
            },
            "colorscale": [
             [
              0,
              "#0d0887"
             ],
             [
              0.1111111111111111,
              "#46039f"
             ],
             [
              0.2222222222222222,
              "#7201a8"
             ],
             [
              0.3333333333333333,
              "#9c179e"
             ],
             [
              0.4444444444444444,
              "#bd3786"
             ],
             [
              0.5555555555555556,
              "#d8576b"
             ],
             [
              0.6666666666666666,
              "#ed7953"
             ],
             [
              0.7777777777777778,
              "#fb9f3a"
             ],
             [
              0.8888888888888888,
              "#fdca26"
             ],
             [
              1,
              "#f0f921"
             ]
            ],
            "type": "surface"
           }
          ],
          "table": [
           {
            "cells": {
             "fill": {
              "color": "#EBF0F8"
             },
             "line": {
              "color": "white"
             }
            },
            "header": {
             "fill": {
              "color": "#C8D4E3"
             },
             "line": {
              "color": "white"
             }
            },
            "type": "table"
           }
          ]
         },
         "layout": {
          "annotationdefaults": {
           "arrowcolor": "#2a3f5f",
           "arrowhead": 0,
           "arrowwidth": 1
          },
          "autotypenumbers": "strict",
          "coloraxis": {
           "colorbar": {
            "outlinewidth": 0,
            "ticks": ""
           }
          },
          "colorscale": {
           "diverging": [
            [
             0,
             "#8e0152"
            ],
            [
             0.1,
             "#c51b7d"
            ],
            [
             0.2,
             "#de77ae"
            ],
            [
             0.3,
             "#f1b6da"
            ],
            [
             0.4,
             "#fde0ef"
            ],
            [
             0.5,
             "#f7f7f7"
            ],
            [
             0.6,
             "#e6f5d0"
            ],
            [
             0.7,
             "#b8e186"
            ],
            [
             0.8,
             "#7fbc41"
            ],
            [
             0.9,
             "#4d9221"
            ],
            [
             1,
             "#276419"
            ]
           ],
           "sequential": [
            [
             0,
             "#0d0887"
            ],
            [
             0.1111111111111111,
             "#46039f"
            ],
            [
             0.2222222222222222,
             "#7201a8"
            ],
            [
             0.3333333333333333,
             "#9c179e"
            ],
            [
             0.4444444444444444,
             "#bd3786"
            ],
            [
             0.5555555555555556,
             "#d8576b"
            ],
            [
             0.6666666666666666,
             "#ed7953"
            ],
            [
             0.7777777777777778,
             "#fb9f3a"
            ],
            [
             0.8888888888888888,
             "#fdca26"
            ],
            [
             1,
             "#f0f921"
            ]
           ],
           "sequentialminus": [
            [
             0,
             "#0d0887"
            ],
            [
             0.1111111111111111,
             "#46039f"
            ],
            [
             0.2222222222222222,
             "#7201a8"
            ],
            [
             0.3333333333333333,
             "#9c179e"
            ],
            [
             0.4444444444444444,
             "#bd3786"
            ],
            [
             0.5555555555555556,
             "#d8576b"
            ],
            [
             0.6666666666666666,
             "#ed7953"
            ],
            [
             0.7777777777777778,
             "#fb9f3a"
            ],
            [
             0.8888888888888888,
             "#fdca26"
            ],
            [
             1,
             "#f0f921"
            ]
           ]
          },
          "colorway": [
           "#636efa",
           "#EF553B",
           "#00cc96",
           "#ab63fa",
           "#FFA15A",
           "#19d3f3",
           "#FF6692",
           "#B6E880",
           "#FF97FF",
           "#FECB52"
          ],
          "font": {
           "color": "#2a3f5f"
          },
          "geo": {
           "bgcolor": "white",
           "lakecolor": "white",
           "landcolor": "#E5ECF6",
           "showlakes": true,
           "showland": true,
           "subunitcolor": "white"
          },
          "hoverlabel": {
           "align": "left"
          },
          "hovermode": "closest",
          "mapbox": {
           "style": "light"
          },
          "paper_bgcolor": "white",
          "plot_bgcolor": "#E5ECF6",
          "polar": {
           "angularaxis": {
            "gridcolor": "white",
            "linecolor": "white",
            "ticks": ""
           },
           "bgcolor": "#E5ECF6",
           "radialaxis": {
            "gridcolor": "white",
            "linecolor": "white",
            "ticks": ""
           }
          },
          "scene": {
           "xaxis": {
            "backgroundcolor": "#E5ECF6",
            "gridcolor": "white",
            "gridwidth": 2,
            "linecolor": "white",
            "showbackground": true,
            "ticks": "",
            "zerolinecolor": "white"
           },
           "yaxis": {
            "backgroundcolor": "#E5ECF6",
            "gridcolor": "white",
            "gridwidth": 2,
            "linecolor": "white",
            "showbackground": true,
            "ticks": "",
            "zerolinecolor": "white"
           },
           "zaxis": {
            "backgroundcolor": "#E5ECF6",
            "gridcolor": "white",
            "gridwidth": 2,
            "linecolor": "white",
            "showbackground": true,
            "ticks": "",
            "zerolinecolor": "white"
           }
          },
          "shapedefaults": {
           "line": {
            "color": "#2a3f5f"
           }
          },
          "ternary": {
           "aaxis": {
            "gridcolor": "white",
            "linecolor": "white",
            "ticks": ""
           },
           "baxis": {
            "gridcolor": "white",
            "linecolor": "white",
            "ticks": ""
           },
           "bgcolor": "#E5ECF6",
           "caxis": {
            "gridcolor": "white",
            "linecolor": "white",
            "ticks": ""
           }
          },
          "title": {
           "x": 0.05
          },
          "xaxis": {
           "automargin": true,
           "gridcolor": "white",
           "linecolor": "white",
           "ticks": "",
           "title": {
            "standoff": 15
           },
           "zerolinecolor": "white",
           "zerolinewidth": 2
          },
          "yaxis": {
           "automargin": true,
           "gridcolor": "white",
           "linecolor": "white",
           "ticks": "",
           "title": {
            "standoff": 15
           },
           "zerolinecolor": "white",
           "zerolinewidth": 2
          }
         }
        },
        "title": {
         "text": "Site: PA",
         "x": 0.5
        },
        "width": 1400,
        "xaxis": {
         "anchor": "y",
         "domain": [
          0,
          0.31999999999999995
         ],
         "title": {
          "text": ""
         },
         "visible": false
        },
        "xaxis2": {
         "anchor": "y2",
         "domain": [
          0.33999999999999997,
          0.6599999999999999
         ],
         "matches": "x",
         "title": {
          "text": ""
         },
         "visible": false
        },
        "xaxis3": {
         "anchor": "y3",
         "domain": [
          0.6799999999999999,
          0.9999999999999999
         ],
         "matches": "x",
         "title": {
          "text": ""
         },
         "visible": false
        },
        "yaxis": {
         "anchor": "x",
         "domain": [
          0,
          1
         ],
         "range": [
          0,
          1
         ],
         "tickformat": ".1f",
         "title": {
          "text": ""
         }
        },
        "yaxis2": {
         "anchor": "x2",
         "domain": [
          0,
          1
         ],
         "matches": "y",
         "range": [
          0,
          1
         ],
         "showticklabels": false,
         "tickformat": ".1f",
         "title": {
          "text": ""
         }
        },
        "yaxis3": {
         "anchor": "x3",
         "domain": [
          0,
          1
         ],
         "matches": "y",
         "range": [
          0,
          1
         ],
         "showticklabels": false,
         "tickformat": ".1f",
         "title": {
          "text": ""
         }
        }
       }
      },
      "text/html": [
       "<div>                            <div id=\"13c6848c-6434-4519-8ad2-7f50c698621a\" class=\"plotly-graph-div\" style=\"height:400px; width:1400px;\"></div>            <script type=\"text/javascript\">                require([\"plotly\"], function(Plotly) {                    window.PLOTLYENV=window.PLOTLYENV || {};                                    if (document.getElementById(\"13c6848c-6434-4519-8ad2-7f50c698621a\")) {                    Plotly.newPlot(                        \"13c6848c-6434-4519-8ad2-7f50c698621a\",                        [{\"alignmentgroup\":\"True\",\"hovertemplate\":\"name=SAR (12 Avg Images)\\u003cbr\\u003emetric=Precision\\u003cbr\\u003eCloud Condition=%{x}\\u003cbr\\u003evalue=%{text}\\u003cextra\\u003e\\u003c\\u002fextra\\u003e\",\"legendgroup\":\"SAR (12 Avg Images)\",\"marker\":{\"color\":\"#636efa\",\"pattern\":{\"shape\":\"\"}},\"name\":\"SAR (12 Avg Images)\",\"offsetgroup\":\"SAR (12 Avg Images)\",\"orientation\":\"v\",\"showlegend\":true,\"text\":[0.6689654108554166],\"textposition\":\"outside\",\"x\":[\"Global\"],\"xaxis\":\"x\",\"y\":[0.6689654108554166],\"yaxis\":\"y\",\"type\":\"bar\",\"texttemplate\":\"%{text:.2f}\"},{\"alignmentgroup\":\"True\",\"hovertemplate\":\"name=SAR (12 Avg Images)\\u003cbr\\u003emetric=Recall\\u003cbr\\u003eCloud Condition=%{x}\\u003cbr\\u003evalue=%{text}\\u003cextra\\u003e\\u003c\\u002fextra\\u003e\",\"legendgroup\":\"SAR (12 Avg Images)\",\"marker\":{\"color\":\"#636efa\",\"pattern\":{\"shape\":\"\"}},\"name\":\"SAR (12 Avg Images)\",\"offsetgroup\":\"SAR (12 Avg Images)\",\"orientation\":\"v\",\"showlegend\":false,\"text\":[0.9042240190398461],\"textposition\":\"outside\",\"x\":[\"Global\"],\"xaxis\":\"x2\",\"y\":[0.9042240190398461],\"yaxis\":\"y2\",\"type\":\"bar\",\"texttemplate\":\"%{text:.2f}\"},{\"alignmentgroup\":\"True\",\"hovertemplate\":\"name=SAR (12 Avg Images)\\u003cbr\\u003emetric=F1-Score\\u003cbr\\u003eCloud Condition=%{x}\\u003cbr\\u003evalue=%{text}\\u003cextra\\u003e\\u003c\\u002fextra\\u003e\",\"legendgroup\":\"SAR (12 Avg Images)\",\"marker\":{\"color\":\"#636efa\",\"pattern\":{\"shape\":\"\"}},\"name\":\"SAR (12 Avg Images)\",\"offsetgroup\":\"SAR (12 Avg Images)\",\"orientation\":\"v\",\"showlegend\":false,\"text\":[0.7690041401340949],\"textposition\":\"outside\",\"x\":[\"Global\"],\"xaxis\":\"x3\",\"y\":[0.7690041401340949],\"yaxis\":\"y3\",\"type\":\"bar\",\"texttemplate\":\"%{text:.2f}\"},{\"alignmentgroup\":\"True\",\"hovertemplate\":\"name=SAR (2 Avg Images)\\u003cbr\\u003emetric=Precision\\u003cbr\\u003eCloud Condition=%{x}\\u003cbr\\u003evalue=%{text}\\u003cextra\\u003e\\u003c\\u002fextra\\u003e\",\"legendgroup\":\"SAR (2 Avg Images)\",\"marker\":{\"color\":\"#EF553B\",\"pattern\":{\"shape\":\"\"}},\"name\":\"SAR (2 Avg Images)\",\"offsetgroup\":\"SAR (2 Avg Images)\",\"orientation\":\"v\",\"showlegend\":true,\"text\":[0.6368742606289008],\"textposition\":\"outside\",\"x\":[\"Global\"],\"xaxis\":\"x\",\"y\":[0.6368742606289008],\"yaxis\":\"y\",\"type\":\"bar\",\"texttemplate\":\"%{text:.2f}\"},{\"alignmentgroup\":\"True\",\"hovertemplate\":\"name=SAR (2 Avg Images)\\u003cbr\\u003emetric=Recall\\u003cbr\\u003eCloud Condition=%{x}\\u003cbr\\u003evalue=%{text}\\u003cextra\\u003e\\u003c\\u002fextra\\u003e\",\"legendgroup\":\"SAR (2 Avg Images)\",\"marker\":{\"color\":\"#EF553B\",\"pattern\":{\"shape\":\"\"}},\"name\":\"SAR (2 Avg Images)\",\"offsetgroup\":\"SAR (2 Avg Images)\",\"orientation\":\"v\",\"showlegend\":false,\"text\":[0.9085155003278894],\"textposition\":\"outside\",\"x\":[\"Global\"],\"xaxis\":\"x2\",\"y\":[0.9085155003278894],\"yaxis\":\"y2\",\"type\":\"bar\",\"texttemplate\":\"%{text:.2f}\"},{\"alignmentgroup\":\"True\",\"hovertemplate\":\"name=SAR (2 Avg Images)\\u003cbr\\u003emetric=F1-Score\\u003cbr\\u003eCloud Condition=%{x}\\u003cbr\\u003evalue=%{text}\\u003cextra\\u003e\\u003c\\u002fextra\\u003e\",\"legendgroup\":\"SAR (2 Avg Images)\",\"marker\":{\"color\":\"#EF553B\",\"pattern\":{\"shape\":\"\"}},\"name\":\"SAR (2 Avg Images)\",\"offsetgroup\":\"SAR (2 Avg Images)\",\"orientation\":\"v\",\"showlegend\":false,\"text\":[0.748820979871108],\"textposition\":\"outside\",\"x\":[\"Global\"],\"xaxis\":\"x3\",\"y\":[0.748820979871108],\"yaxis\":\"y3\",\"type\":\"bar\",\"texttemplate\":\"%{text:.2f}\"},{\"alignmentgroup\":\"True\",\"hovertemplate\":\"name=SAR (2 Single Images)\\u003cbr\\u003emetric=Precision\\u003cbr\\u003eCloud Condition=%{x}\\u003cbr\\u003evalue=%{text}\\u003cextra\\u003e\\u003c\\u002fextra\\u003e\",\"legendgroup\":\"SAR (2 Single Images)\",\"marker\":{\"color\":\"#00cc96\",\"pattern\":{\"shape\":\"\"}},\"name\":\"SAR (2 Single Images)\",\"offsetgroup\":\"SAR (2 Single Images)\",\"orientation\":\"v\",\"showlegend\":true,\"text\":[0.6568502889839448],\"textposition\":\"outside\",\"x\":[\"Global\"],\"xaxis\":\"x\",\"y\":[0.6568502889839448],\"yaxis\":\"y\",\"type\":\"bar\",\"texttemplate\":\"%{text:.2f}\"},{\"alignmentgroup\":\"True\",\"hovertemplate\":\"name=SAR (2 Single Images)\\u003cbr\\u003emetric=Recall\\u003cbr\\u003eCloud Condition=%{x}\\u003cbr\\u003evalue=%{text}\\u003cextra\\u003e\\u003c\\u002fextra\\u003e\",\"legendgroup\":\"SAR (2 Single Images)\",\"marker\":{\"color\":\"#00cc96\",\"pattern\":{\"shape\":\"\"}},\"name\":\"SAR (2 Single Images)\",\"offsetgroup\":\"SAR (2 Single Images)\",\"orientation\":\"v\",\"showlegend\":false,\"text\":[0.9160055369651359],\"textposition\":\"outside\",\"x\":[\"Global\"],\"xaxis\":\"x2\",\"y\":[0.9160055369651359],\"yaxis\":\"y2\",\"type\":\"bar\",\"texttemplate\":\"%{text:.2f}\"},{\"alignmentgroup\":\"True\",\"hovertemplate\":\"name=SAR (2 Single Images)\\u003cbr\\u003emetric=F1-Score\\u003cbr\\u003eCloud Condition=%{x}\\u003cbr\\u003evalue=%{text}\\u003cextra\\u003e\\u003c\\u002fextra\\u003e\",\"legendgroup\":\"SAR (2 Single Images)\",\"marker\":{\"color\":\"#00cc96\",\"pattern\":{\"shape\":\"\"}},\"name\":\"SAR (2 Single Images)\",\"offsetgroup\":\"SAR (2 Single Images)\",\"orientation\":\"v\",\"showlegend\":false,\"text\":[0.7650777544132281],\"textposition\":\"outside\",\"x\":[\"Global\"],\"xaxis\":\"x3\",\"y\":[0.7650777544132281],\"yaxis\":\"y3\",\"type\":\"bar\",\"texttemplate\":\"%{text:.2f}\"},{\"alignmentgroup\":\"True\",\"hovertemplate\":\"name=SAR (All Single Images)\\u003cbr\\u003emetric=Precision\\u003cbr\\u003eCloud Condition=%{x}\\u003cbr\\u003evalue=%{text}\\u003cextra\\u003e\\u003c\\u002fextra\\u003e\",\"legendgroup\":\"SAR (All Single Images)\",\"marker\":{\"color\":\"#ab63fa\",\"pattern\":{\"shape\":\"\"}},\"name\":\"SAR (All Single Images)\",\"offsetgroup\":\"SAR (All Single Images)\",\"orientation\":\"v\",\"showlegend\":true,\"text\":[0.7199652565454187],\"textposition\":\"outside\",\"x\":[\"Global\"],\"xaxis\":\"x\",\"y\":[0.7199652565454187],\"yaxis\":\"y\",\"type\":\"bar\",\"texttemplate\":\"%{text:.2f}\"},{\"alignmentgroup\":\"True\",\"hovertemplate\":\"name=SAR (All Single Images)\\u003cbr\\u003emetric=Recall\\u003cbr\\u003eCloud Condition=%{x}\\u003cbr\\u003evalue=%{text}\\u003cextra\\u003e\\u003c\\u002fextra\\u003e\",\"legendgroup\":\"SAR (All Single Images)\",\"marker\":{\"color\":\"#ab63fa\",\"pattern\":{\"shape\":\"\"}},\"name\":\"SAR (All Single Images)\",\"offsetgroup\":\"SAR (All Single Images)\",\"orientation\":\"v\",\"showlegend\":false,\"text\":[0.905292480150861],\"textposition\":\"outside\",\"x\":[\"Global\"],\"xaxis\":\"x2\",\"y\":[0.905292480150861],\"yaxis\":\"y2\",\"type\":\"bar\",\"texttemplate\":\"%{text:.2f}\"},{\"alignmentgroup\":\"True\",\"hovertemplate\":\"name=SAR (All Single Images)\\u003cbr\\u003emetric=F1-Score\\u003cbr\\u003eCloud Condition=%{x}\\u003cbr\\u003evalue=%{text}\\u003cextra\\u003e\\u003c\\u002fextra\\u003e\",\"legendgroup\":\"SAR (All Single Images)\",\"marker\":{\"color\":\"#ab63fa\",\"pattern\":{\"shape\":\"\"}},\"name\":\"SAR (All Single Images)\",\"offsetgroup\":\"SAR (All Single Images)\",\"orientation\":\"v\",\"showlegend\":false,\"text\":[0.802062488926031],\"textposition\":\"outside\",\"x\":[\"Global\"],\"xaxis\":\"x3\",\"y\":[0.802062488926031],\"yaxis\":\"y3\",\"type\":\"bar\",\"texttemplate\":\"%{text:.2f}\"}],                        {\"template\":{\"data\":{\"histogram2dcontour\":[{\"type\":\"histogram2dcontour\",\"colorbar\":{\"outlinewidth\":0,\"ticks\":\"\"},\"colorscale\":[[0.0,\"#0d0887\"],[0.1111111111111111,\"#46039f\"],[0.2222222222222222,\"#7201a8\"],[0.3333333333333333,\"#9c179e\"],[0.4444444444444444,\"#bd3786\"],[0.5555555555555556,\"#d8576b\"],[0.6666666666666666,\"#ed7953\"],[0.7777777777777778,\"#fb9f3a\"],[0.8888888888888888,\"#fdca26\"],[1.0,\"#f0f921\"]]}],\"choropleth\":[{\"type\":\"choropleth\",\"colorbar\":{\"outlinewidth\":0,\"ticks\":\"\"}}],\"histogram2d\":[{\"type\":\"histogram2d\",\"colorbar\":{\"outlinewidth\":0,\"ticks\":\"\"},\"colorscale\":[[0.0,\"#0d0887\"],[0.1111111111111111,\"#46039f\"],[0.2222222222222222,\"#7201a8\"],[0.3333333333333333,\"#9c179e\"],[0.4444444444444444,\"#bd3786\"],[0.5555555555555556,\"#d8576b\"],[0.6666666666666666,\"#ed7953\"],[0.7777777777777778,\"#fb9f3a\"],[0.8888888888888888,\"#fdca26\"],[1.0,\"#f0f921\"]]}],\"heatmap\":[{\"type\":\"heatmap\",\"colorbar\":{\"outlinewidth\":0,\"ticks\":\"\"},\"colorscale\":[[0.0,\"#0d0887\"],[0.1111111111111111,\"#46039f\"],[0.2222222222222222,\"#7201a8\"],[0.3333333333333333,\"#9c179e\"],[0.4444444444444444,\"#bd3786\"],[0.5555555555555556,\"#d8576b\"],[0.6666666666666666,\"#ed7953\"],[0.7777777777777778,\"#fb9f3a\"],[0.8888888888888888,\"#fdca26\"],[1.0,\"#f0f921\"]]}],\"heatmapgl\":[{\"type\":\"heatmapgl\",\"colorbar\":{\"outlinewidth\":0,\"ticks\":\"\"},\"colorscale\":[[0.0,\"#0d0887\"],[0.1111111111111111,\"#46039f\"],[0.2222222222222222,\"#7201a8\"],[0.3333333333333333,\"#9c179e\"],[0.4444444444444444,\"#bd3786\"],[0.5555555555555556,\"#d8576b\"],[0.6666666666666666,\"#ed7953\"],[0.7777777777777778,\"#fb9f3a\"],[0.8888888888888888,\"#fdca26\"],[1.0,\"#f0f921\"]]}],\"contourcarpet\":[{\"type\":\"contourcarpet\",\"colorbar\":{\"outlinewidth\":0,\"ticks\":\"\"}}],\"contour\":[{\"type\":\"contour\",\"colorbar\":{\"outlinewidth\":0,\"ticks\":\"\"},\"colorscale\":[[0.0,\"#0d0887\"],[0.1111111111111111,\"#46039f\"],[0.2222222222222222,\"#7201a8\"],[0.3333333333333333,\"#9c179e\"],[0.4444444444444444,\"#bd3786\"],[0.5555555555555556,\"#d8576b\"],[0.6666666666666666,\"#ed7953\"],[0.7777777777777778,\"#fb9f3a\"],[0.8888888888888888,\"#fdca26\"],[1.0,\"#f0f921\"]]}],\"surface\":[{\"type\":\"surface\",\"colorbar\":{\"outlinewidth\":0,\"ticks\":\"\"},\"colorscale\":[[0.0,\"#0d0887\"],[0.1111111111111111,\"#46039f\"],[0.2222222222222222,\"#7201a8\"],[0.3333333333333333,\"#9c179e\"],[0.4444444444444444,\"#bd3786\"],[0.5555555555555556,\"#d8576b\"],[0.6666666666666666,\"#ed7953\"],[0.7777777777777778,\"#fb9f3a\"],[0.8888888888888888,\"#fdca26\"],[1.0,\"#f0f921\"]]}],\"mesh3d\":[{\"type\":\"mesh3d\",\"colorbar\":{\"outlinewidth\":0,\"ticks\":\"\"}}],\"scatter\":[{\"fillpattern\":{\"fillmode\":\"overlay\",\"size\":10,\"solidity\":0.2},\"type\":\"scatter\"}],\"parcoords\":[{\"type\":\"parcoords\",\"line\":{\"colorbar\":{\"outlinewidth\":0,\"ticks\":\"\"}}}],\"scatterpolargl\":[{\"type\":\"scatterpolargl\",\"marker\":{\"colorbar\":{\"outlinewidth\":0,\"ticks\":\"\"}}}],\"bar\":[{\"error_x\":{\"color\":\"#2a3f5f\"},\"error_y\":{\"color\":\"#2a3f5f\"},\"marker\":{\"line\":{\"color\":\"#E5ECF6\",\"width\":0.5},\"pattern\":{\"fillmode\":\"overlay\",\"size\":10,\"solidity\":0.2}},\"type\":\"bar\"}],\"scattergeo\":[{\"type\":\"scattergeo\",\"marker\":{\"colorbar\":{\"outlinewidth\":0,\"ticks\":\"\"}}}],\"scatterpolar\":[{\"type\":\"scatterpolar\",\"marker\":{\"colorbar\":{\"outlinewidth\":0,\"ticks\":\"\"}}}],\"histogram\":[{\"marker\":{\"pattern\":{\"fillmode\":\"overlay\",\"size\":10,\"solidity\":0.2}},\"type\":\"histogram\"}],\"scattergl\":[{\"type\":\"scattergl\",\"marker\":{\"colorbar\":{\"outlinewidth\":0,\"ticks\":\"\"}}}],\"scatter3d\":[{\"type\":\"scatter3d\",\"line\":{\"colorbar\":{\"outlinewidth\":0,\"ticks\":\"\"}},\"marker\":{\"colorbar\":{\"outlinewidth\":0,\"ticks\":\"\"}}}],\"scattermapbox\":[{\"type\":\"scattermapbox\",\"marker\":{\"colorbar\":{\"outlinewidth\":0,\"ticks\":\"\"}}}],\"scatterternary\":[{\"type\":\"scatterternary\",\"marker\":{\"colorbar\":{\"outlinewidth\":0,\"ticks\":\"\"}}}],\"scattercarpet\":[{\"type\":\"scattercarpet\",\"marker\":{\"colorbar\":{\"outlinewidth\":0,\"ticks\":\"\"}}}],\"carpet\":[{\"aaxis\":{\"endlinecolor\":\"#2a3f5f\",\"gridcolor\":\"white\",\"linecolor\":\"white\",\"minorgridcolor\":\"white\",\"startlinecolor\":\"#2a3f5f\"},\"baxis\":{\"endlinecolor\":\"#2a3f5f\",\"gridcolor\":\"white\",\"linecolor\":\"white\",\"minorgridcolor\":\"white\",\"startlinecolor\":\"#2a3f5f\"},\"type\":\"carpet\"}],\"table\":[{\"cells\":{\"fill\":{\"color\":\"#EBF0F8\"},\"line\":{\"color\":\"white\"}},\"header\":{\"fill\":{\"color\":\"#C8D4E3\"},\"line\":{\"color\":\"white\"}},\"type\":\"table\"}],\"barpolar\":[{\"marker\":{\"line\":{\"color\":\"#E5ECF6\",\"width\":0.5},\"pattern\":{\"fillmode\":\"overlay\",\"size\":10,\"solidity\":0.2}},\"type\":\"barpolar\"}],\"pie\":[{\"automargin\":true,\"type\":\"pie\"}]},\"layout\":{\"autotypenumbers\":\"strict\",\"colorway\":[\"#636efa\",\"#EF553B\",\"#00cc96\",\"#ab63fa\",\"#FFA15A\",\"#19d3f3\",\"#FF6692\",\"#B6E880\",\"#FF97FF\",\"#FECB52\"],\"font\":{\"color\":\"#2a3f5f\"},\"hovermode\":\"closest\",\"hoverlabel\":{\"align\":\"left\"},\"paper_bgcolor\":\"white\",\"plot_bgcolor\":\"#E5ECF6\",\"polar\":{\"bgcolor\":\"#E5ECF6\",\"angularaxis\":{\"gridcolor\":\"white\",\"linecolor\":\"white\",\"ticks\":\"\"},\"radialaxis\":{\"gridcolor\":\"white\",\"linecolor\":\"white\",\"ticks\":\"\"}},\"ternary\":{\"bgcolor\":\"#E5ECF6\",\"aaxis\":{\"gridcolor\":\"white\",\"linecolor\":\"white\",\"ticks\":\"\"},\"baxis\":{\"gridcolor\":\"white\",\"linecolor\":\"white\",\"ticks\":\"\"},\"caxis\":{\"gridcolor\":\"white\",\"linecolor\":\"white\",\"ticks\":\"\"}},\"coloraxis\":{\"colorbar\":{\"outlinewidth\":0,\"ticks\":\"\"}},\"colorscale\":{\"sequential\":[[0.0,\"#0d0887\"],[0.1111111111111111,\"#46039f\"],[0.2222222222222222,\"#7201a8\"],[0.3333333333333333,\"#9c179e\"],[0.4444444444444444,\"#bd3786\"],[0.5555555555555556,\"#d8576b\"],[0.6666666666666666,\"#ed7953\"],[0.7777777777777778,\"#fb9f3a\"],[0.8888888888888888,\"#fdca26\"],[1.0,\"#f0f921\"]],\"sequentialminus\":[[0.0,\"#0d0887\"],[0.1111111111111111,\"#46039f\"],[0.2222222222222222,\"#7201a8\"],[0.3333333333333333,\"#9c179e\"],[0.4444444444444444,\"#bd3786\"],[0.5555555555555556,\"#d8576b\"],[0.6666666666666666,\"#ed7953\"],[0.7777777777777778,\"#fb9f3a\"],[0.8888888888888888,\"#fdca26\"],[1.0,\"#f0f921\"]],\"diverging\":[[0,\"#8e0152\"],[0.1,\"#c51b7d\"],[0.2,\"#de77ae\"],[0.3,\"#f1b6da\"],[0.4,\"#fde0ef\"],[0.5,\"#f7f7f7\"],[0.6,\"#e6f5d0\"],[0.7,\"#b8e186\"],[0.8,\"#7fbc41\"],[0.9,\"#4d9221\"],[1,\"#276419\"]]},\"xaxis\":{\"gridcolor\":\"white\",\"linecolor\":\"white\",\"ticks\":\"\",\"title\":{\"standoff\":15},\"zerolinecolor\":\"white\",\"automargin\":true,\"zerolinewidth\":2},\"yaxis\":{\"gridcolor\":\"white\",\"linecolor\":\"white\",\"ticks\":\"\",\"title\":{\"standoff\":15},\"zerolinecolor\":\"white\",\"automargin\":true,\"zerolinewidth\":2},\"scene\":{\"xaxis\":{\"backgroundcolor\":\"#E5ECF6\",\"gridcolor\":\"white\",\"linecolor\":\"white\",\"showbackground\":true,\"ticks\":\"\",\"zerolinecolor\":\"white\",\"gridwidth\":2},\"yaxis\":{\"backgroundcolor\":\"#E5ECF6\",\"gridcolor\":\"white\",\"linecolor\":\"white\",\"showbackground\":true,\"ticks\":\"\",\"zerolinecolor\":\"white\",\"gridwidth\":2},\"zaxis\":{\"backgroundcolor\":\"#E5ECF6\",\"gridcolor\":\"white\",\"linecolor\":\"white\",\"showbackground\":true,\"ticks\":\"\",\"zerolinecolor\":\"white\",\"gridwidth\":2}},\"shapedefaults\":{\"line\":{\"color\":\"#2a3f5f\"}},\"annotationdefaults\":{\"arrowcolor\":\"#2a3f5f\",\"arrowhead\":0,\"arrowwidth\":1},\"geo\":{\"bgcolor\":\"white\",\"landcolor\":\"#E5ECF6\",\"subunitcolor\":\"white\",\"showland\":true,\"showlakes\":true,\"lakecolor\":\"white\"},\"title\":{\"x\":0.05},\"mapbox\":{\"style\":\"light\"}}},\"xaxis\":{\"anchor\":\"y\",\"domain\":[0.0,0.31999999999999995],\"title\":{\"text\":\"\"},\"visible\":false},\"yaxis\":{\"anchor\":\"x\",\"domain\":[0.0,1.0],\"title\":{\"text\":\"\"},\"range\":[0,1],\"tickformat\":\".1f\"},\"xaxis2\":{\"anchor\":\"y2\",\"domain\":[0.33999999999999997,0.6599999999999999],\"matches\":\"x\",\"title\":{\"text\":\"\"},\"visible\":false},\"yaxis2\":{\"anchor\":\"x2\",\"domain\":[0.0,1.0],\"matches\":\"y\",\"showticklabels\":false,\"title\":{\"text\":\"\"},\"range\":[0,1],\"tickformat\":\".1f\"},\"xaxis3\":{\"anchor\":\"y3\",\"domain\":[0.6799999999999999,0.9999999999999999],\"matches\":\"x\",\"title\":{\"text\":\"\"},\"visible\":false},\"yaxis3\":{\"anchor\":\"x3\",\"domain\":[0.0,1.0],\"matches\":\"y\",\"showticklabels\":false,\"title\":{\"text\":\"\"},\"range\":[0,1],\"tickformat\":\".1f\"},\"annotations\":[{\"font\":{},\"showarrow\":false,\"text\":\"Precision\",\"x\":0.15999999999999998,\"xanchor\":\"center\",\"xref\":\"paper\",\"y\":1.0,\"yanchor\":\"bottom\",\"yref\":\"paper\"},{\"font\":{},\"showarrow\":false,\"text\":\"Recall\",\"x\":0.49999999999999994,\"xanchor\":\"center\",\"xref\":\"paper\",\"y\":1.0,\"yanchor\":\"bottom\",\"yref\":\"paper\"},{\"font\":{},\"showarrow\":false,\"text\":\"F1-Score\",\"x\":0.8399999999999999,\"xanchor\":\"center\",\"xref\":\"paper\",\"y\":1.0,\"yanchor\":\"bottom\",\"yref\":\"paper\"}],\"legend\":{\"title\":{\"text\":\"Model\"},\"tracegroupgap\":0,\"font\":{\"size\":16}},\"margin\":{\"t\":60},\"barmode\":\"group\",\"height\":400,\"width\":1400,\"font\":{\"size\":14},\"title\":{\"text\":\"Site: PA\",\"x\":0.5},\"bargap\":0.3},                        {\"responsive\": true}                    ).then(function(){\n",
       "                            \n",
       "var gd = document.getElementById('13c6848c-6434-4519-8ad2-7f50c698621a');\n",
       "var x = new MutationObserver(function (mutations, observer) {{\n",
       "        var display = window.getComputedStyle(gd).display;\n",
       "        if (!display || display === 'none') {{\n",
       "            console.log([gd, 'removed!']);\n",
       "            Plotly.purge(gd);\n",
       "            observer.disconnect();\n",
       "        }}\n",
       "}});\n",
       "\n",
       "// Listen for the removal of the full notebook cells\n",
       "var notebookContainer = gd.closest('#notebook-container');\n",
       "if (notebookContainer) {{\n",
       "    x.observe(notebookContainer, {childList: true});\n",
       "}}\n",
       "\n",
       "// Listen for the clearing of the current output cell\n",
       "var outputEl = gd.closest('.output');\n",
       "if (outputEl) {{\n",
       "    x.observe(outputEl, {childList: true});\n",
       "}}\n",
       "\n",
       "                        })                };                });            </script>        </div>"
      ]
     },
     "metadata": {},
     "output_type": "display_data"
    }
   ],
   "source": [
    "experiments = {\n",
    "    'SAR (12 Avg Images)': 2,\n",
    "    'SAR (2 Avg Images)': 7,\n",
    "    'SAR (2 Single Images)': 8,\n",
    "    'SAR (All Single Images)': 9,\n",
    "}\n",
    "exp_results = results(experiments)\n",
    "exp_results = exp_results.loc[exp_results['Cloud Condition'] == 'Global']\n",
    "#exp_results = exp_results.loc[~((exp_results['Cloud Condition'] != 'Global') & ( (exp_results['name'] == 'SAR (12 Avg Images)') | (exp_results['name'] == 'Opt (Cloud-free)') ) )]\n",
    "fig = px.bar(exp_results, x = 'Cloud Condition', y= 'value', color='name', barmode='group', text='value', facet_col = 'metric', width=1400, height=400)\n",
    "fig.update_traces(texttemplate='%{text:.2f}', textposition='outside')\n",
    "fig.update_yaxes(range=[0, 1], title_text = '', tickformat = '.1f') \n",
    "fig.for_each_annotation(lambda a: a.update(text=a.text.split(\"=\")[-1]))\n",
    "fig.update_xaxes(\n",
    "    title_text = '',\n",
    "    visible = False\n",
    "    ) \n",
    "fig.update_layout(\n",
    "    legend_title_text = 'Model', \n",
    "    legend_font_size = 16,\n",
    "    font_size = 14,\n",
    "    bargap=0.30,\n",
    "    title_text = f'Site: {site_label}',\n",
    "    title_x = 0.5\n",
    "    )\n",
    "\n",
    "#fig.for_each_annotation(lambda a: a.update(text=''))\n",
    "fig.show()"
   ]
  },
  {
   "cell_type": "code",
   "execution_count": 16,
   "metadata": {},
   "outputs": [
    {
     "ename": "FileNotFoundError",
     "evalue": "[Errno 2] No such file or directory: '/home/felferrari/projects/thesis/experiments/exp_6_wbce_2_8_adamw/results/results_6_wbce_2_8_adamw.data'",
     "output_type": "error",
     "traceback": [
      "\u001b[0;31m---------------------------------------------------------------------------\u001b[0m",
      "\u001b[0;31mFileNotFoundError\u001b[0m                         Traceback (most recent call last)",
      "Cell \u001b[0;32mIn[16], line 7\u001b[0m\n\u001b[1;32m      1\u001b[0m experiments \u001b[39m=\u001b[39m {\n\u001b[1;32m      2\u001b[0m     \u001b[39m'\u001b[39m\u001b[39mOpt (WBCE, ignore class 2)\u001b[39m\u001b[39m'\u001b[39m: \u001b[39m'\u001b[39m\u001b[39m6_wbce_2_8_adamw\u001b[39m\u001b[39m'\u001b[39m,\n\u001b[1;32m      3\u001b[0m     \u001b[39m'\u001b[39m\u001b[39mOpt (Focal gamma=3, ignore class 2)\u001b[39m\u001b[39m'\u001b[39m: \u001b[39m'\u001b[39m\u001b[39m6_gamma3-lr-2e-5\u001b[39m\u001b[39m'\u001b[39m,\n\u001b[1;32m      4\u001b[0m     \u001b[39m'\u001b[39m\u001b[39mOpt (Focal gamma=5, ignore class 2)\u001b[39m\u001b[39m'\u001b[39m: \u001b[39m'\u001b[39m\u001b[39m6_gamma5-lr-2e-5\u001b[39m\u001b[39m'\u001b[39m,\n\u001b[1;32m      5\u001b[0m     \u001b[39m'\u001b[39m\u001b[39mOpt (Focal gamma=3, include class 2)\u001b[39m\u001b[39m'\u001b[39m: \u001b[39m'\u001b[39m\u001b[39m6_gamma3-comcls2\u001b[39m\u001b[39m'\u001b[39m,\n\u001b[1;32m      6\u001b[0m }\n\u001b[0;32m----> 7\u001b[0m exp_results \u001b[39m=\u001b[39m results(experiments)\n\u001b[1;32m      8\u001b[0m exp_results \u001b[39m=\u001b[39m exp_results\u001b[39m.\u001b[39mloc[exp_results[\u001b[39m'\u001b[39m\u001b[39mCloud Condition\u001b[39m\u001b[39m'\u001b[39m] \u001b[39m==\u001b[39m \u001b[39m'\u001b[39m\u001b[39mGlobal\u001b[39m\u001b[39m'\u001b[39m]\n\u001b[1;32m      9\u001b[0m \u001b[39m#exp_results = exp_results.loc[~((exp_results['Cloud Condition'] != 'Global') & ( (exp_results['name'] == 'SAR (12 Avg Images)') | (exp_results['name'] == 'Opt (Cloud-free)') ) )]\u001b[39;00m\n",
      "Cell \u001b[0;32mIn[13], line 10\u001b[0m, in \u001b[0;36mresults\u001b[0;34m(experiments)\u001b[0m\n\u001b[1;32m      7\u001b[0m results_path \u001b[39m=\u001b[39m exp_path \u001b[39m/\u001b[39m experiments_paths[\u001b[39m'\u001b[39m\u001b[39mresults\u001b[39m\u001b[39m'\u001b[39m]\n\u001b[1;32m      8\u001b[0m final_results_file \u001b[39m=\u001b[39m results_path \u001b[39m/\u001b[39m \u001b[39mf\u001b[39m\u001b[39m'\u001b[39m\u001b[39mresults_\u001b[39m\u001b[39m{\u001b[39;00mexperiments[exp_i]\u001b[39m}\u001b[39;00m\u001b[39m.data\u001b[39m\u001b[39m'\u001b[39m\n\u001b[0;32m---> 10\u001b[0m result_df \u001b[39m=\u001b[39m pd\u001b[39m.\u001b[39;49mread_pickle(final_results_file)\n\u001b[1;32m     11\u001b[0m exp_results\u001b[39m.\u001b[39mappend(\n\u001b[1;32m     12\u001b[0m     {\n\u001b[1;32m     13\u001b[0m         \u001b[39m'\u001b[39m\u001b[39mname\u001b[39m\u001b[39m'\u001b[39m: exp_i,\n\u001b[0;32m   (...)\u001b[0m\n\u001b[1;32m     17\u001b[0m     }\n\u001b[1;32m     18\u001b[0m )\n\u001b[1;32m     19\u001b[0m exp_results\u001b[39m.\u001b[39mappend(\n\u001b[1;32m     20\u001b[0m     {\n\u001b[1;32m     21\u001b[0m         \u001b[39m'\u001b[39m\u001b[39mname\u001b[39m\u001b[39m'\u001b[39m: exp_i,\n\u001b[0;32m   (...)\u001b[0m\n\u001b[1;32m     25\u001b[0m     }\n\u001b[1;32m     26\u001b[0m )\n",
      "File \u001b[0;32m~/anaconda3/envs/ferrari/lib/python3.9/site-packages/pandas/io/pickle.py:179\u001b[0m, in \u001b[0;36mread_pickle\u001b[0;34m(filepath_or_buffer, compression, storage_options)\u001b[0m\n\u001b[1;32m    115\u001b[0m \u001b[39m\u001b[39m\u001b[39m\"\"\"\u001b[39;00m\n\u001b[1;32m    116\u001b[0m \u001b[39mLoad pickled pandas object (or any object) from file.\u001b[39;00m\n\u001b[1;32m    117\u001b[0m \n\u001b[0;32m   (...)\u001b[0m\n\u001b[1;32m    176\u001b[0m \u001b[39m4    4    9\u001b[39;00m\n\u001b[1;32m    177\u001b[0m \u001b[39m\"\"\"\u001b[39;00m\n\u001b[1;32m    178\u001b[0m excs_to_catch \u001b[39m=\u001b[39m (\u001b[39mAttributeError\u001b[39;00m, \u001b[39mImportError\u001b[39;00m, \u001b[39mModuleNotFoundError\u001b[39;00m, \u001b[39mTypeError\u001b[39;00m)\n\u001b[0;32m--> 179\u001b[0m \u001b[39mwith\u001b[39;00m get_handle(\n\u001b[1;32m    180\u001b[0m     filepath_or_buffer,\n\u001b[1;32m    181\u001b[0m     \u001b[39m\"\u001b[39;49m\u001b[39mrb\u001b[39;49m\u001b[39m\"\u001b[39;49m,\n\u001b[1;32m    182\u001b[0m     compression\u001b[39m=\u001b[39;49mcompression,\n\u001b[1;32m    183\u001b[0m     is_text\u001b[39m=\u001b[39;49m\u001b[39mFalse\u001b[39;49;00m,\n\u001b[1;32m    184\u001b[0m     storage_options\u001b[39m=\u001b[39;49mstorage_options,\n\u001b[1;32m    185\u001b[0m ) \u001b[39mas\u001b[39;00m handles:\n\u001b[1;32m    186\u001b[0m     \u001b[39m# 1) try standard library Pickle\u001b[39;00m\n\u001b[1;32m    187\u001b[0m     \u001b[39m# 2) try pickle_compat (older pandas version) to handle subclass changes\u001b[39;00m\n\u001b[1;32m    188\u001b[0m     \u001b[39m# 3) try pickle_compat with latin-1 encoding upon a UnicodeDecodeError\u001b[39;00m\n\u001b[1;32m    190\u001b[0m     \u001b[39mtry\u001b[39;00m:\n\u001b[1;32m    191\u001b[0m         \u001b[39m# TypeError for Cython complaints about object.__new__ vs Tick.__new__\u001b[39;00m\n\u001b[1;32m    192\u001b[0m         \u001b[39mtry\u001b[39;00m:\n",
      "File \u001b[0;32m~/anaconda3/envs/ferrari/lib/python3.9/site-packages/pandas/io/common.py:868\u001b[0m, in \u001b[0;36mget_handle\u001b[0;34m(path_or_buf, mode, encoding, compression, memory_map, is_text, errors, storage_options)\u001b[0m\n\u001b[1;32m    859\u001b[0m         handle \u001b[39m=\u001b[39m \u001b[39mopen\u001b[39m(\n\u001b[1;32m    860\u001b[0m             handle,\n\u001b[1;32m    861\u001b[0m             ioargs\u001b[39m.\u001b[39mmode,\n\u001b[0;32m   (...)\u001b[0m\n\u001b[1;32m    864\u001b[0m             newline\u001b[39m=\u001b[39m\u001b[39m\"\u001b[39m\u001b[39m\"\u001b[39m,\n\u001b[1;32m    865\u001b[0m         )\n\u001b[1;32m    866\u001b[0m     \u001b[39melse\u001b[39;00m:\n\u001b[1;32m    867\u001b[0m         \u001b[39m# Binary mode\u001b[39;00m\n\u001b[0;32m--> 868\u001b[0m         handle \u001b[39m=\u001b[39m \u001b[39mopen\u001b[39;49m(handle, ioargs\u001b[39m.\u001b[39;49mmode)\n\u001b[1;32m    869\u001b[0m     handles\u001b[39m.\u001b[39mappend(handle)\n\u001b[1;32m    871\u001b[0m \u001b[39m# Convert BytesIO or file objects passed with an encoding\u001b[39;00m\n",
      "\u001b[0;31mFileNotFoundError\u001b[0m: [Errno 2] No such file or directory: '/home/felferrari/projects/thesis/experiments/exp_6_wbce_2_8_adamw/results/results_6_wbce_2_8_adamw.data'"
     ]
    }
   ],
   "source": [
    "experiments = {\n",
    "    'Opt (WBCE, ignore class 2)': '6_wbce_2_8_adamw',\n",
    "    'Opt (Focal gamma=3, ignore class 2)': '6_gamma3-lr-2e-5',\n",
    "    'Opt (Focal gamma=5, ignore class 2)': '6_gamma5-lr-2e-5',\n",
    "    'Opt (Focal gamma=3, include class 2)': '6_gamma3-comcls2',\n",
    "}\n",
    "exp_results = results(experiments)\n",
    "exp_results = exp_results.loc[exp_results['Cloud Condition'] == 'Global']\n",
    "#exp_results = exp_results.loc[~((exp_results['Cloud Condition'] != 'Global') & ( (exp_results['name'] == 'SAR (12 Avg Images)') | (exp_results['name'] == 'Opt (Cloud-free)') ) )]\n",
    "fig = px.bar(exp_results, x = 'Cloud Condition', y= 'value', color='name', barmode='group', text='value', facet_col = 'metric', width=1400, height=400)\n",
    "fig.update_traces(texttemplate='%{text:.2f}', textposition='outside')\n",
    "fig.update_yaxes(range=[0, 1.05], title_text = '', tickformat = '.1f') \n",
    "fig.for_each_annotation(lambda a: a.update(text=a.text.split(\"=\")[-1]))\n",
    "fig.update_xaxes(\n",
    "    title_text = '',\n",
    "    visible = False\n",
    "    ) \n",
    "fig.update_layout(\n",
    "    legend_title_text = 'Model', \n",
    "    legend_font_size = 16,\n",
    "    font_size = 14,\n",
    "    bargap=0.30,\n",
    "    title_text = f'Site: {site_label}',\n",
    "    title_x = 0.5\n",
    "    ) \n",
    "\n",
    "#fig.for_each_annotation(lambda a: a.update(text=''))\n",
    "fig.show()"
   ]
  },
  {
   "cell_type": "code",
   "execution_count": null,
   "metadata": {},
   "outputs": [
    {
     "data": {
      "application/vnd.plotly.v1+json": {
       "config": {
        "plotlyServerURL": "https://plot.ly"
       },
       "data": [
        {
         "alignmentgroup": "True",
         "hovertemplate": "name=Opt (w/out 3d Conv)<br>metric=Precision<br>Cloud Condition=%{x}<br>value=%{text}<extra></extra>",
         "legendgroup": "Opt (w/out 3d Conv)",
         "marker": {
          "color": "#636efa",
          "pattern": {
           "shape": ""
          }
         },
         "name": "Opt (w/out 3d Conv)",
         "offsetgroup": "Opt (w/out 3d Conv)",
         "orientation": "v",
         "showlegend": true,
         "text": [
          0.7203688564220224
         ],
         "textposition": "outside",
         "texttemplate": "%{text:.2f}",
         "type": "bar",
         "x": [
          "Global"
         ],
         "xaxis": "x",
         "y": [
          0.7203688564220224
         ],
         "yaxis": "y"
        },
        {
         "alignmentgroup": "True",
         "hovertemplate": "name=Opt (w/out 3d Conv)<br>metric=Recall<br>Cloud Condition=%{x}<br>value=%{text}<extra></extra>",
         "legendgroup": "Opt (w/out 3d Conv)",
         "marker": {
          "color": "#636efa",
          "pattern": {
           "shape": ""
          }
         },
         "name": "Opt (w/out 3d Conv)",
         "offsetgroup": "Opt (w/out 3d Conv)",
         "orientation": "v",
         "showlegend": false,
         "text": [
          0.8881865426338047
         ],
         "textposition": "outside",
         "texttemplate": "%{text:.2f}",
         "type": "bar",
         "x": [
          "Global"
         ],
         "xaxis": "x2",
         "y": [
          0.8881865426338047
         ],
         "yaxis": "y2"
        },
        {
         "alignmentgroup": "True",
         "hovertemplate": "name=Opt (w/out 3d Conv)<br>metric=F1-Score<br>Cloud Condition=%{x}<br>value=%{text}<extra></extra>",
         "legendgroup": "Opt (w/out 3d Conv)",
         "marker": {
          "color": "#636efa",
          "pattern": {
           "shape": ""
          }
         },
         "name": "Opt (w/out 3d Conv)",
         "offsetgroup": "Opt (w/out 3d Conv)",
         "orientation": "v",
         "showlegend": false,
         "text": [
          0.7955236411280577
         ],
         "textposition": "outside",
         "texttemplate": "%{text:.2f}",
         "type": "bar",
         "x": [
          "Global"
         ],
         "xaxis": "x3",
         "y": [
          0.7955236411280577
         ],
         "yaxis": "y3"
        },
        {
         "alignmentgroup": "True",
         "hovertemplate": "name=Opt (with 3d Conv)<br>metric=Precision<br>Cloud Condition=%{x}<br>value=%{text}<extra></extra>",
         "legendgroup": "Opt (with 3d Conv)",
         "marker": {
          "color": "#EF553B",
          "pattern": {
           "shape": ""
          }
         },
         "name": "Opt (with 3d Conv)",
         "offsetgroup": "Opt (with 3d Conv)",
         "orientation": "v",
         "showlegend": true,
         "text": [
          0.7359231849367804
         ],
         "textposition": "outside",
         "texttemplate": "%{text:.2f}",
         "type": "bar",
         "x": [
          "Global"
         ],
         "xaxis": "x",
         "y": [
          0.7359231849367804
         ],
         "yaxis": "y"
        },
        {
         "alignmentgroup": "True",
         "hovertemplate": "name=Opt (with 3d Conv)<br>metric=Recall<br>Cloud Condition=%{x}<br>value=%{text}<extra></extra>",
         "legendgroup": "Opt (with 3d Conv)",
         "marker": {
          "color": "#EF553B",
          "pattern": {
           "shape": ""
          }
         },
         "name": "Opt (with 3d Conv)",
         "offsetgroup": "Opt (with 3d Conv)",
         "orientation": "v",
         "showlegend": false,
         "text": [
          0.8766042412661831
         ],
         "textposition": "outside",
         "texttemplate": "%{text:.2f}",
         "type": "bar",
         "x": [
          "Global"
         ],
         "xaxis": "x2",
         "y": [
          0.8766042412661831
         ],
         "yaxis": "y2"
        },
        {
         "alignmentgroup": "True",
         "hovertemplate": "name=Opt (with 3d Conv)<br>metric=F1-Score<br>Cloud Condition=%{x}<br>value=%{text}<extra></extra>",
         "legendgroup": "Opt (with 3d Conv)",
         "marker": {
          "color": "#EF553B",
          "pattern": {
           "shape": ""
          }
         },
         "name": "Opt (with 3d Conv)",
         "offsetgroup": "Opt (with 3d Conv)",
         "orientation": "v",
         "showlegend": false,
         "text": [
          0.8001270237998432
         ],
         "textposition": "outside",
         "texttemplate": "%{text:.2f}",
         "type": "bar",
         "x": [
          "Global"
         ],
         "xaxis": "x3",
         "y": [
          0.8001270237998432
         ],
         "yaxis": "y3"
        }
       ],
       "layout": {
        "annotations": [
         {
          "font": {},
          "showarrow": false,
          "text": "Precision",
          "x": 0.15999999999999998,
          "xanchor": "center",
          "xref": "paper",
          "y": 1,
          "yanchor": "bottom",
          "yref": "paper"
         },
         {
          "font": {},
          "showarrow": false,
          "text": "Recall",
          "x": 0.49999999999999994,
          "xanchor": "center",
          "xref": "paper",
          "y": 1,
          "yanchor": "bottom",
          "yref": "paper"
         },
         {
          "font": {},
          "showarrow": false,
          "text": "F1-Score",
          "x": 0.8399999999999999,
          "xanchor": "center",
          "xref": "paper",
          "y": 1,
          "yanchor": "bottom",
          "yref": "paper"
         }
        ],
        "bargap": 0.3,
        "barmode": "group",
        "font": {
         "size": 14
        },
        "height": 400,
        "legend": {
         "font": {
          "size": 16
         },
         "title": {
          "text": "Model"
         },
         "tracegroupgap": 0
        },
        "margin": {
         "t": 60
        },
        "template": {
         "data": {
          "bar": [
           {
            "error_x": {
             "color": "#2a3f5f"
            },
            "error_y": {
             "color": "#2a3f5f"
            },
            "marker": {
             "line": {
              "color": "#E5ECF6",
              "width": 0.5
             },
             "pattern": {
              "fillmode": "overlay",
              "size": 10,
              "solidity": 0.2
             }
            },
            "type": "bar"
           }
          ],
          "barpolar": [
           {
            "marker": {
             "line": {
              "color": "#E5ECF6",
              "width": 0.5
             },
             "pattern": {
              "fillmode": "overlay",
              "size": 10,
              "solidity": 0.2
             }
            },
            "type": "barpolar"
           }
          ],
          "carpet": [
           {
            "aaxis": {
             "endlinecolor": "#2a3f5f",
             "gridcolor": "white",
             "linecolor": "white",
             "minorgridcolor": "white",
             "startlinecolor": "#2a3f5f"
            },
            "baxis": {
             "endlinecolor": "#2a3f5f",
             "gridcolor": "white",
             "linecolor": "white",
             "minorgridcolor": "white",
             "startlinecolor": "#2a3f5f"
            },
            "type": "carpet"
           }
          ],
          "choropleth": [
           {
            "colorbar": {
             "outlinewidth": 0,
             "ticks": ""
            },
            "type": "choropleth"
           }
          ],
          "contour": [
           {
            "colorbar": {
             "outlinewidth": 0,
             "ticks": ""
            },
            "colorscale": [
             [
              0,
              "#0d0887"
             ],
             [
              0.1111111111111111,
              "#46039f"
             ],
             [
              0.2222222222222222,
              "#7201a8"
             ],
             [
              0.3333333333333333,
              "#9c179e"
             ],
             [
              0.4444444444444444,
              "#bd3786"
             ],
             [
              0.5555555555555556,
              "#d8576b"
             ],
             [
              0.6666666666666666,
              "#ed7953"
             ],
             [
              0.7777777777777778,
              "#fb9f3a"
             ],
             [
              0.8888888888888888,
              "#fdca26"
             ],
             [
              1,
              "#f0f921"
             ]
            ],
            "type": "contour"
           }
          ],
          "contourcarpet": [
           {
            "colorbar": {
             "outlinewidth": 0,
             "ticks": ""
            },
            "type": "contourcarpet"
           }
          ],
          "heatmap": [
           {
            "colorbar": {
             "outlinewidth": 0,
             "ticks": ""
            },
            "colorscale": [
             [
              0,
              "#0d0887"
             ],
             [
              0.1111111111111111,
              "#46039f"
             ],
             [
              0.2222222222222222,
              "#7201a8"
             ],
             [
              0.3333333333333333,
              "#9c179e"
             ],
             [
              0.4444444444444444,
              "#bd3786"
             ],
             [
              0.5555555555555556,
              "#d8576b"
             ],
             [
              0.6666666666666666,
              "#ed7953"
             ],
             [
              0.7777777777777778,
              "#fb9f3a"
             ],
             [
              0.8888888888888888,
              "#fdca26"
             ],
             [
              1,
              "#f0f921"
             ]
            ],
            "type": "heatmap"
           }
          ],
          "heatmapgl": [
           {
            "colorbar": {
             "outlinewidth": 0,
             "ticks": ""
            },
            "colorscale": [
             [
              0,
              "#0d0887"
             ],
             [
              0.1111111111111111,
              "#46039f"
             ],
             [
              0.2222222222222222,
              "#7201a8"
             ],
             [
              0.3333333333333333,
              "#9c179e"
             ],
             [
              0.4444444444444444,
              "#bd3786"
             ],
             [
              0.5555555555555556,
              "#d8576b"
             ],
             [
              0.6666666666666666,
              "#ed7953"
             ],
             [
              0.7777777777777778,
              "#fb9f3a"
             ],
             [
              0.8888888888888888,
              "#fdca26"
             ],
             [
              1,
              "#f0f921"
             ]
            ],
            "type": "heatmapgl"
           }
          ],
          "histogram": [
           {
            "marker": {
             "pattern": {
              "fillmode": "overlay",
              "size": 10,
              "solidity": 0.2
             }
            },
            "type": "histogram"
           }
          ],
          "histogram2d": [
           {
            "colorbar": {
             "outlinewidth": 0,
             "ticks": ""
            },
            "colorscale": [
             [
              0,
              "#0d0887"
             ],
             [
              0.1111111111111111,
              "#46039f"
             ],
             [
              0.2222222222222222,
              "#7201a8"
             ],
             [
              0.3333333333333333,
              "#9c179e"
             ],
             [
              0.4444444444444444,
              "#bd3786"
             ],
             [
              0.5555555555555556,
              "#d8576b"
             ],
             [
              0.6666666666666666,
              "#ed7953"
             ],
             [
              0.7777777777777778,
              "#fb9f3a"
             ],
             [
              0.8888888888888888,
              "#fdca26"
             ],
             [
              1,
              "#f0f921"
             ]
            ],
            "type": "histogram2d"
           }
          ],
          "histogram2dcontour": [
           {
            "colorbar": {
             "outlinewidth": 0,
             "ticks": ""
            },
            "colorscale": [
             [
              0,
              "#0d0887"
             ],
             [
              0.1111111111111111,
              "#46039f"
             ],
             [
              0.2222222222222222,
              "#7201a8"
             ],
             [
              0.3333333333333333,
              "#9c179e"
             ],
             [
              0.4444444444444444,
              "#bd3786"
             ],
             [
              0.5555555555555556,
              "#d8576b"
             ],
             [
              0.6666666666666666,
              "#ed7953"
             ],
             [
              0.7777777777777778,
              "#fb9f3a"
             ],
             [
              0.8888888888888888,
              "#fdca26"
             ],
             [
              1,
              "#f0f921"
             ]
            ],
            "type": "histogram2dcontour"
           }
          ],
          "mesh3d": [
           {
            "colorbar": {
             "outlinewidth": 0,
             "ticks": ""
            },
            "type": "mesh3d"
           }
          ],
          "parcoords": [
           {
            "line": {
             "colorbar": {
              "outlinewidth": 0,
              "ticks": ""
             }
            },
            "type": "parcoords"
           }
          ],
          "pie": [
           {
            "automargin": true,
            "type": "pie"
           }
          ],
          "scatter": [
           {
            "fillpattern": {
             "fillmode": "overlay",
             "size": 10,
             "solidity": 0.2
            },
            "type": "scatter"
           }
          ],
          "scatter3d": [
           {
            "line": {
             "colorbar": {
              "outlinewidth": 0,
              "ticks": ""
             }
            },
            "marker": {
             "colorbar": {
              "outlinewidth": 0,
              "ticks": ""
             }
            },
            "type": "scatter3d"
           }
          ],
          "scattercarpet": [
           {
            "marker": {
             "colorbar": {
              "outlinewidth": 0,
              "ticks": ""
             }
            },
            "type": "scattercarpet"
           }
          ],
          "scattergeo": [
           {
            "marker": {
             "colorbar": {
              "outlinewidth": 0,
              "ticks": ""
             }
            },
            "type": "scattergeo"
           }
          ],
          "scattergl": [
           {
            "marker": {
             "colorbar": {
              "outlinewidth": 0,
              "ticks": ""
             }
            },
            "type": "scattergl"
           }
          ],
          "scattermapbox": [
           {
            "marker": {
             "colorbar": {
              "outlinewidth": 0,
              "ticks": ""
             }
            },
            "type": "scattermapbox"
           }
          ],
          "scatterpolar": [
           {
            "marker": {
             "colorbar": {
              "outlinewidth": 0,
              "ticks": ""
             }
            },
            "type": "scatterpolar"
           }
          ],
          "scatterpolargl": [
           {
            "marker": {
             "colorbar": {
              "outlinewidth": 0,
              "ticks": ""
             }
            },
            "type": "scatterpolargl"
           }
          ],
          "scatterternary": [
           {
            "marker": {
             "colorbar": {
              "outlinewidth": 0,
              "ticks": ""
             }
            },
            "type": "scatterternary"
           }
          ],
          "surface": [
           {
            "colorbar": {
             "outlinewidth": 0,
             "ticks": ""
            },
            "colorscale": [
             [
              0,
              "#0d0887"
             ],
             [
              0.1111111111111111,
              "#46039f"
             ],
             [
              0.2222222222222222,
              "#7201a8"
             ],
             [
              0.3333333333333333,
              "#9c179e"
             ],
             [
              0.4444444444444444,
              "#bd3786"
             ],
             [
              0.5555555555555556,
              "#d8576b"
             ],
             [
              0.6666666666666666,
              "#ed7953"
             ],
             [
              0.7777777777777778,
              "#fb9f3a"
             ],
             [
              0.8888888888888888,
              "#fdca26"
             ],
             [
              1,
              "#f0f921"
             ]
            ],
            "type": "surface"
           }
          ],
          "table": [
           {
            "cells": {
             "fill": {
              "color": "#EBF0F8"
             },
             "line": {
              "color": "white"
             }
            },
            "header": {
             "fill": {
              "color": "#C8D4E3"
             },
             "line": {
              "color": "white"
             }
            },
            "type": "table"
           }
          ]
         },
         "layout": {
          "annotationdefaults": {
           "arrowcolor": "#2a3f5f",
           "arrowhead": 0,
           "arrowwidth": 1
          },
          "autotypenumbers": "strict",
          "coloraxis": {
           "colorbar": {
            "outlinewidth": 0,
            "ticks": ""
           }
          },
          "colorscale": {
           "diverging": [
            [
             0,
             "#8e0152"
            ],
            [
             0.1,
             "#c51b7d"
            ],
            [
             0.2,
             "#de77ae"
            ],
            [
             0.3,
             "#f1b6da"
            ],
            [
             0.4,
             "#fde0ef"
            ],
            [
             0.5,
             "#f7f7f7"
            ],
            [
             0.6,
             "#e6f5d0"
            ],
            [
             0.7,
             "#b8e186"
            ],
            [
             0.8,
             "#7fbc41"
            ],
            [
             0.9,
             "#4d9221"
            ],
            [
             1,
             "#276419"
            ]
           ],
           "sequential": [
            [
             0,
             "#0d0887"
            ],
            [
             0.1111111111111111,
             "#46039f"
            ],
            [
             0.2222222222222222,
             "#7201a8"
            ],
            [
             0.3333333333333333,
             "#9c179e"
            ],
            [
             0.4444444444444444,
             "#bd3786"
            ],
            [
             0.5555555555555556,
             "#d8576b"
            ],
            [
             0.6666666666666666,
             "#ed7953"
            ],
            [
             0.7777777777777778,
             "#fb9f3a"
            ],
            [
             0.8888888888888888,
             "#fdca26"
            ],
            [
             1,
             "#f0f921"
            ]
           ],
           "sequentialminus": [
            [
             0,
             "#0d0887"
            ],
            [
             0.1111111111111111,
             "#46039f"
            ],
            [
             0.2222222222222222,
             "#7201a8"
            ],
            [
             0.3333333333333333,
             "#9c179e"
            ],
            [
             0.4444444444444444,
             "#bd3786"
            ],
            [
             0.5555555555555556,
             "#d8576b"
            ],
            [
             0.6666666666666666,
             "#ed7953"
            ],
            [
             0.7777777777777778,
             "#fb9f3a"
            ],
            [
             0.8888888888888888,
             "#fdca26"
            ],
            [
             1,
             "#f0f921"
            ]
           ]
          },
          "colorway": [
           "#636efa",
           "#EF553B",
           "#00cc96",
           "#ab63fa",
           "#FFA15A",
           "#19d3f3",
           "#FF6692",
           "#B6E880",
           "#FF97FF",
           "#FECB52"
          ],
          "font": {
           "color": "#2a3f5f"
          },
          "geo": {
           "bgcolor": "white",
           "lakecolor": "white",
           "landcolor": "#E5ECF6",
           "showlakes": true,
           "showland": true,
           "subunitcolor": "white"
          },
          "hoverlabel": {
           "align": "left"
          },
          "hovermode": "closest",
          "mapbox": {
           "style": "light"
          },
          "paper_bgcolor": "white",
          "plot_bgcolor": "#E5ECF6",
          "polar": {
           "angularaxis": {
            "gridcolor": "white",
            "linecolor": "white",
            "ticks": ""
           },
           "bgcolor": "#E5ECF6",
           "radialaxis": {
            "gridcolor": "white",
            "linecolor": "white",
            "ticks": ""
           }
          },
          "scene": {
           "xaxis": {
            "backgroundcolor": "#E5ECF6",
            "gridcolor": "white",
            "gridwidth": 2,
            "linecolor": "white",
            "showbackground": true,
            "ticks": "",
            "zerolinecolor": "white"
           },
           "yaxis": {
            "backgroundcolor": "#E5ECF6",
            "gridcolor": "white",
            "gridwidth": 2,
            "linecolor": "white",
            "showbackground": true,
            "ticks": "",
            "zerolinecolor": "white"
           },
           "zaxis": {
            "backgroundcolor": "#E5ECF6",
            "gridcolor": "white",
            "gridwidth": 2,
            "linecolor": "white",
            "showbackground": true,
            "ticks": "",
            "zerolinecolor": "white"
           }
          },
          "shapedefaults": {
           "line": {
            "color": "#2a3f5f"
           }
          },
          "ternary": {
           "aaxis": {
            "gridcolor": "white",
            "linecolor": "white",
            "ticks": ""
           },
           "baxis": {
            "gridcolor": "white",
            "linecolor": "white",
            "ticks": ""
           },
           "bgcolor": "#E5ECF6",
           "caxis": {
            "gridcolor": "white",
            "linecolor": "white",
            "ticks": ""
           }
          },
          "title": {
           "x": 0.05
          },
          "xaxis": {
           "automargin": true,
           "gridcolor": "white",
           "linecolor": "white",
           "ticks": "",
           "title": {
            "standoff": 15
           },
           "zerolinecolor": "white",
           "zerolinewidth": 2
          },
          "yaxis": {
           "automargin": true,
           "gridcolor": "white",
           "linecolor": "white",
           "ticks": "",
           "title": {
            "standoff": 15
           },
           "zerolinecolor": "white",
           "zerolinewidth": 2
          }
         }
        },
        "title": {
         "text": "Site: PA",
         "x": 0.5
        },
        "width": 1400,
        "xaxis": {
         "anchor": "y",
         "domain": [
          0,
          0.31999999999999995
         ],
         "title": {
          "text": ""
         },
         "visible": false
        },
        "xaxis2": {
         "anchor": "y2",
         "domain": [
          0.33999999999999997,
          0.6599999999999999
         ],
         "matches": "x",
         "title": {
          "text": ""
         },
         "visible": false
        },
        "xaxis3": {
         "anchor": "y3",
         "domain": [
          0.6799999999999999,
          0.9999999999999999
         ],
         "matches": "x",
         "title": {
          "text": ""
         },
         "visible": false
        },
        "yaxis": {
         "anchor": "x",
         "domain": [
          0,
          1
         ],
         "range": [
          0,
          1.05
         ],
         "tickformat": ".1f",
         "title": {
          "text": ""
         }
        },
        "yaxis2": {
         "anchor": "x2",
         "domain": [
          0,
          1
         ],
         "matches": "y",
         "range": [
          0,
          1.05
         ],
         "showticklabels": false,
         "tickformat": ".1f",
         "title": {
          "text": ""
         }
        },
        "yaxis3": {
         "anchor": "x3",
         "domain": [
          0,
          1
         ],
         "matches": "y",
         "range": [
          0,
          1.05
         ],
         "showticklabels": false,
         "tickformat": ".1f",
         "title": {
          "text": ""
         }
        }
       }
      },
      "text/html": [
       "<div>                            <div id=\"c609a156-8443-45c5-b70b-4aec5e5dec18\" class=\"plotly-graph-div\" style=\"height:400px; width:1400px;\"></div>            <script type=\"text/javascript\">                require([\"plotly\"], function(Plotly) {                    window.PLOTLYENV=window.PLOTLYENV || {};                                    if (document.getElementById(\"c609a156-8443-45c5-b70b-4aec5e5dec18\")) {                    Plotly.newPlot(                        \"c609a156-8443-45c5-b70b-4aec5e5dec18\",                        [{\"alignmentgroup\":\"True\",\"hovertemplate\":\"name=Opt (w\\u002fout 3d Conv)\\u003cbr\\u003emetric=Precision\\u003cbr\\u003eCloud Condition=%{x}\\u003cbr\\u003evalue=%{text}\\u003cextra\\u003e\\u003c\\u002fextra\\u003e\",\"legendgroup\":\"Opt (w\\u002fout 3d Conv)\",\"marker\":{\"color\":\"#636efa\",\"pattern\":{\"shape\":\"\"}},\"name\":\"Opt (w\\u002fout 3d Conv)\",\"offsetgroup\":\"Opt (w\\u002fout 3d Conv)\",\"orientation\":\"v\",\"showlegend\":true,\"text\":[0.7203688564220224],\"textposition\":\"outside\",\"x\":[\"Global\"],\"xaxis\":\"x\",\"y\":[0.7203688564220224],\"yaxis\":\"y\",\"type\":\"bar\",\"texttemplate\":\"%{text:.2f}\"},{\"alignmentgroup\":\"True\",\"hovertemplate\":\"name=Opt (w\\u002fout 3d Conv)\\u003cbr\\u003emetric=Recall\\u003cbr\\u003eCloud Condition=%{x}\\u003cbr\\u003evalue=%{text}\\u003cextra\\u003e\\u003c\\u002fextra\\u003e\",\"legendgroup\":\"Opt (w\\u002fout 3d Conv)\",\"marker\":{\"color\":\"#636efa\",\"pattern\":{\"shape\":\"\"}},\"name\":\"Opt (w\\u002fout 3d Conv)\",\"offsetgroup\":\"Opt (w\\u002fout 3d Conv)\",\"orientation\":\"v\",\"showlegend\":false,\"text\":[0.8881865426338047],\"textposition\":\"outside\",\"x\":[\"Global\"],\"xaxis\":\"x2\",\"y\":[0.8881865426338047],\"yaxis\":\"y2\",\"type\":\"bar\",\"texttemplate\":\"%{text:.2f}\"},{\"alignmentgroup\":\"True\",\"hovertemplate\":\"name=Opt (w\\u002fout 3d Conv)\\u003cbr\\u003emetric=F1-Score\\u003cbr\\u003eCloud Condition=%{x}\\u003cbr\\u003evalue=%{text}\\u003cextra\\u003e\\u003c\\u002fextra\\u003e\",\"legendgroup\":\"Opt (w\\u002fout 3d Conv)\",\"marker\":{\"color\":\"#636efa\",\"pattern\":{\"shape\":\"\"}},\"name\":\"Opt (w\\u002fout 3d Conv)\",\"offsetgroup\":\"Opt (w\\u002fout 3d Conv)\",\"orientation\":\"v\",\"showlegend\":false,\"text\":[0.7955236411280577],\"textposition\":\"outside\",\"x\":[\"Global\"],\"xaxis\":\"x3\",\"y\":[0.7955236411280577],\"yaxis\":\"y3\",\"type\":\"bar\",\"texttemplate\":\"%{text:.2f}\"},{\"alignmentgroup\":\"True\",\"hovertemplate\":\"name=Opt (with 3d Conv)\\u003cbr\\u003emetric=Precision\\u003cbr\\u003eCloud Condition=%{x}\\u003cbr\\u003evalue=%{text}\\u003cextra\\u003e\\u003c\\u002fextra\\u003e\",\"legendgroup\":\"Opt (with 3d Conv)\",\"marker\":{\"color\":\"#EF553B\",\"pattern\":{\"shape\":\"\"}},\"name\":\"Opt (with 3d Conv)\",\"offsetgroup\":\"Opt (with 3d Conv)\",\"orientation\":\"v\",\"showlegend\":true,\"text\":[0.7359231849367804],\"textposition\":\"outside\",\"x\":[\"Global\"],\"xaxis\":\"x\",\"y\":[0.7359231849367804],\"yaxis\":\"y\",\"type\":\"bar\",\"texttemplate\":\"%{text:.2f}\"},{\"alignmentgroup\":\"True\",\"hovertemplate\":\"name=Opt (with 3d Conv)\\u003cbr\\u003emetric=Recall\\u003cbr\\u003eCloud Condition=%{x}\\u003cbr\\u003evalue=%{text}\\u003cextra\\u003e\\u003c\\u002fextra\\u003e\",\"legendgroup\":\"Opt (with 3d Conv)\",\"marker\":{\"color\":\"#EF553B\",\"pattern\":{\"shape\":\"\"}},\"name\":\"Opt (with 3d Conv)\",\"offsetgroup\":\"Opt (with 3d Conv)\",\"orientation\":\"v\",\"showlegend\":false,\"text\":[0.8766042412661831],\"textposition\":\"outside\",\"x\":[\"Global\"],\"xaxis\":\"x2\",\"y\":[0.8766042412661831],\"yaxis\":\"y2\",\"type\":\"bar\",\"texttemplate\":\"%{text:.2f}\"},{\"alignmentgroup\":\"True\",\"hovertemplate\":\"name=Opt (with 3d Conv)\\u003cbr\\u003emetric=F1-Score\\u003cbr\\u003eCloud Condition=%{x}\\u003cbr\\u003evalue=%{text}\\u003cextra\\u003e\\u003c\\u002fextra\\u003e\",\"legendgroup\":\"Opt (with 3d Conv)\",\"marker\":{\"color\":\"#EF553B\",\"pattern\":{\"shape\":\"\"}},\"name\":\"Opt (with 3d Conv)\",\"offsetgroup\":\"Opt (with 3d Conv)\",\"orientation\":\"v\",\"showlegend\":false,\"text\":[0.8001270237998432],\"textposition\":\"outside\",\"x\":[\"Global\"],\"xaxis\":\"x3\",\"y\":[0.8001270237998432],\"yaxis\":\"y3\",\"type\":\"bar\",\"texttemplate\":\"%{text:.2f}\"}],                        {\"template\":{\"data\":{\"histogram2dcontour\":[{\"type\":\"histogram2dcontour\",\"colorbar\":{\"outlinewidth\":0,\"ticks\":\"\"},\"colorscale\":[[0.0,\"#0d0887\"],[0.1111111111111111,\"#46039f\"],[0.2222222222222222,\"#7201a8\"],[0.3333333333333333,\"#9c179e\"],[0.4444444444444444,\"#bd3786\"],[0.5555555555555556,\"#d8576b\"],[0.6666666666666666,\"#ed7953\"],[0.7777777777777778,\"#fb9f3a\"],[0.8888888888888888,\"#fdca26\"],[1.0,\"#f0f921\"]]}],\"choropleth\":[{\"type\":\"choropleth\",\"colorbar\":{\"outlinewidth\":0,\"ticks\":\"\"}}],\"histogram2d\":[{\"type\":\"histogram2d\",\"colorbar\":{\"outlinewidth\":0,\"ticks\":\"\"},\"colorscale\":[[0.0,\"#0d0887\"],[0.1111111111111111,\"#46039f\"],[0.2222222222222222,\"#7201a8\"],[0.3333333333333333,\"#9c179e\"],[0.4444444444444444,\"#bd3786\"],[0.5555555555555556,\"#d8576b\"],[0.6666666666666666,\"#ed7953\"],[0.7777777777777778,\"#fb9f3a\"],[0.8888888888888888,\"#fdca26\"],[1.0,\"#f0f921\"]]}],\"heatmap\":[{\"type\":\"heatmap\",\"colorbar\":{\"outlinewidth\":0,\"ticks\":\"\"},\"colorscale\":[[0.0,\"#0d0887\"],[0.1111111111111111,\"#46039f\"],[0.2222222222222222,\"#7201a8\"],[0.3333333333333333,\"#9c179e\"],[0.4444444444444444,\"#bd3786\"],[0.5555555555555556,\"#d8576b\"],[0.6666666666666666,\"#ed7953\"],[0.7777777777777778,\"#fb9f3a\"],[0.8888888888888888,\"#fdca26\"],[1.0,\"#f0f921\"]]}],\"heatmapgl\":[{\"type\":\"heatmapgl\",\"colorbar\":{\"outlinewidth\":0,\"ticks\":\"\"},\"colorscale\":[[0.0,\"#0d0887\"],[0.1111111111111111,\"#46039f\"],[0.2222222222222222,\"#7201a8\"],[0.3333333333333333,\"#9c179e\"],[0.4444444444444444,\"#bd3786\"],[0.5555555555555556,\"#d8576b\"],[0.6666666666666666,\"#ed7953\"],[0.7777777777777778,\"#fb9f3a\"],[0.8888888888888888,\"#fdca26\"],[1.0,\"#f0f921\"]]}],\"contourcarpet\":[{\"type\":\"contourcarpet\",\"colorbar\":{\"outlinewidth\":0,\"ticks\":\"\"}}],\"contour\":[{\"type\":\"contour\",\"colorbar\":{\"outlinewidth\":0,\"ticks\":\"\"},\"colorscale\":[[0.0,\"#0d0887\"],[0.1111111111111111,\"#46039f\"],[0.2222222222222222,\"#7201a8\"],[0.3333333333333333,\"#9c179e\"],[0.4444444444444444,\"#bd3786\"],[0.5555555555555556,\"#d8576b\"],[0.6666666666666666,\"#ed7953\"],[0.7777777777777778,\"#fb9f3a\"],[0.8888888888888888,\"#fdca26\"],[1.0,\"#f0f921\"]]}],\"surface\":[{\"type\":\"surface\",\"colorbar\":{\"outlinewidth\":0,\"ticks\":\"\"},\"colorscale\":[[0.0,\"#0d0887\"],[0.1111111111111111,\"#46039f\"],[0.2222222222222222,\"#7201a8\"],[0.3333333333333333,\"#9c179e\"],[0.4444444444444444,\"#bd3786\"],[0.5555555555555556,\"#d8576b\"],[0.6666666666666666,\"#ed7953\"],[0.7777777777777778,\"#fb9f3a\"],[0.8888888888888888,\"#fdca26\"],[1.0,\"#f0f921\"]]}],\"mesh3d\":[{\"type\":\"mesh3d\",\"colorbar\":{\"outlinewidth\":0,\"ticks\":\"\"}}],\"scatter\":[{\"fillpattern\":{\"fillmode\":\"overlay\",\"size\":10,\"solidity\":0.2},\"type\":\"scatter\"}],\"parcoords\":[{\"type\":\"parcoords\",\"line\":{\"colorbar\":{\"outlinewidth\":0,\"ticks\":\"\"}}}],\"scatterpolargl\":[{\"type\":\"scatterpolargl\",\"marker\":{\"colorbar\":{\"outlinewidth\":0,\"ticks\":\"\"}}}],\"bar\":[{\"error_x\":{\"color\":\"#2a3f5f\"},\"error_y\":{\"color\":\"#2a3f5f\"},\"marker\":{\"line\":{\"color\":\"#E5ECF6\",\"width\":0.5},\"pattern\":{\"fillmode\":\"overlay\",\"size\":10,\"solidity\":0.2}},\"type\":\"bar\"}],\"scattergeo\":[{\"type\":\"scattergeo\",\"marker\":{\"colorbar\":{\"outlinewidth\":0,\"ticks\":\"\"}}}],\"scatterpolar\":[{\"type\":\"scatterpolar\",\"marker\":{\"colorbar\":{\"outlinewidth\":0,\"ticks\":\"\"}}}],\"histogram\":[{\"marker\":{\"pattern\":{\"fillmode\":\"overlay\",\"size\":10,\"solidity\":0.2}},\"type\":\"histogram\"}],\"scattergl\":[{\"type\":\"scattergl\",\"marker\":{\"colorbar\":{\"outlinewidth\":0,\"ticks\":\"\"}}}],\"scatter3d\":[{\"type\":\"scatter3d\",\"line\":{\"colorbar\":{\"outlinewidth\":0,\"ticks\":\"\"}},\"marker\":{\"colorbar\":{\"outlinewidth\":0,\"ticks\":\"\"}}}],\"scattermapbox\":[{\"type\":\"scattermapbox\",\"marker\":{\"colorbar\":{\"outlinewidth\":0,\"ticks\":\"\"}}}],\"scatterternary\":[{\"type\":\"scatterternary\",\"marker\":{\"colorbar\":{\"outlinewidth\":0,\"ticks\":\"\"}}}],\"scattercarpet\":[{\"type\":\"scattercarpet\",\"marker\":{\"colorbar\":{\"outlinewidth\":0,\"ticks\":\"\"}}}],\"carpet\":[{\"aaxis\":{\"endlinecolor\":\"#2a3f5f\",\"gridcolor\":\"white\",\"linecolor\":\"white\",\"minorgridcolor\":\"white\",\"startlinecolor\":\"#2a3f5f\"},\"baxis\":{\"endlinecolor\":\"#2a3f5f\",\"gridcolor\":\"white\",\"linecolor\":\"white\",\"minorgridcolor\":\"white\",\"startlinecolor\":\"#2a3f5f\"},\"type\":\"carpet\"}],\"table\":[{\"cells\":{\"fill\":{\"color\":\"#EBF0F8\"},\"line\":{\"color\":\"white\"}},\"header\":{\"fill\":{\"color\":\"#C8D4E3\"},\"line\":{\"color\":\"white\"}},\"type\":\"table\"}],\"barpolar\":[{\"marker\":{\"line\":{\"color\":\"#E5ECF6\",\"width\":0.5},\"pattern\":{\"fillmode\":\"overlay\",\"size\":10,\"solidity\":0.2}},\"type\":\"barpolar\"}],\"pie\":[{\"automargin\":true,\"type\":\"pie\"}]},\"layout\":{\"autotypenumbers\":\"strict\",\"colorway\":[\"#636efa\",\"#EF553B\",\"#00cc96\",\"#ab63fa\",\"#FFA15A\",\"#19d3f3\",\"#FF6692\",\"#B6E880\",\"#FF97FF\",\"#FECB52\"],\"font\":{\"color\":\"#2a3f5f\"},\"hovermode\":\"closest\",\"hoverlabel\":{\"align\":\"left\"},\"paper_bgcolor\":\"white\",\"plot_bgcolor\":\"#E5ECF6\",\"polar\":{\"bgcolor\":\"#E5ECF6\",\"angularaxis\":{\"gridcolor\":\"white\",\"linecolor\":\"white\",\"ticks\":\"\"},\"radialaxis\":{\"gridcolor\":\"white\",\"linecolor\":\"white\",\"ticks\":\"\"}},\"ternary\":{\"bgcolor\":\"#E5ECF6\",\"aaxis\":{\"gridcolor\":\"white\",\"linecolor\":\"white\",\"ticks\":\"\"},\"baxis\":{\"gridcolor\":\"white\",\"linecolor\":\"white\",\"ticks\":\"\"},\"caxis\":{\"gridcolor\":\"white\",\"linecolor\":\"white\",\"ticks\":\"\"}},\"coloraxis\":{\"colorbar\":{\"outlinewidth\":0,\"ticks\":\"\"}},\"colorscale\":{\"sequential\":[[0.0,\"#0d0887\"],[0.1111111111111111,\"#46039f\"],[0.2222222222222222,\"#7201a8\"],[0.3333333333333333,\"#9c179e\"],[0.4444444444444444,\"#bd3786\"],[0.5555555555555556,\"#d8576b\"],[0.6666666666666666,\"#ed7953\"],[0.7777777777777778,\"#fb9f3a\"],[0.8888888888888888,\"#fdca26\"],[1.0,\"#f0f921\"]],\"sequentialminus\":[[0.0,\"#0d0887\"],[0.1111111111111111,\"#46039f\"],[0.2222222222222222,\"#7201a8\"],[0.3333333333333333,\"#9c179e\"],[0.4444444444444444,\"#bd3786\"],[0.5555555555555556,\"#d8576b\"],[0.6666666666666666,\"#ed7953\"],[0.7777777777777778,\"#fb9f3a\"],[0.8888888888888888,\"#fdca26\"],[1.0,\"#f0f921\"]],\"diverging\":[[0,\"#8e0152\"],[0.1,\"#c51b7d\"],[0.2,\"#de77ae\"],[0.3,\"#f1b6da\"],[0.4,\"#fde0ef\"],[0.5,\"#f7f7f7\"],[0.6,\"#e6f5d0\"],[0.7,\"#b8e186\"],[0.8,\"#7fbc41\"],[0.9,\"#4d9221\"],[1,\"#276419\"]]},\"xaxis\":{\"gridcolor\":\"white\",\"linecolor\":\"white\",\"ticks\":\"\",\"title\":{\"standoff\":15},\"zerolinecolor\":\"white\",\"automargin\":true,\"zerolinewidth\":2},\"yaxis\":{\"gridcolor\":\"white\",\"linecolor\":\"white\",\"ticks\":\"\",\"title\":{\"standoff\":15},\"zerolinecolor\":\"white\",\"automargin\":true,\"zerolinewidth\":2},\"scene\":{\"xaxis\":{\"backgroundcolor\":\"#E5ECF6\",\"gridcolor\":\"white\",\"linecolor\":\"white\",\"showbackground\":true,\"ticks\":\"\",\"zerolinecolor\":\"white\",\"gridwidth\":2},\"yaxis\":{\"backgroundcolor\":\"#E5ECF6\",\"gridcolor\":\"white\",\"linecolor\":\"white\",\"showbackground\":true,\"ticks\":\"\",\"zerolinecolor\":\"white\",\"gridwidth\":2},\"zaxis\":{\"backgroundcolor\":\"#E5ECF6\",\"gridcolor\":\"white\",\"linecolor\":\"white\",\"showbackground\":true,\"ticks\":\"\",\"zerolinecolor\":\"white\",\"gridwidth\":2}},\"shapedefaults\":{\"line\":{\"color\":\"#2a3f5f\"}},\"annotationdefaults\":{\"arrowcolor\":\"#2a3f5f\",\"arrowhead\":0,\"arrowwidth\":1},\"geo\":{\"bgcolor\":\"white\",\"landcolor\":\"#E5ECF6\",\"subunitcolor\":\"white\",\"showland\":true,\"showlakes\":true,\"lakecolor\":\"white\"},\"title\":{\"x\":0.05},\"mapbox\":{\"style\":\"light\"}}},\"xaxis\":{\"anchor\":\"y\",\"domain\":[0.0,0.31999999999999995],\"title\":{\"text\":\"\"},\"visible\":false},\"yaxis\":{\"anchor\":\"x\",\"domain\":[0.0,1.0],\"title\":{\"text\":\"\"},\"range\":[0,1.05],\"tickformat\":\".1f\"},\"xaxis2\":{\"anchor\":\"y2\",\"domain\":[0.33999999999999997,0.6599999999999999],\"matches\":\"x\",\"title\":{\"text\":\"\"},\"visible\":false},\"yaxis2\":{\"anchor\":\"x2\",\"domain\":[0.0,1.0],\"matches\":\"y\",\"showticklabels\":false,\"title\":{\"text\":\"\"},\"range\":[0,1.05],\"tickformat\":\".1f\"},\"xaxis3\":{\"anchor\":\"y3\",\"domain\":[0.6799999999999999,0.9999999999999999],\"matches\":\"x\",\"title\":{\"text\":\"\"},\"visible\":false},\"yaxis3\":{\"anchor\":\"x3\",\"domain\":[0.0,1.0],\"matches\":\"y\",\"showticklabels\":false,\"title\":{\"text\":\"\"},\"range\":[0,1.05],\"tickformat\":\".1f\"},\"annotations\":[{\"font\":{},\"showarrow\":false,\"text\":\"Precision\",\"x\":0.15999999999999998,\"xanchor\":\"center\",\"xref\":\"paper\",\"y\":1.0,\"yanchor\":\"bottom\",\"yref\":\"paper\"},{\"font\":{},\"showarrow\":false,\"text\":\"Recall\",\"x\":0.49999999999999994,\"xanchor\":\"center\",\"xref\":\"paper\",\"y\":1.0,\"yanchor\":\"bottom\",\"yref\":\"paper\"},{\"font\":{},\"showarrow\":false,\"text\":\"F1-Score\",\"x\":0.8399999999999999,\"xanchor\":\"center\",\"xref\":\"paper\",\"y\":1.0,\"yanchor\":\"bottom\",\"yref\":\"paper\"}],\"legend\":{\"title\":{\"text\":\"Model\"},\"tracegroupgap\":0,\"font\":{\"size\":16}},\"margin\":{\"t\":60},\"barmode\":\"group\",\"height\":400,\"width\":1400,\"font\":{\"size\":14},\"title\":{\"text\":\"Site: PA\",\"x\":0.5},\"bargap\":0.3},                        {\"responsive\": true}                    ).then(function(){\n",
       "                            \n",
       "var gd = document.getElementById('c609a156-8443-45c5-b70b-4aec5e5dec18');\n",
       "var x = new MutationObserver(function (mutations, observer) {{\n",
       "        var display = window.getComputedStyle(gd).display;\n",
       "        if (!display || display === 'none') {{\n",
       "            console.log([gd, 'removed!']);\n",
       "            Plotly.purge(gd);\n",
       "            observer.disconnect();\n",
       "        }}\n",
       "}});\n",
       "\n",
       "// Listen for the removal of the full notebook cells\n",
       "var notebookContainer = gd.closest('#notebook-container');\n",
       "if (notebookContainer) {{\n",
       "    x.observe(notebookContainer, {childList: true});\n",
       "}}\n",
       "\n",
       "// Listen for the clearing of the current output cell\n",
       "var outputEl = gd.closest('.output');\n",
       "if (outputEl) {{\n",
       "    x.observe(outputEl, {childList: true});\n",
       "}}\n",
       "\n",
       "                        })                };                });            </script>        </div>"
      ]
     },
     "metadata": {},
     "output_type": "display_data"
    }
   ],
   "source": [
    "experiments = {\n",
    "    'Opt (w/out 3d Conv)': 6,\n",
    "    'Opt (with 3d Conv)': 16,\n",
    "}\n",
    "exp_results = results(experiments)\n",
    "exp_results = exp_results.loc[exp_results['Cloud Condition'] == 'Global']\n",
    "#exp_results = exp_results.loc[~((exp_results['Cloud Condition'] != 'Global') & ( (exp_results['name'] == 'SAR (12 Avg Images)') | (exp_results['name'] == 'Opt (Cloud-free)') ) )]\n",
    "fig = px.bar(exp_results, x = 'Cloud Condition', y= 'value', color='name', barmode='group', text='value', facet_col = 'metric', width=1400, height=400)\n",
    "fig.update_traces(texttemplate='%{text:.2f}', textposition='outside')\n",
    "fig.update_yaxes(range=[0, 1.05], title_text = '', tickformat = '.1f') \n",
    "fig.for_each_annotation(lambda a: a.update(text=a.text.split(\"=\")[-1]))\n",
    "fig.update_xaxes(\n",
    "    title_text = '',\n",
    "    visible = False\n",
    "    ) \n",
    "fig.update_layout(\n",
    "    legend_title_text = 'Model', \n",
    "    legend_font_size = 16,\n",
    "    font_size = 14,\n",
    "    bargap=0.30,\n",
    "    title_text = f'Site: {site_label}',\n",
    "    title_x = 0.5\n",
    "    ) \n",
    "\n",
    "#fig.for_each_annotation(lambda a: a.update(text=''))\n",
    "fig.show()"
   ]
  },
  {
   "cell_type": "code",
   "execution_count": null,
   "metadata": {},
   "outputs": [],
   "source": []
  }
 ],
 "metadata": {
  "kernelspec": {
   "display_name": "ferrari",
   "language": "python",
   "name": "python3"
  },
  "language_info": {
   "codemirror_mode": {
    "name": "ipython",
    "version": 3
   },
   "file_extension": ".py",
   "mimetype": "text/x-python",
   "name": "python",
   "nbconvert_exporter": "python",
   "pygments_lexer": "ipython3",
   "version": "3.9.16"
  },
  "orig_nbformat": 4
 },
 "nbformat": 4,
 "nbformat_minor": 2
}
