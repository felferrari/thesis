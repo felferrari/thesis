{
 "cells": [
  {
   "cell_type": "code",
   "execution_count": 8,
   "metadata": {},
   "outputs": [],
   "source": [
    "import plotly.express as px\n",
    "from utils.ops import load_yaml\n",
    "from  pathlib import Path\n",
    "import pandas as pd\n",
    "import plotly.graph_objects as go\n",
    "from plotly.subplots import make_subplots\n",
    "import numpy as np"
   ]
  },
  {
   "cell_type": "markdown",
   "metadata": {},
   "source": [
    "# Preparing"
   ]
  },
  {
   "cell_type": "code",
   "execution_count": 9,
   "metadata": {},
   "outputs": [],
   "source": [
    "site = 1\n",
    "site_label  = 'AM'"
   ]
  },
  {
   "cell_type": "code",
   "execution_count": 10,
   "metadata": {},
   "outputs": [],
   "source": [
    "cfg = load_yaml(f'cfg{site}.yaml')\n",
    "site_cfg = load_yaml(f'site_{site}.yaml')\n",
    "\n",
    "preparation_params = cfg['preparation_params']\n",
    "paths_params = cfg['paths']\n",
    "general_params = cfg['general_params']\n",
    "experiments_paths = general_params['experiments_folders']\n",
    "\n",
    "images_path = Path('images')\n",
    "images_path.mkdir(exist_ok=True)"
   ]
  },
  {
   "cell_type": "markdown",
   "metadata": {},
   "source": [
    "## Functions"
   ]
  },
  {
   "cell_type": "code",
   "execution_count": 11,
   "metadata": {},
   "outputs": [],
   "source": [
    "def results2(experiments):\n",
    "    exp_results = []\n",
    "    for exp_i in experiments:\n",
    "        #experiment_params = cfg['experiments'][f'exp_{experiments[exp_i]}']\n",
    "        exp_path = Path(paths_params['experiments']) / f'exp_{exp_i}'\n",
    "        experiment_params = cfg['experiments'][f'exp_{exp_i}']\n",
    "\n",
    "        results_path = exp_path / experiments_paths['results']\n",
    "        final_results_file = results_path / f'results_{exp_i}.data'\n",
    "\n",
    "        result_df = pd.read_pickle(final_results_file)\n",
    "\n",
    "        exp_results.append(\n",
    "            {\n",
    "                'name': f'{experiment_params[\"short\"]}', # ({exp_i})',\n",
    "                'cloud_cond': 'All Pixels',\n",
    "                'f1': result_df['global_f1'][0],\n",
    "                'precision': result_df['global_precision'][0],\n",
    "                'recall': result_df['global_recall'][0],\n",
    "                'group_model': experiment_params['group_model']\n",
    "            }\n",
    "        )\n",
    "\n",
    "        exp_results.append(\n",
    "            {\n",
    "                'name': f'{experiment_params[\"short\"]}', # ({exp_i})',\n",
    "                'cloud_cond': 'No Cloud',\n",
    "                'f1': result_df['no_cloud_f1'][0],\n",
    "                'precision': result_df['no_cloud_precision'][0],\n",
    "                'recall': result_df['no_cloud_recall'][0],\n",
    "                'group_model': experiment_params['group_model']\n",
    "            }\n",
    "        )\n",
    "\n",
    "        exp_results.append(\n",
    "            {\n",
    "                'name': f'{experiment_params[\"short\"]}', # ({exp_i})',\n",
    "                'cloud_cond': 'Cloudy',\n",
    "                'f1': result_df['cloud_f1'][0],\n",
    "                'precision': result_df['cloud_precision'][0],\n",
    "                'recall': result_df['cloud_recall'][0],\n",
    "                'group_model': experiment_params['group_model']\n",
    "            }\n",
    "        )\n",
    "\n",
    "\n",
    "        \n",
    "    return pd.DataFrame(exp_results)"
   ]
  },
  {
   "cell_type": "markdown",
   "metadata": {},
   "source": [
    "## Data preparing"
   ]
  },
  {
   "cell_type": "code",
   "execution_count": 12,
   "metadata": {},
   "outputs": [],
   "source": [
    "experiments = [\n",
    "    6,\n",
    "    9,\n",
    "    10,\n",
    "    11,    \n",
    "    2,\n",
    "    1,\n",
    "    3,\n",
    "    4,\n",
    "    5,\n",
    "    7,\n",
    "    8,\n",
    "    56,\n",
    "    59,\n",
    "    60,\n",
    "    61,    \n",
    "    52,\n",
    "    51,\n",
    "    53,\n",
    "    54,\n",
    "    55,\n",
    "    57,\n",
    "    58,\n",
    "    \n",
    "]\n",
    "exp_results = results2(experiments)"
   ]
  },
  {
   "cell_type": "code",
   "execution_count": 13,
   "metadata": {},
   "outputs": [
    {
     "data": {
      "text/html": [
       "<div>\n",
       "<style scoped>\n",
       "    .dataframe tbody tr th:only-of-type {\n",
       "        vertical-align: middle;\n",
       "    }\n",
       "\n",
       "    .dataframe tbody tr th {\n",
       "        vertical-align: top;\n",
       "    }\n",
       "\n",
       "    .dataframe thead th {\n",
       "        text-align: right;\n",
       "    }\n",
       "</style>\n",
       "<table border=\"1\" class=\"dataframe\">\n",
       "  <thead>\n",
       "    <tr style=\"text-align: right;\">\n",
       "      <th></th>\n",
       "      <th>name</th>\n",
       "      <th>cloud_cond</th>\n",
       "      <th>f1</th>\n",
       "      <th>precision</th>\n",
       "      <th>recall</th>\n",
       "      <th>group_model</th>\n",
       "    </tr>\n",
       "  </thead>\n",
       "  <tbody>\n",
       "    <tr>\n",
       "      <th>0</th>\n",
       "      <td>CNN-OPT (Cloud-free)</td>\n",
       "      <td>All Pixels</td>\n",
       "      <td>0.921489</td>\n",
       "      <td>0.903045</td>\n",
       "      <td>0.940703</td>\n",
       "      <td>CNN</td>\n",
       "    </tr>\n",
       "    <tr>\n",
       "      <th>1</th>\n",
       "      <td>CNN-OPT (Cloud-free)</td>\n",
       "      <td>No Cloud</td>\n",
       "      <td>0.921489</td>\n",
       "      <td>0.903045</td>\n",
       "      <td>0.940703</td>\n",
       "      <td>CNN</td>\n",
       "    </tr>\n",
       "    <tr>\n",
       "      <th>2</th>\n",
       "      <td>CNN-OPT (Cloud-free)</td>\n",
       "      <td>Cloudy</td>\n",
       "      <td>NaN</td>\n",
       "      <td>NaN</td>\n",
       "      <td>NaN</td>\n",
       "      <td>CNN</td>\n",
       "    </tr>\n",
       "    <tr>\n",
       "      <th>3</th>\n",
       "      <td>CNN-PIX (Cloud-free)</td>\n",
       "      <td>All Pixels</td>\n",
       "      <td>0.922804</td>\n",
       "      <td>0.898411</td>\n",
       "      <td>0.948560</td>\n",
       "      <td>CNN</td>\n",
       "    </tr>\n",
       "    <tr>\n",
       "      <th>4</th>\n",
       "      <td>CNN-PIX (Cloud-free)</td>\n",
       "      <td>No Cloud</td>\n",
       "      <td>0.922804</td>\n",
       "      <td>0.898411</td>\n",
       "      <td>0.948560</td>\n",
       "      <td>CNN</td>\n",
       "    </tr>\n",
       "    <tr>\n",
       "      <th>...</th>\n",
       "      <td>...</td>\n",
       "      <td>...</td>\n",
       "      <td>...</td>\n",
       "      <td>...</td>\n",
       "      <td>...</td>\n",
       "      <td>...</td>\n",
       "    </tr>\n",
       "    <tr>\n",
       "      <th>61</th>\n",
       "      <td>TRA-FEA (Diverse) (pre-trained)</td>\n",
       "      <td>No Cloud</td>\n",
       "      <td>0.893249</td>\n",
       "      <td>0.892341</td>\n",
       "      <td>0.894159</td>\n",
       "      <td>SWIN-Unet</td>\n",
       "    </tr>\n",
       "    <tr>\n",
       "      <th>62</th>\n",
       "      <td>TRA-FEA (Diverse) (pre-trained)</td>\n",
       "      <td>Cloudy</td>\n",
       "      <td>0.626932</td>\n",
       "      <td>0.681934</td>\n",
       "      <td>0.580139</td>\n",
       "      <td>SWIN-Unet</td>\n",
       "    </tr>\n",
       "    <tr>\n",
       "      <th>63</th>\n",
       "      <td>TRA-DEC (Diverse) (pre-trained)</td>\n",
       "      <td>All Pixels</td>\n",
       "      <td>0.867021</td>\n",
       "      <td>0.907335</td>\n",
       "      <td>0.830137</td>\n",
       "      <td>SWIN-Unet</td>\n",
       "    </tr>\n",
       "    <tr>\n",
       "      <th>64</th>\n",
       "      <td>TRA-DEC (Diverse) (pre-trained)</td>\n",
       "      <td>No Cloud</td>\n",
       "      <td>0.898144</td>\n",
       "      <td>0.924210</td>\n",
       "      <td>0.873508</td>\n",
       "      <td>SWIN-Unet</td>\n",
       "    </tr>\n",
       "    <tr>\n",
       "      <th>65</th>\n",
       "      <td>TRA-DEC (Diverse) (pre-trained)</td>\n",
       "      <td>Cloudy</td>\n",
       "      <td>0.502693</td>\n",
       "      <td>0.656594</td>\n",
       "      <td>0.407239</td>\n",
       "      <td>SWIN-Unet</td>\n",
       "    </tr>\n",
       "  </tbody>\n",
       "</table>\n",
       "<p>66 rows × 6 columns</p>\n",
       "</div>"
      ],
      "text/plain": [
       "                               name  cloud_cond        f1  precision  \\\n",
       "0              CNN-OPT (Cloud-free)  All Pixels  0.921489   0.903045   \n",
       "1              CNN-OPT (Cloud-free)    No Cloud  0.921489   0.903045   \n",
       "2              CNN-OPT (Cloud-free)      Cloudy       NaN        NaN   \n",
       "3              CNN-PIX (Cloud-free)  All Pixels  0.922804   0.898411   \n",
       "4              CNN-PIX (Cloud-free)    No Cloud  0.922804   0.898411   \n",
       "..                              ...         ...       ...        ...   \n",
       "61  TRA-FEA (Diverse) (pre-trained)    No Cloud  0.893249   0.892341   \n",
       "62  TRA-FEA (Diverse) (pre-trained)      Cloudy  0.626932   0.681934   \n",
       "63  TRA-DEC (Diverse) (pre-trained)  All Pixels  0.867021   0.907335   \n",
       "64  TRA-DEC (Diverse) (pre-trained)    No Cloud  0.898144   0.924210   \n",
       "65  TRA-DEC (Diverse) (pre-trained)      Cloudy  0.502693   0.656594   \n",
       "\n",
       "      recall group_model  \n",
       "0   0.940703         CNN  \n",
       "1   0.940703         CNN  \n",
       "2        NaN         CNN  \n",
       "3   0.948560         CNN  \n",
       "4   0.948560         CNN  \n",
       "..       ...         ...  \n",
       "61  0.894159   SWIN-Unet  \n",
       "62  0.580139   SWIN-Unet  \n",
       "63  0.830137   SWIN-Unet  \n",
       "64  0.873508   SWIN-Unet  \n",
       "65  0.407239   SWIN-Unet  \n",
       "\n",
       "[66 rows x 6 columns]"
      ]
     },
     "execution_count": 13,
     "metadata": {},
     "output_type": "execute_result"
    }
   ],
   "source": [
    "exp_results"
   ]
  },
  {
   "cell_type": "code",
   "execution_count": 23,
   "metadata": {},
   "outputs": [
    {
     "data": {
      "application/vnd.plotly.v1+json": {
       "config": {
        "plotlyServerURL": "https://plot.ly"
       },
       "data": [
        {
         "alignmentgroup": "True",
         "hovertemplate": "Cloud Condition=All Pixels<br>Model=%{x}<br>F1-Score=%{y}<extra></extra>",
         "legendgroup": "All Pixels",
         "marker": {
          "color": "#636efa",
          "pattern": {
           "shape": ""
          }
         },
         "name": "All Pixels",
         "offsetgroup": "All Pixels",
         "orientation": "v",
         "showlegend": true,
         "textposition": "auto",
         "type": "bar",
         "x": [
          "CNN-OPT-F",
          "CNN-PIX-F",
          "CNN-FEA-F",
          "CNN-DEC-F",
          "CNN-SAR",
          "CNN-OPT-D",
          "CNN-PIX-D",
          "CNN-FEA-D",
          "CNN-DEC-D",
          "CNN-FEA-D-PT",
          "CNN-DEC-D-PT"
         ],
         "xaxis": "x",
         "y": [
          0.9214893057479138,
          0.9228043288490548,
          0.9210212294533188,
          0.921577537542341,
          0.8852863039200747,
          0.35713811976844534,
          0.7523152554938464,
          0.8884512373463322,
          0.8707491041213631,
          0.9079549599829768,
          0.9045769121833641
         ],
         "yaxis": "y"
        },
        {
         "alignmentgroup": "True",
         "hovertemplate": "Cloud Condition=No Cloud<br>Model=%{x}<br>F1-Score=%{y}<extra></extra>",
         "legendgroup": "No Cloud",
         "marker": {
          "color": "#EF553B",
          "pattern": {
           "shape": ""
          }
         },
         "name": "No Cloud",
         "offsetgroup": "No Cloud",
         "orientation": "v",
         "showlegend": true,
         "textposition": "auto",
         "type": "bar",
         "x": [
          "CNN-OPT-F",
          "CNN-PIX-F",
          "CNN-FEA-F",
          "CNN-DEC-F",
          "CNN-SAR",
          "CNN-OPT-D",
          "CNN-PIX-D",
          "CNN-FEA-D",
          "CNN-DEC-D",
          "CNN-FEA-D-PT",
          "CNN-DEC-D-PT"
         ],
         "xaxis": "x",
         "y": [
          null,
          null,
          null,
          null,
          null,
          0.4417188122443184,
          0.8206644182576257,
          0.8995372304132682,
          0.8850431133582866,
          0.9169564229412864,
          0.9173170169853813
         ],
         "yaxis": "y"
        },
        {
         "alignmentgroup": "True",
         "hovertemplate": "Cloud Condition=Cloudy<br>Model=%{x}<br>F1-Score=%{y}<extra></extra>",
         "legendgroup": "Cloudy",
         "marker": {
          "color": "#00cc96",
          "pattern": {
           "shape": ""
          }
         },
         "name": "Cloudy",
         "offsetgroup": "Cloudy",
         "orientation": "v",
         "showlegend": true,
         "textposition": "auto",
         "type": "bar",
         "x": [
          "CNN-OPT-F",
          "CNN-PIX-F",
          "CNN-FEA-F",
          "CNN-DEC-F",
          "CNN-SAR",
          "CNN-OPT-D",
          "CNN-PIX-D",
          "CNN-FEA-D",
          "CNN-DEC-D",
          "CNN-FEA-D-PT",
          "CNN-DEC-D-PT"
         ],
         "xaxis": "x",
         "y": [
          null,
          null,
          null,
          null,
          null,
          0.05757701832640362,
          0.30421845477843756,
          0.7705520672041298,
          0.7125008643966673,
          0.8118367199682515,
          0.7627494586625702
         ],
         "yaxis": "y"
        }
       ],
       "layout": {
        "annotations": [
         {
          "showarrow": false,
          "text": "Cloud-free Models",
          "x": 1.5,
          "y": 1.05
         },
         {
          "showarrow": false,
          "text": "Diverse cloud conditions Models",
          "x": 7.5,
          "y": 1.05
         },
         {
          "showarrow": false,
          "text": "Better <br> cloud-free <br> Result",
          "x": 1,
          "xanchor": "left",
          "xref": "x domain",
          "y": 0.9228043288490548,
          "yanchor": "middle",
          "yref": "y"
         }
        ],
        "barmode": "group",
        "height": 400,
        "legend": {
         "title": {
          "text": "Cloud Condition"
         },
         "tracegroupgap": 0,
         "x": 1.02,
         "y": 0.1
        },
        "margin": {
         "t": 60
        },
        "shapes": [
         {
          "fillcolor": "blue",
          "layer": "below",
          "line": {
           "width": 0
          },
          "opacity": 0.15,
          "type": "rect",
          "x0": 0,
          "x1": 0.36363636363636365,
          "xref": "x domain",
          "y0": 0,
          "y1": 1,
          "yref": "y"
         },
         {
          "fillcolor": "red",
          "layer": "below",
          "line": {
           "width": 0
          },
          "opacity": 0.15,
          "type": "rect",
          "x0": 0.45454545454545453,
          "x1": 1,
          "xref": "x domain",
          "y0": 0,
          "y1": 1,
          "yref": "y"
         },
         {
          "line": {
           "dash": "dot"
          },
          "type": "line",
          "x0": 0,
          "x1": 1,
          "xref": "x domain",
          "y0": 0.9228043288490548,
          "y1": 0.9228043288490548,
          "yref": "y"
         }
        ],
        "template": {
         "data": {
          "bar": [
           {
            "error_x": {
             "color": "#2a3f5f"
            },
            "error_y": {
             "color": "#2a3f5f"
            },
            "marker": {
             "line": {
              "color": "#E5ECF6",
              "width": 0.5
             },
             "pattern": {
              "fillmode": "overlay",
              "size": 10,
              "solidity": 0.2
             }
            },
            "type": "bar"
           }
          ],
          "barpolar": [
           {
            "marker": {
             "line": {
              "color": "#E5ECF6",
              "width": 0.5
             },
             "pattern": {
              "fillmode": "overlay",
              "size": 10,
              "solidity": 0.2
             }
            },
            "type": "barpolar"
           }
          ],
          "carpet": [
           {
            "aaxis": {
             "endlinecolor": "#2a3f5f",
             "gridcolor": "white",
             "linecolor": "white",
             "minorgridcolor": "white",
             "startlinecolor": "#2a3f5f"
            },
            "baxis": {
             "endlinecolor": "#2a3f5f",
             "gridcolor": "white",
             "linecolor": "white",
             "minorgridcolor": "white",
             "startlinecolor": "#2a3f5f"
            },
            "type": "carpet"
           }
          ],
          "choropleth": [
           {
            "colorbar": {
             "outlinewidth": 0,
             "ticks": ""
            },
            "type": "choropleth"
           }
          ],
          "contour": [
           {
            "colorbar": {
             "outlinewidth": 0,
             "ticks": ""
            },
            "colorscale": [
             [
              0,
              "#0d0887"
             ],
             [
              0.1111111111111111,
              "#46039f"
             ],
             [
              0.2222222222222222,
              "#7201a8"
             ],
             [
              0.3333333333333333,
              "#9c179e"
             ],
             [
              0.4444444444444444,
              "#bd3786"
             ],
             [
              0.5555555555555556,
              "#d8576b"
             ],
             [
              0.6666666666666666,
              "#ed7953"
             ],
             [
              0.7777777777777778,
              "#fb9f3a"
             ],
             [
              0.8888888888888888,
              "#fdca26"
             ],
             [
              1,
              "#f0f921"
             ]
            ],
            "type": "contour"
           }
          ],
          "contourcarpet": [
           {
            "colorbar": {
             "outlinewidth": 0,
             "ticks": ""
            },
            "type": "contourcarpet"
           }
          ],
          "heatmap": [
           {
            "colorbar": {
             "outlinewidth": 0,
             "ticks": ""
            },
            "colorscale": [
             [
              0,
              "#0d0887"
             ],
             [
              0.1111111111111111,
              "#46039f"
             ],
             [
              0.2222222222222222,
              "#7201a8"
             ],
             [
              0.3333333333333333,
              "#9c179e"
             ],
             [
              0.4444444444444444,
              "#bd3786"
             ],
             [
              0.5555555555555556,
              "#d8576b"
             ],
             [
              0.6666666666666666,
              "#ed7953"
             ],
             [
              0.7777777777777778,
              "#fb9f3a"
             ],
             [
              0.8888888888888888,
              "#fdca26"
             ],
             [
              1,
              "#f0f921"
             ]
            ],
            "type": "heatmap"
           }
          ],
          "heatmapgl": [
           {
            "colorbar": {
             "outlinewidth": 0,
             "ticks": ""
            },
            "colorscale": [
             [
              0,
              "#0d0887"
             ],
             [
              0.1111111111111111,
              "#46039f"
             ],
             [
              0.2222222222222222,
              "#7201a8"
             ],
             [
              0.3333333333333333,
              "#9c179e"
             ],
             [
              0.4444444444444444,
              "#bd3786"
             ],
             [
              0.5555555555555556,
              "#d8576b"
             ],
             [
              0.6666666666666666,
              "#ed7953"
             ],
             [
              0.7777777777777778,
              "#fb9f3a"
             ],
             [
              0.8888888888888888,
              "#fdca26"
             ],
             [
              1,
              "#f0f921"
             ]
            ],
            "type": "heatmapgl"
           }
          ],
          "histogram": [
           {
            "marker": {
             "pattern": {
              "fillmode": "overlay",
              "size": 10,
              "solidity": 0.2
             }
            },
            "type": "histogram"
           }
          ],
          "histogram2d": [
           {
            "colorbar": {
             "outlinewidth": 0,
             "ticks": ""
            },
            "colorscale": [
             [
              0,
              "#0d0887"
             ],
             [
              0.1111111111111111,
              "#46039f"
             ],
             [
              0.2222222222222222,
              "#7201a8"
             ],
             [
              0.3333333333333333,
              "#9c179e"
             ],
             [
              0.4444444444444444,
              "#bd3786"
             ],
             [
              0.5555555555555556,
              "#d8576b"
             ],
             [
              0.6666666666666666,
              "#ed7953"
             ],
             [
              0.7777777777777778,
              "#fb9f3a"
             ],
             [
              0.8888888888888888,
              "#fdca26"
             ],
             [
              1,
              "#f0f921"
             ]
            ],
            "type": "histogram2d"
           }
          ],
          "histogram2dcontour": [
           {
            "colorbar": {
             "outlinewidth": 0,
             "ticks": ""
            },
            "colorscale": [
             [
              0,
              "#0d0887"
             ],
             [
              0.1111111111111111,
              "#46039f"
             ],
             [
              0.2222222222222222,
              "#7201a8"
             ],
             [
              0.3333333333333333,
              "#9c179e"
             ],
             [
              0.4444444444444444,
              "#bd3786"
             ],
             [
              0.5555555555555556,
              "#d8576b"
             ],
             [
              0.6666666666666666,
              "#ed7953"
             ],
             [
              0.7777777777777778,
              "#fb9f3a"
             ],
             [
              0.8888888888888888,
              "#fdca26"
             ],
             [
              1,
              "#f0f921"
             ]
            ],
            "type": "histogram2dcontour"
           }
          ],
          "mesh3d": [
           {
            "colorbar": {
             "outlinewidth": 0,
             "ticks": ""
            },
            "type": "mesh3d"
           }
          ],
          "parcoords": [
           {
            "line": {
             "colorbar": {
              "outlinewidth": 0,
              "ticks": ""
             }
            },
            "type": "parcoords"
           }
          ],
          "pie": [
           {
            "automargin": true,
            "type": "pie"
           }
          ],
          "scatter": [
           {
            "fillpattern": {
             "fillmode": "overlay",
             "size": 10,
             "solidity": 0.2
            },
            "type": "scatter"
           }
          ],
          "scatter3d": [
           {
            "line": {
             "colorbar": {
              "outlinewidth": 0,
              "ticks": ""
             }
            },
            "marker": {
             "colorbar": {
              "outlinewidth": 0,
              "ticks": ""
             }
            },
            "type": "scatter3d"
           }
          ],
          "scattercarpet": [
           {
            "marker": {
             "colorbar": {
              "outlinewidth": 0,
              "ticks": ""
             }
            },
            "type": "scattercarpet"
           }
          ],
          "scattergeo": [
           {
            "marker": {
             "colorbar": {
              "outlinewidth": 0,
              "ticks": ""
             }
            },
            "type": "scattergeo"
           }
          ],
          "scattergl": [
           {
            "marker": {
             "colorbar": {
              "outlinewidth": 0,
              "ticks": ""
             }
            },
            "type": "scattergl"
           }
          ],
          "scattermapbox": [
           {
            "marker": {
             "colorbar": {
              "outlinewidth": 0,
              "ticks": ""
             }
            },
            "type": "scattermapbox"
           }
          ],
          "scatterpolar": [
           {
            "marker": {
             "colorbar": {
              "outlinewidth": 0,
              "ticks": ""
             }
            },
            "type": "scatterpolar"
           }
          ],
          "scatterpolargl": [
           {
            "marker": {
             "colorbar": {
              "outlinewidth": 0,
              "ticks": ""
             }
            },
            "type": "scatterpolargl"
           }
          ],
          "scatterternary": [
           {
            "marker": {
             "colorbar": {
              "outlinewidth": 0,
              "ticks": ""
             }
            },
            "type": "scatterternary"
           }
          ],
          "surface": [
           {
            "colorbar": {
             "outlinewidth": 0,
             "ticks": ""
            },
            "colorscale": [
             [
              0,
              "#0d0887"
             ],
             [
              0.1111111111111111,
              "#46039f"
             ],
             [
              0.2222222222222222,
              "#7201a8"
             ],
             [
              0.3333333333333333,
              "#9c179e"
             ],
             [
              0.4444444444444444,
              "#bd3786"
             ],
             [
              0.5555555555555556,
              "#d8576b"
             ],
             [
              0.6666666666666666,
              "#ed7953"
             ],
             [
              0.7777777777777778,
              "#fb9f3a"
             ],
             [
              0.8888888888888888,
              "#fdca26"
             ],
             [
              1,
              "#f0f921"
             ]
            ],
            "type": "surface"
           }
          ],
          "table": [
           {
            "cells": {
             "fill": {
              "color": "#EBF0F8"
             },
             "line": {
              "color": "white"
             }
            },
            "header": {
             "fill": {
              "color": "#C8D4E3"
             },
             "line": {
              "color": "white"
             }
            },
            "type": "table"
           }
          ]
         },
         "layout": {
          "annotationdefaults": {
           "arrowcolor": "#2a3f5f",
           "arrowhead": 0,
           "arrowwidth": 1
          },
          "autotypenumbers": "strict",
          "coloraxis": {
           "colorbar": {
            "outlinewidth": 0,
            "ticks": ""
           }
          },
          "colorscale": {
           "diverging": [
            [
             0,
             "#8e0152"
            ],
            [
             0.1,
             "#c51b7d"
            ],
            [
             0.2,
             "#de77ae"
            ],
            [
             0.3,
             "#f1b6da"
            ],
            [
             0.4,
             "#fde0ef"
            ],
            [
             0.5,
             "#f7f7f7"
            ],
            [
             0.6,
             "#e6f5d0"
            ],
            [
             0.7,
             "#b8e186"
            ],
            [
             0.8,
             "#7fbc41"
            ],
            [
             0.9,
             "#4d9221"
            ],
            [
             1,
             "#276419"
            ]
           ],
           "sequential": [
            [
             0,
             "#0d0887"
            ],
            [
             0.1111111111111111,
             "#46039f"
            ],
            [
             0.2222222222222222,
             "#7201a8"
            ],
            [
             0.3333333333333333,
             "#9c179e"
            ],
            [
             0.4444444444444444,
             "#bd3786"
            ],
            [
             0.5555555555555556,
             "#d8576b"
            ],
            [
             0.6666666666666666,
             "#ed7953"
            ],
            [
             0.7777777777777778,
             "#fb9f3a"
            ],
            [
             0.8888888888888888,
             "#fdca26"
            ],
            [
             1,
             "#f0f921"
            ]
           ],
           "sequentialminus": [
            [
             0,
             "#0d0887"
            ],
            [
             0.1111111111111111,
             "#46039f"
            ],
            [
             0.2222222222222222,
             "#7201a8"
            ],
            [
             0.3333333333333333,
             "#9c179e"
            ],
            [
             0.4444444444444444,
             "#bd3786"
            ],
            [
             0.5555555555555556,
             "#d8576b"
            ],
            [
             0.6666666666666666,
             "#ed7953"
            ],
            [
             0.7777777777777778,
             "#fb9f3a"
            ],
            [
             0.8888888888888888,
             "#fdca26"
            ],
            [
             1,
             "#f0f921"
            ]
           ]
          },
          "colorway": [
           "#636efa",
           "#EF553B",
           "#00cc96",
           "#ab63fa",
           "#FFA15A",
           "#19d3f3",
           "#FF6692",
           "#B6E880",
           "#FF97FF",
           "#FECB52"
          ],
          "font": {
           "color": "#2a3f5f"
          },
          "geo": {
           "bgcolor": "white",
           "lakecolor": "white",
           "landcolor": "#E5ECF6",
           "showlakes": true,
           "showland": true,
           "subunitcolor": "white"
          },
          "hoverlabel": {
           "align": "left"
          },
          "hovermode": "closest",
          "mapbox": {
           "style": "light"
          },
          "paper_bgcolor": "white",
          "plot_bgcolor": "#E5ECF6",
          "polar": {
           "angularaxis": {
            "gridcolor": "white",
            "linecolor": "white",
            "ticks": ""
           },
           "bgcolor": "#E5ECF6",
           "radialaxis": {
            "gridcolor": "white",
            "linecolor": "white",
            "ticks": ""
           }
          },
          "scene": {
           "xaxis": {
            "backgroundcolor": "#E5ECF6",
            "gridcolor": "white",
            "gridwidth": 2,
            "linecolor": "white",
            "showbackground": true,
            "ticks": "",
            "zerolinecolor": "white"
           },
           "yaxis": {
            "backgroundcolor": "#E5ECF6",
            "gridcolor": "white",
            "gridwidth": 2,
            "linecolor": "white",
            "showbackground": true,
            "ticks": "",
            "zerolinecolor": "white"
           },
           "zaxis": {
            "backgroundcolor": "#E5ECF6",
            "gridcolor": "white",
            "gridwidth": 2,
            "linecolor": "white",
            "showbackground": true,
            "ticks": "",
            "zerolinecolor": "white"
           }
          },
          "shapedefaults": {
           "line": {
            "color": "#2a3f5f"
           }
          },
          "ternary": {
           "aaxis": {
            "gridcolor": "white",
            "linecolor": "white",
            "ticks": ""
           },
           "baxis": {
            "gridcolor": "white",
            "linecolor": "white",
            "ticks": ""
           },
           "bgcolor": "#E5ECF6",
           "caxis": {
            "gridcolor": "white",
            "linecolor": "white",
            "ticks": ""
           }
          },
          "title": {
           "x": 0.05
          },
          "xaxis": {
           "automargin": true,
           "gridcolor": "white",
           "linecolor": "white",
           "ticks": "",
           "title": {
            "standoff": 15
           },
           "zerolinecolor": "white",
           "zerolinewidth": 2
          },
          "yaxis": {
           "automargin": true,
           "gridcolor": "white",
           "linecolor": "white",
           "ticks": "",
           "title": {
            "standoff": 15
           },
           "zerolinecolor": "white",
           "zerolinewidth": 2
          }
         }
        },
        "title": {
         "text": "Convolution-Based Models (Site 1)",
         "x": 0.5
        },
        "width": 800,
        "xaxis": {
         "anchor": "y",
         "domain": [
          0,
          1
         ],
         "title": {
          "text": "Model"
         }
        },
        "yaxis": {
         "anchor": "x",
         "domain": [
          0,
          1
         ],
         "range": [
          0,
          1.1
         ],
         "title": {
          "text": "F1-Score"
         }
        }
       }
      }
     },
     "metadata": {},
     "output_type": "display_data"
    },
    {
     "data": {
      "application/vnd.plotly.v1+json": {
       "config": {
        "plotlyServerURL": "https://plot.ly"
       },
       "data": [
        {
         "alignmentgroup": "True",
         "hovertemplate": "Cloud Condition=All Pixels<br>Model=%{x}<br>F1-Score=%{y}<extra></extra>",
         "legendgroup": "All Pixels",
         "marker": {
          "color": "#636efa",
          "pattern": {
           "shape": ""
          }
         },
         "name": "All Pixels",
         "offsetgroup": "All Pixels",
         "orientation": "v",
         "showlegend": true,
         "textposition": "auto",
         "type": "bar",
         "x": [
          "TRA-OPT-F",
          "TRA-PIX-F",
          "TRA-FEA-F",
          "TRA-DEC-F",
          "TRA-SAR",
          "TRA-OPT-D",
          "TRA-PIX-D",
          "TRA-FEA-D",
          "TRA-DEC-D",
          "TRA-FEA-D-PT",
          "TRA-DEC-D-PT"
         ],
         "xaxis": "x",
         "y": [
          0.9219127952144832,
          0.922377371367765,
          0.9234572102956546,
          0.9244961563121749,
          0.8150847953441726,
          0.7303263366947913,
          0.7304410691655902,
          0.6829375135309547,
          0.6743918202461506,
          0.8702124421755884,
          0.8670213091657543
         ],
         "yaxis": "y"
        },
        {
         "alignmentgroup": "True",
         "hovertemplate": "Cloud Condition=No Cloud<br>Model=%{x}<br>F1-Score=%{y}<extra></extra>",
         "legendgroup": "No Cloud",
         "marker": {
          "color": "#EF553B",
          "pattern": {
           "shape": ""
          }
         },
         "name": "No Cloud",
         "offsetgroup": "No Cloud",
         "orientation": "v",
         "showlegend": true,
         "textposition": "auto",
         "type": "bar",
         "x": [
          "TRA-OPT-F",
          "TRA-PIX-F",
          "TRA-FEA-F",
          "TRA-DEC-F",
          "TRA-SAR",
          "TRA-OPT-D",
          "TRA-PIX-D",
          "TRA-FEA-D",
          "TRA-DEC-D",
          "TRA-FEA-D-PT",
          "TRA-DEC-D-PT"
         ],
         "xaxis": "x",
         "y": [
          null,
          null,
          null,
          null,
          null,
          0.7881603861079024,
          0.7893062074084382,
          0.7452295467623796,
          0.7334367356989032,
          0.8932489193373817,
          0.8981441843575073
         ],
         "yaxis": "y"
        },
        {
         "alignmentgroup": "True",
         "hovertemplate": "Cloud Condition=Cloudy<br>Model=%{x}<br>F1-Score=%{y}<extra></extra>",
         "legendgroup": "Cloudy",
         "marker": {
          "color": "#00cc96",
          "pattern": {
           "shape": ""
          }
         },
         "name": "Cloudy",
         "offsetgroup": "Cloudy",
         "orientation": "v",
         "showlegend": true,
         "textposition": "auto",
         "type": "bar",
         "x": [
          "TRA-OPT-F",
          "TRA-PIX-F",
          "TRA-FEA-F",
          "TRA-DEC-F",
          "TRA-SAR",
          "TRA-OPT-D",
          "TRA-PIX-D",
          "TRA-FEA-D",
          "TRA-DEC-D",
          "TRA-FEA-D-PT",
          "TRA-DEC-D-PT"
         ],
         "xaxis": "x",
         "y": [
          null,
          null,
          null,
          null,
          null,
          0.2261068443688881,
          0.30146062892089354,
          0.2617498157534555,
          0.24588910698594452,
          0.6269315087574997,
          0.502692989144354
         ],
         "yaxis": "y"
        }
       ],
       "layout": {
        "annotations": [
         {
          "showarrow": false,
          "text": "Cloud-free Models",
          "x": 1.5,
          "y": 1.05
         },
         {
          "showarrow": false,
          "text": "Diverse cloud conditions Models",
          "x": 7.5,
          "y": 1.05
         },
         {
          "showarrow": false,
          "text": "Better <br> cloud-free <br> Result",
          "x": 1,
          "xanchor": "left",
          "xref": "x domain",
          "y": 0.9244961563121749,
          "yanchor": "middle",
          "yref": "y"
         }
        ],
        "barmode": "group",
        "height": 400,
        "legend": {
         "title": {
          "text": "Cloud Condition"
         },
         "tracegroupgap": 0,
         "x": 1.02,
         "y": 0.1
        },
        "margin": {
         "t": 60
        },
        "shapes": [
         {
          "fillcolor": "blue",
          "layer": "below",
          "line": {
           "width": 0
          },
          "opacity": 0.15,
          "type": "rect",
          "x0": 0,
          "x1": 0.36363636363636365,
          "xref": "x domain",
          "y0": 0,
          "y1": 1,
          "yref": "y"
         },
         {
          "fillcolor": "red",
          "layer": "below",
          "line": {
           "width": 0
          },
          "opacity": 0.15,
          "type": "rect",
          "x0": 0.45454545454545453,
          "x1": 1,
          "xref": "x domain",
          "y0": 0,
          "y1": 1,
          "yref": "y"
         },
         {
          "line": {
           "dash": "dot"
          },
          "type": "line",
          "x0": 0,
          "x1": 1,
          "xref": "x domain",
          "y0": 0.9244961563121749,
          "y1": 0.9244961563121749,
          "yref": "y"
         }
        ],
        "template": {
         "data": {
          "bar": [
           {
            "error_x": {
             "color": "#2a3f5f"
            },
            "error_y": {
             "color": "#2a3f5f"
            },
            "marker": {
             "line": {
              "color": "#E5ECF6",
              "width": 0.5
             },
             "pattern": {
              "fillmode": "overlay",
              "size": 10,
              "solidity": 0.2
             }
            },
            "type": "bar"
           }
          ],
          "barpolar": [
           {
            "marker": {
             "line": {
              "color": "#E5ECF6",
              "width": 0.5
             },
             "pattern": {
              "fillmode": "overlay",
              "size": 10,
              "solidity": 0.2
             }
            },
            "type": "barpolar"
           }
          ],
          "carpet": [
           {
            "aaxis": {
             "endlinecolor": "#2a3f5f",
             "gridcolor": "white",
             "linecolor": "white",
             "minorgridcolor": "white",
             "startlinecolor": "#2a3f5f"
            },
            "baxis": {
             "endlinecolor": "#2a3f5f",
             "gridcolor": "white",
             "linecolor": "white",
             "minorgridcolor": "white",
             "startlinecolor": "#2a3f5f"
            },
            "type": "carpet"
           }
          ],
          "choropleth": [
           {
            "colorbar": {
             "outlinewidth": 0,
             "ticks": ""
            },
            "type": "choropleth"
           }
          ],
          "contour": [
           {
            "colorbar": {
             "outlinewidth": 0,
             "ticks": ""
            },
            "colorscale": [
             [
              0,
              "#0d0887"
             ],
             [
              0.1111111111111111,
              "#46039f"
             ],
             [
              0.2222222222222222,
              "#7201a8"
             ],
             [
              0.3333333333333333,
              "#9c179e"
             ],
             [
              0.4444444444444444,
              "#bd3786"
             ],
             [
              0.5555555555555556,
              "#d8576b"
             ],
             [
              0.6666666666666666,
              "#ed7953"
             ],
             [
              0.7777777777777778,
              "#fb9f3a"
             ],
             [
              0.8888888888888888,
              "#fdca26"
             ],
             [
              1,
              "#f0f921"
             ]
            ],
            "type": "contour"
           }
          ],
          "contourcarpet": [
           {
            "colorbar": {
             "outlinewidth": 0,
             "ticks": ""
            },
            "type": "contourcarpet"
           }
          ],
          "heatmap": [
           {
            "colorbar": {
             "outlinewidth": 0,
             "ticks": ""
            },
            "colorscale": [
             [
              0,
              "#0d0887"
             ],
             [
              0.1111111111111111,
              "#46039f"
             ],
             [
              0.2222222222222222,
              "#7201a8"
             ],
             [
              0.3333333333333333,
              "#9c179e"
             ],
             [
              0.4444444444444444,
              "#bd3786"
             ],
             [
              0.5555555555555556,
              "#d8576b"
             ],
             [
              0.6666666666666666,
              "#ed7953"
             ],
             [
              0.7777777777777778,
              "#fb9f3a"
             ],
             [
              0.8888888888888888,
              "#fdca26"
             ],
             [
              1,
              "#f0f921"
             ]
            ],
            "type": "heatmap"
           }
          ],
          "heatmapgl": [
           {
            "colorbar": {
             "outlinewidth": 0,
             "ticks": ""
            },
            "colorscale": [
             [
              0,
              "#0d0887"
             ],
             [
              0.1111111111111111,
              "#46039f"
             ],
             [
              0.2222222222222222,
              "#7201a8"
             ],
             [
              0.3333333333333333,
              "#9c179e"
             ],
             [
              0.4444444444444444,
              "#bd3786"
             ],
             [
              0.5555555555555556,
              "#d8576b"
             ],
             [
              0.6666666666666666,
              "#ed7953"
             ],
             [
              0.7777777777777778,
              "#fb9f3a"
             ],
             [
              0.8888888888888888,
              "#fdca26"
             ],
             [
              1,
              "#f0f921"
             ]
            ],
            "type": "heatmapgl"
           }
          ],
          "histogram": [
           {
            "marker": {
             "pattern": {
              "fillmode": "overlay",
              "size": 10,
              "solidity": 0.2
             }
            },
            "type": "histogram"
           }
          ],
          "histogram2d": [
           {
            "colorbar": {
             "outlinewidth": 0,
             "ticks": ""
            },
            "colorscale": [
             [
              0,
              "#0d0887"
             ],
             [
              0.1111111111111111,
              "#46039f"
             ],
             [
              0.2222222222222222,
              "#7201a8"
             ],
             [
              0.3333333333333333,
              "#9c179e"
             ],
             [
              0.4444444444444444,
              "#bd3786"
             ],
             [
              0.5555555555555556,
              "#d8576b"
             ],
             [
              0.6666666666666666,
              "#ed7953"
             ],
             [
              0.7777777777777778,
              "#fb9f3a"
             ],
             [
              0.8888888888888888,
              "#fdca26"
             ],
             [
              1,
              "#f0f921"
             ]
            ],
            "type": "histogram2d"
           }
          ],
          "histogram2dcontour": [
           {
            "colorbar": {
             "outlinewidth": 0,
             "ticks": ""
            },
            "colorscale": [
             [
              0,
              "#0d0887"
             ],
             [
              0.1111111111111111,
              "#46039f"
             ],
             [
              0.2222222222222222,
              "#7201a8"
             ],
             [
              0.3333333333333333,
              "#9c179e"
             ],
             [
              0.4444444444444444,
              "#bd3786"
             ],
             [
              0.5555555555555556,
              "#d8576b"
             ],
             [
              0.6666666666666666,
              "#ed7953"
             ],
             [
              0.7777777777777778,
              "#fb9f3a"
             ],
             [
              0.8888888888888888,
              "#fdca26"
             ],
             [
              1,
              "#f0f921"
             ]
            ],
            "type": "histogram2dcontour"
           }
          ],
          "mesh3d": [
           {
            "colorbar": {
             "outlinewidth": 0,
             "ticks": ""
            },
            "type": "mesh3d"
           }
          ],
          "parcoords": [
           {
            "line": {
             "colorbar": {
              "outlinewidth": 0,
              "ticks": ""
             }
            },
            "type": "parcoords"
           }
          ],
          "pie": [
           {
            "automargin": true,
            "type": "pie"
           }
          ],
          "scatter": [
           {
            "fillpattern": {
             "fillmode": "overlay",
             "size": 10,
             "solidity": 0.2
            },
            "type": "scatter"
           }
          ],
          "scatter3d": [
           {
            "line": {
             "colorbar": {
              "outlinewidth": 0,
              "ticks": ""
             }
            },
            "marker": {
             "colorbar": {
              "outlinewidth": 0,
              "ticks": ""
             }
            },
            "type": "scatter3d"
           }
          ],
          "scattercarpet": [
           {
            "marker": {
             "colorbar": {
              "outlinewidth": 0,
              "ticks": ""
             }
            },
            "type": "scattercarpet"
           }
          ],
          "scattergeo": [
           {
            "marker": {
             "colorbar": {
              "outlinewidth": 0,
              "ticks": ""
             }
            },
            "type": "scattergeo"
           }
          ],
          "scattergl": [
           {
            "marker": {
             "colorbar": {
              "outlinewidth": 0,
              "ticks": ""
             }
            },
            "type": "scattergl"
           }
          ],
          "scattermapbox": [
           {
            "marker": {
             "colorbar": {
              "outlinewidth": 0,
              "ticks": ""
             }
            },
            "type": "scattermapbox"
           }
          ],
          "scatterpolar": [
           {
            "marker": {
             "colorbar": {
              "outlinewidth": 0,
              "ticks": ""
             }
            },
            "type": "scatterpolar"
           }
          ],
          "scatterpolargl": [
           {
            "marker": {
             "colorbar": {
              "outlinewidth": 0,
              "ticks": ""
             }
            },
            "type": "scatterpolargl"
           }
          ],
          "scatterternary": [
           {
            "marker": {
             "colorbar": {
              "outlinewidth": 0,
              "ticks": ""
             }
            },
            "type": "scatterternary"
           }
          ],
          "surface": [
           {
            "colorbar": {
             "outlinewidth": 0,
             "ticks": ""
            },
            "colorscale": [
             [
              0,
              "#0d0887"
             ],
             [
              0.1111111111111111,
              "#46039f"
             ],
             [
              0.2222222222222222,
              "#7201a8"
             ],
             [
              0.3333333333333333,
              "#9c179e"
             ],
             [
              0.4444444444444444,
              "#bd3786"
             ],
             [
              0.5555555555555556,
              "#d8576b"
             ],
             [
              0.6666666666666666,
              "#ed7953"
             ],
             [
              0.7777777777777778,
              "#fb9f3a"
             ],
             [
              0.8888888888888888,
              "#fdca26"
             ],
             [
              1,
              "#f0f921"
             ]
            ],
            "type": "surface"
           }
          ],
          "table": [
           {
            "cells": {
             "fill": {
              "color": "#EBF0F8"
             },
             "line": {
              "color": "white"
             }
            },
            "header": {
             "fill": {
              "color": "#C8D4E3"
             },
             "line": {
              "color": "white"
             }
            },
            "type": "table"
           }
          ]
         },
         "layout": {
          "annotationdefaults": {
           "arrowcolor": "#2a3f5f",
           "arrowhead": 0,
           "arrowwidth": 1
          },
          "autotypenumbers": "strict",
          "coloraxis": {
           "colorbar": {
            "outlinewidth": 0,
            "ticks": ""
           }
          },
          "colorscale": {
           "diverging": [
            [
             0,
             "#8e0152"
            ],
            [
             0.1,
             "#c51b7d"
            ],
            [
             0.2,
             "#de77ae"
            ],
            [
             0.3,
             "#f1b6da"
            ],
            [
             0.4,
             "#fde0ef"
            ],
            [
             0.5,
             "#f7f7f7"
            ],
            [
             0.6,
             "#e6f5d0"
            ],
            [
             0.7,
             "#b8e186"
            ],
            [
             0.8,
             "#7fbc41"
            ],
            [
             0.9,
             "#4d9221"
            ],
            [
             1,
             "#276419"
            ]
           ],
           "sequential": [
            [
             0,
             "#0d0887"
            ],
            [
             0.1111111111111111,
             "#46039f"
            ],
            [
             0.2222222222222222,
             "#7201a8"
            ],
            [
             0.3333333333333333,
             "#9c179e"
            ],
            [
             0.4444444444444444,
             "#bd3786"
            ],
            [
             0.5555555555555556,
             "#d8576b"
            ],
            [
             0.6666666666666666,
             "#ed7953"
            ],
            [
             0.7777777777777778,
             "#fb9f3a"
            ],
            [
             0.8888888888888888,
             "#fdca26"
            ],
            [
             1,
             "#f0f921"
            ]
           ],
           "sequentialminus": [
            [
             0,
             "#0d0887"
            ],
            [
             0.1111111111111111,
             "#46039f"
            ],
            [
             0.2222222222222222,
             "#7201a8"
            ],
            [
             0.3333333333333333,
             "#9c179e"
            ],
            [
             0.4444444444444444,
             "#bd3786"
            ],
            [
             0.5555555555555556,
             "#d8576b"
            ],
            [
             0.6666666666666666,
             "#ed7953"
            ],
            [
             0.7777777777777778,
             "#fb9f3a"
            ],
            [
             0.8888888888888888,
             "#fdca26"
            ],
            [
             1,
             "#f0f921"
            ]
           ]
          },
          "colorway": [
           "#636efa",
           "#EF553B",
           "#00cc96",
           "#ab63fa",
           "#FFA15A",
           "#19d3f3",
           "#FF6692",
           "#B6E880",
           "#FF97FF",
           "#FECB52"
          ],
          "font": {
           "color": "#2a3f5f"
          },
          "geo": {
           "bgcolor": "white",
           "lakecolor": "white",
           "landcolor": "#E5ECF6",
           "showlakes": true,
           "showland": true,
           "subunitcolor": "white"
          },
          "hoverlabel": {
           "align": "left"
          },
          "hovermode": "closest",
          "mapbox": {
           "style": "light"
          },
          "paper_bgcolor": "white",
          "plot_bgcolor": "#E5ECF6",
          "polar": {
           "angularaxis": {
            "gridcolor": "white",
            "linecolor": "white",
            "ticks": ""
           },
           "bgcolor": "#E5ECF6",
           "radialaxis": {
            "gridcolor": "white",
            "linecolor": "white",
            "ticks": ""
           }
          },
          "scene": {
           "xaxis": {
            "backgroundcolor": "#E5ECF6",
            "gridcolor": "white",
            "gridwidth": 2,
            "linecolor": "white",
            "showbackground": true,
            "ticks": "",
            "zerolinecolor": "white"
           },
           "yaxis": {
            "backgroundcolor": "#E5ECF6",
            "gridcolor": "white",
            "gridwidth": 2,
            "linecolor": "white",
            "showbackground": true,
            "ticks": "",
            "zerolinecolor": "white"
           },
           "zaxis": {
            "backgroundcolor": "#E5ECF6",
            "gridcolor": "white",
            "gridwidth": 2,
            "linecolor": "white",
            "showbackground": true,
            "ticks": "",
            "zerolinecolor": "white"
           }
          },
          "shapedefaults": {
           "line": {
            "color": "#2a3f5f"
           }
          },
          "ternary": {
           "aaxis": {
            "gridcolor": "white",
            "linecolor": "white",
            "ticks": ""
           },
           "baxis": {
            "gridcolor": "white",
            "linecolor": "white",
            "ticks": ""
           },
           "bgcolor": "#E5ECF6",
           "caxis": {
            "gridcolor": "white",
            "linecolor": "white",
            "ticks": ""
           }
          },
          "title": {
           "x": 0.05
          },
          "xaxis": {
           "automargin": true,
           "gridcolor": "white",
           "linecolor": "white",
           "ticks": "",
           "title": {
            "standoff": 15
           },
           "zerolinecolor": "white",
           "zerolinewidth": 2
          },
          "yaxis": {
           "automargin": true,
           "gridcolor": "white",
           "linecolor": "white",
           "ticks": "",
           "title": {
            "standoff": 15
           },
           "zerolinecolor": "white",
           "zerolinewidth": 2
          }
         }
        },
        "title": {
         "text": "Transformer-Based Models (Site 1)",
         "x": 0.5
        },
        "width": 800,
        "xaxis": {
         "anchor": "y",
         "domain": [
          0,
          1
         ],
         "title": {
          "text": "Model"
         }
        },
        "yaxis": {
         "anchor": "x",
         "domain": [
          0,
          1
         ],
         "range": [
          0,
          1.1
         ],
         "title": {
          "text": "F1-Score"
         }
        }
       }
      }
     },
     "metadata": {},
     "output_type": "display_data"
    }
   ],
   "source": [
    "exp_results.loc[(exp_results['name'].str.contains('SAR') & exp_results['cloud_cond'].str.contains('Cloudy')), 'f1'] = np.nan\n",
    "exp_results.loc[(exp_results['name'].str.contains('SAR') & exp_results['cloud_cond'].str.contains('No Cloud')), 'f1'] = np.nan\n",
    "\n",
    "cnn_exp_results = exp_results[exp_results['group_model'] == 'CNN']\n",
    "cnn_max = cnn_exp_results[cnn_exp_results['name'].str.contains('Cloud-free')]['f1'].max()\n",
    "cnn_exp_results.loc[(cnn_exp_results['name'].str.contains('Cloud-free') & exp_results['cloud_cond'].str.contains('No Cloud')), 'f1'] = np.nan\n",
    "cnn_exp_results.loc[(cnn_exp_results['name'].str.contains('Cloud-free') & exp_results['cloud_cond'].str.contains('Cloudy')), 'f1'] = np.nan\n",
    "cnn_exp_results = cnn_exp_results.replace(' \\(Diverse\\)', '-D', regex=True)\n",
    "cnn_exp_results = cnn_exp_results.replace(' \\(Cloud-free\\)', '-F', regex=True)\n",
    "cnn_exp_results = cnn_exp_results.replace(' \\(pre-trained\\)', '-PT', regex=True)\n",
    "x_lim1 = 4/11.\n",
    "x_lim2 = 5/11.\n",
    "\n",
    "fig = px.bar(cnn_exp_results, x=\"name\", y=\"f1\",\n",
    "             color='cloud_cond', barmode='group',\n",
    "             labels = {\n",
    "                 'f1': 'F1-Score',\n",
    "                 'name': 'Model',\n",
    "                 'cloud_cond': 'Cloud Condition'\n",
    "                 },\n",
    "             range_y = [0, 1.1],\n",
    "             height=400,\n",
    "             width= 800)\n",
    "\n",
    "\n",
    "fig.add_hrect(y0=0, y1=1, x0 = 0.0, x1 = x_lim1, line_width=0, fillcolor=\"blue\", opacity=0.15, layer = 'below')\n",
    "fig.add_hrect(y0=0, y1=1, x0 = x_lim2, x1 = 1, line_width=0, fillcolor=\"red\", opacity=0.15, layer = 'below')\n",
    "fig.add_annotation(text='Cloud-free Models', x=1.5, y=1.05, showarrow = False)\n",
    "fig.add_annotation(text='Diverse cloud conditions Models', x=7.5, y=1.05, showarrow = False)\n",
    "fig.add_hline(cnn_max, line_dash = 'dot', annotation_text = 'Better <br> cloud-free <br> Result', annotation_position = 'right')\n",
    "fig.update_layout(title_text=f'Convolution-Based Models (Site {site})', title_x=0.5)\n",
    "fig.update_layout(legend=dict(\n",
    "    x = 1.02,\n",
    "    y=0.1\n",
    "))\n",
    "fig.write_image(f'images/site_{site}_cnn.png')\n",
    "fig.show()\n",
    "\n",
    "swin_exp_results = exp_results[exp_results['group_model'] == 'SWIN-Unet']\n",
    "swin_max = swin_exp_results[swin_exp_results['name'].str.contains('Cloud-free')]['f1'].max()\n",
    "swin_exp_results.loc[(swin_exp_results['name'].str.contains('Cloud-free') & exp_results['cloud_cond'].str.contains('No Cloud')), 'f1'] = np.nan\n",
    "swin_exp_results.loc[(swin_exp_results['name'].str.contains('Cloud-free') & exp_results['cloud_cond'].str.contains('Cloudy')), 'f1'] = np.nan\n",
    "swin_exp_results = swin_exp_results.replace(' \\(Diverse\\)', '-D', regex=True)\n",
    "swin_exp_results = swin_exp_results.replace(' \\(Cloud-free\\)', '-F', regex=True)\n",
    "swin_exp_results = swin_exp_results.replace(' \\(pre-trained\\)', '-PT', regex=True)\n",
    "\n",
    "fig = px.bar(swin_exp_results, x=\"name\", y=\"f1\",\n",
    "             color='cloud_cond', barmode='group',\n",
    "             labels = {\n",
    "                 'f1': 'F1-Score',\n",
    "                 'name': 'Model',\n",
    "                 'cloud_cond': 'Cloud Condition'\n",
    "                 },\n",
    "             range_y = [0, 1.1],\n",
    "             height=400,\n",
    "             width= 800)\n",
    "\n",
    "fig.add_hrect(y0=0, y1=1, x0 = 0.0, x1 = x_lim1, line_width=0, fillcolor=\"blue\", opacity=0.15, layer = 'below')\n",
    "fig.add_hrect(y0=0, y1=1, x0 = x_lim2, x1 = 1, line_width=0, fillcolor=\"red\", opacity=0.15, layer = 'below')\n",
    "fig.add_annotation(text='Cloud-free Models', x=1.5, y=1.05, showarrow = False)\n",
    "fig.add_annotation(text='Diverse cloud conditions Models', x=7.5, y=1.05, showarrow = False)\n",
    "fig.add_hline(swin_max, line_dash = 'dot', annotation_text = 'Better <br> cloud-free <br> Result', annotation_position = 'right')\n",
    "fig.update_layout(title_text=f'Transformer-Based Models (Site {site})', title_x=0.5)\n",
    "fig.update_layout(legend=dict(\n",
    "    x = 1.02,\n",
    "    y=0.1\n",
    "))\n",
    "fig.show()\n",
    "fig.write_image(f'images/site_{site}_swin.png')"
   ]
  },
  {
   "cell_type": "code",
   "execution_count": null,
   "metadata": {},
   "outputs": [],
   "source": []
  }
 ],
 "metadata": {
  "kernelspec": {
   "display_name": "ferrari",
   "language": "python",
   "name": "python3"
  },
  "language_info": {
   "codemirror_mode": {
    "name": "ipython",
    "version": 3
   },
   "file_extension": ".py",
   "mimetype": "text/x-python",
   "name": "python",
   "nbconvert_exporter": "python",
   "pygments_lexer": "ipython3",
   "version": "3.9.18"
  },
  "orig_nbformat": 4
 },
 "nbformat": 4,
 "nbformat_minor": 2
}
