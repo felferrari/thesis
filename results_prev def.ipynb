{
 "cells": [
  {
   "cell_type": "code",
   "execution_count": 35,
   "metadata": {},
   "outputs": [],
   "source": [
    "import plotly.express as px\n",
    "from utils.ops import load_yaml\n",
    "from  pathlib import Path\n",
    "import pandas as pd\n",
    "import plotly.graph_objects as go\n",
    "from plotly.subplots import make_subplots\n",
    "import numpy as np"
   ]
  },
  {
   "cell_type": "markdown",
   "metadata": {},
   "source": [
    "# Preparing"
   ]
  },
  {
   "cell_type": "code",
   "execution_count": 36,
   "metadata": {},
   "outputs": [],
   "source": [
    "site = 2\n",
    "site_label  = 'AM'"
   ]
  },
  {
   "cell_type": "code",
   "execution_count": 37,
   "metadata": {},
   "outputs": [],
   "source": [
    "cfg = load_yaml(f'cfg{site}.yaml')\n",
    "site_cfg = load_yaml(f'site_{site}.yaml')\n",
    "\n",
    "preparation_params = cfg['preparation_params']\n",
    "paths_params = cfg['paths']\n",
    "general_params = cfg['general_params']\n",
    "experiments_paths = general_params['experiments_folders']\n",
    "\n",
    "images_path = Path('images')\n",
    "images_path.mkdir(exist_ok=True)"
   ]
  },
  {
   "cell_type": "markdown",
   "metadata": {},
   "source": [
    "## Functions"
   ]
  },
  {
   "cell_type": "code",
   "execution_count": 38,
   "metadata": {},
   "outputs": [],
   "source": [
    "def results2(experiments):\n",
    "    exp_results = []\n",
    "    for exp_i in experiments:\n",
    "        #experiment_params = cfg['experiments'][f'exp_{experiments[exp_i]}']\n",
    "        exp_path = Path(paths_params['experiments']) / f'exp_{exp_i}'\n",
    "        experiment_params = cfg['experiments'][f'exp_{exp_i}']\n",
    "\n",
    "        results_path = exp_path / experiments_paths['results']\n",
    "        final_results_file = results_path / f'results_{exp_i}.data'\n",
    "\n",
    "        result_df = pd.read_pickle(final_results_file)\n",
    "\n",
    "        exp_results.append(\n",
    "            {\n",
    "                'name': f'{experiment_params[\"short\"]}', # ({exp_i})',\n",
    "                'cloud_cond': 'All Pixels',\n",
    "                'f1': result_df['global_f1'][0],\n",
    "                'precision': result_df['global_precision'][0],\n",
    "                'recall': result_df['global_recall'][0],\n",
    "                'group_model': experiment_params['group_model'],\n",
    "                'prev_def': 'False' if '[No Prev Def]' in experiment_params['short'] else 'True'\n",
    "            }\n",
    "        )\n",
    "\n",
    "        exp_results.append(\n",
    "            {\n",
    "                'name': f'{experiment_params[\"short\"]}', # ({exp_i})',\n",
    "                'cloud_cond': 'No Cloud',\n",
    "                'f1': result_df['no_cloud_f1'][0],\n",
    "                'precision': result_df['no_cloud_precision'][0],\n",
    "                'recall': result_df['no_cloud_recall'][0],\n",
    "                'group_model': experiment_params['group_model'],\n",
    "                'prev_def': 'False' if '[No Prev Def]' in experiment_params['short'] else 'True'\n",
    "            }\n",
    "        )\n",
    "\n",
    "        exp_results.append(\n",
    "            {\n",
    "                'name': f'{experiment_params[\"short\"]}', # ({exp_i})',\n",
    "                'cloud_cond': 'Cloudy',\n",
    "                'f1': result_df['cloud_f1'][0],\n",
    "                'precision': result_df['cloud_precision'][0],\n",
    "                'recall': result_df['cloud_recall'][0],\n",
    "                'group_model': experiment_params['group_model'],\n",
    "                'prev_def': 'False' if '[No Prev Def]' in experiment_params['short'] else 'True'\n",
    "            }\n",
    "        )\n",
    "\n",
    "\n",
    "        \n",
    "    return pd.DataFrame(exp_results)"
   ]
  },
  {
   "cell_type": "markdown",
   "metadata": {},
   "source": [
    "## Data preparing"
   ]
  },
  {
   "cell_type": "code",
   "execution_count": 39,
   "metadata": {},
   "outputs": [],
   "source": [
    "experiments = [\n",
    "    6,\n",
    "    12,\n",
    "    2,\n",
    "    13,\n",
    "    56,\n",
    "    62,\n",
    "    52,\n",
    "    63\n",
    "    \n",
    "]\n",
    "exp_results = results2(experiments)"
   ]
  },
  {
   "cell_type": "code",
   "execution_count": 40,
   "metadata": {},
   "outputs": [
    {
     "data": {
      "text/html": [
       "<div>\n",
       "<style scoped>\n",
       "    .dataframe tbody tr th:only-of-type {\n",
       "        vertical-align: middle;\n",
       "    }\n",
       "\n",
       "    .dataframe tbody tr th {\n",
       "        vertical-align: top;\n",
       "    }\n",
       "\n",
       "    .dataframe thead th {\n",
       "        text-align: right;\n",
       "    }\n",
       "</style>\n",
       "<table border=\"1\" class=\"dataframe\">\n",
       "  <thead>\n",
       "    <tr style=\"text-align: right;\">\n",
       "      <th></th>\n",
       "      <th>name</th>\n",
       "      <th>cloud_cond</th>\n",
       "      <th>f1</th>\n",
       "      <th>precision</th>\n",
       "      <th>recall</th>\n",
       "      <th>group_model</th>\n",
       "      <th>prev_def</th>\n",
       "    </tr>\n",
       "  </thead>\n",
       "  <tbody>\n",
       "    <tr>\n",
       "      <th>0</th>\n",
       "      <td>CNN-OPT (Cloud-free)</td>\n",
       "      <td>All Pixels</td>\n",
       "      <td>0.825462</td>\n",
       "      <td>0.907231</td>\n",
       "      <td>0.757214</td>\n",
       "      <td>CNN</td>\n",
       "      <td>True</td>\n",
       "    </tr>\n",
       "    <tr>\n",
       "      <th>1</th>\n",
       "      <td>CNN-OPT (Cloud-free)</td>\n",
       "      <td>No Cloud</td>\n",
       "      <td>0.827067</td>\n",
       "      <td>0.910950</td>\n",
       "      <td>0.757329</td>\n",
       "      <td>CNN</td>\n",
       "      <td>True</td>\n",
       "    </tr>\n",
       "    <tr>\n",
       "      <th>2</th>\n",
       "      <td>CNN-OPT (Cloud-free)</td>\n",
       "      <td>Cloudy</td>\n",
       "      <td>0.212470</td>\n",
       "      <td>0.128307</td>\n",
       "      <td>0.617553</td>\n",
       "      <td>CNN</td>\n",
       "      <td>True</td>\n",
       "    </tr>\n",
       "    <tr>\n",
       "      <th>3</th>\n",
       "      <td>CNN-OPT [No Prev Def] (Cloud-free)</td>\n",
       "      <td>All Pixels</td>\n",
       "      <td>0.681163</td>\n",
       "      <td>0.981681</td>\n",
       "      <td>0.521514</td>\n",
       "      <td>CNN</td>\n",
       "      <td>False</td>\n",
       "    </tr>\n",
       "    <tr>\n",
       "      <th>4</th>\n",
       "      <td>CNN-OPT [No Prev Def] (Cloud-free)</td>\n",
       "      <td>No Cloud</td>\n",
       "      <td>0.681636</td>\n",
       "      <td>0.981679</td>\n",
       "      <td>0.522069</td>\n",
       "      <td>CNN</td>\n",
       "      <td>False</td>\n",
       "    </tr>\n",
       "    <tr>\n",
       "      <th>5</th>\n",
       "      <td>CNN-OPT [No Prev Def] (Cloud-free)</td>\n",
       "      <td>Cloudy</td>\n",
       "      <td>0.076445</td>\n",
       "      <td>1.000000</td>\n",
       "      <td>0.039742</td>\n",
       "      <td>CNN</td>\n",
       "      <td>False</td>\n",
       "    </tr>\n",
       "    <tr>\n",
       "      <th>6</th>\n",
       "      <td>CNN-SAR</td>\n",
       "      <td>All Pixels</td>\n",
       "      <td>0.839339</td>\n",
       "      <td>0.855540</td>\n",
       "      <td>0.823740</td>\n",
       "      <td>CNN</td>\n",
       "      <td>True</td>\n",
       "    </tr>\n",
       "    <tr>\n",
       "      <th>7</th>\n",
       "      <td>CNN-SAR</td>\n",
       "      <td>No Cloud</td>\n",
       "      <td>0.838706</td>\n",
       "      <td>0.857185</td>\n",
       "      <td>0.821008</td>\n",
       "      <td>CNN</td>\n",
       "      <td>True</td>\n",
       "    </tr>\n",
       "    <tr>\n",
       "      <th>8</th>\n",
       "      <td>CNN-SAR</td>\n",
       "      <td>Cloudy</td>\n",
       "      <td>0.842192</td>\n",
       "      <td>0.848235</td>\n",
       "      <td>0.836234</td>\n",
       "      <td>CNN</td>\n",
       "      <td>True</td>\n",
       "    </tr>\n",
       "    <tr>\n",
       "      <th>9</th>\n",
       "      <td>CNN-SAR [No Prev Def]</td>\n",
       "      <td>All Pixels</td>\n",
       "      <td>0.754273</td>\n",
       "      <td>0.849373</td>\n",
       "      <td>0.678325</td>\n",
       "      <td>CNN</td>\n",
       "      <td>False</td>\n",
       "    </tr>\n",
       "    <tr>\n",
       "      <th>10</th>\n",
       "      <td>CNN-SAR [No Prev Def]</td>\n",
       "      <td>No Cloud</td>\n",
       "      <td>0.751751</td>\n",
       "      <td>0.850024</td>\n",
       "      <td>0.673846</td>\n",
       "      <td>CNN</td>\n",
       "      <td>False</td>\n",
       "    </tr>\n",
       "    <tr>\n",
       "      <th>11</th>\n",
       "      <td>CNN-SAR [No Prev Def]</td>\n",
       "      <td>Cloudy</td>\n",
       "      <td>0.765613</td>\n",
       "      <td>0.846513</td>\n",
       "      <td>0.698828</td>\n",
       "      <td>CNN</td>\n",
       "      <td>False</td>\n",
       "    </tr>\n",
       "    <tr>\n",
       "      <th>12</th>\n",
       "      <td>TRA-OPT (Cloud-free)</td>\n",
       "      <td>All Pixels</td>\n",
       "      <td>0.843438</td>\n",
       "      <td>0.941654</td>\n",
       "      <td>0.763774</td>\n",
       "      <td>SWIN-Unet</td>\n",
       "      <td>True</td>\n",
       "    </tr>\n",
       "    <tr>\n",
       "      <th>13</th>\n",
       "      <td>TRA-OPT (Cloud-free)</td>\n",
       "      <td>No Cloud</td>\n",
       "      <td>0.844359</td>\n",
       "      <td>0.943641</td>\n",
       "      <td>0.763979</td>\n",
       "      <td>SWIN-Unet</td>\n",
       "      <td>True</td>\n",
       "    </tr>\n",
       "    <tr>\n",
       "      <th>14</th>\n",
       "      <td>TRA-OPT (Cloud-free)</td>\n",
       "      <td>Cloudy</td>\n",
       "      <td>0.327622</td>\n",
       "      <td>0.233152</td>\n",
       "      <td>0.550798</td>\n",
       "      <td>SWIN-Unet</td>\n",
       "      <td>True</td>\n",
       "    </tr>\n",
       "    <tr>\n",
       "      <th>15</th>\n",
       "      <td>TRA-OPT [No Prev Def] (Cloud-free)</td>\n",
       "      <td>All Pixels</td>\n",
       "      <td>0.719659</td>\n",
       "      <td>0.958607</td>\n",
       "      <td>0.576066</td>\n",
       "      <td>SWIN-Unet</td>\n",
       "      <td>False</td>\n",
       "    </tr>\n",
       "    <tr>\n",
       "      <th>16</th>\n",
       "      <td>TRA-OPT [No Prev Def] (Cloud-free)</td>\n",
       "      <td>No Cloud</td>\n",
       "      <td>0.720130</td>\n",
       "      <td>0.958604</td>\n",
       "      <td>0.576670</td>\n",
       "      <td>SWIN-Unet</td>\n",
       "      <td>False</td>\n",
       "    </tr>\n",
       "    <tr>\n",
       "      <th>17</th>\n",
       "      <td>TRA-OPT [No Prev Def] (Cloud-free)</td>\n",
       "      <td>Cloudy</td>\n",
       "      <td>0.068277</td>\n",
       "      <td>1.000000</td>\n",
       "      <td>0.035345</td>\n",
       "      <td>SWIN-Unet</td>\n",
       "      <td>False</td>\n",
       "    </tr>\n",
       "    <tr>\n",
       "      <th>18</th>\n",
       "      <td>TRA-SAR</td>\n",
       "      <td>All Pixels</td>\n",
       "      <td>0.830146</td>\n",
       "      <td>0.860765</td>\n",
       "      <td>0.801630</td>\n",
       "      <td>SWIN-Unet</td>\n",
       "      <td>True</td>\n",
       "    </tr>\n",
       "    <tr>\n",
       "      <th>19</th>\n",
       "      <td>TRA-SAR</td>\n",
       "      <td>No Cloud</td>\n",
       "      <td>0.829094</td>\n",
       "      <td>0.861859</td>\n",
       "      <td>0.798728</td>\n",
       "      <td>SWIN-Unet</td>\n",
       "      <td>True</td>\n",
       "    </tr>\n",
       "    <tr>\n",
       "      <th>20</th>\n",
       "      <td>TRA-SAR</td>\n",
       "      <td>Cloudy</td>\n",
       "      <td>0.834911</td>\n",
       "      <td>0.855874</td>\n",
       "      <td>0.814950</td>\n",
       "      <td>SWIN-Unet</td>\n",
       "      <td>True</td>\n",
       "    </tr>\n",
       "    <tr>\n",
       "      <th>21</th>\n",
       "      <td>TRA-SAR [No Prev Def]</td>\n",
       "      <td>All Pixels</td>\n",
       "      <td>0.648233</td>\n",
       "      <td>0.905754</td>\n",
       "      <td>0.504730</td>\n",
       "      <td>SWIN-Unet</td>\n",
       "      <td>False</td>\n",
       "    </tr>\n",
       "    <tr>\n",
       "      <th>22</th>\n",
       "      <td>TRA-SAR [No Prev Def]</td>\n",
       "      <td>No Cloud</td>\n",
       "      <td>0.645950</td>\n",
       "      <td>0.909324</td>\n",
       "      <td>0.500878</td>\n",
       "      <td>SWIN-Unet</td>\n",
       "      <td>False</td>\n",
       "    </tr>\n",
       "    <tr>\n",
       "      <th>23</th>\n",
       "      <td>TRA-SAR [No Prev Def]</td>\n",
       "      <td>Cloudy</td>\n",
       "      <td>0.658446</td>\n",
       "      <td>0.890412</td>\n",
       "      <td>0.522363</td>\n",
       "      <td>SWIN-Unet</td>\n",
       "      <td>False</td>\n",
       "    </tr>\n",
       "  </tbody>\n",
       "</table>\n",
       "</div>"
      ],
      "text/plain": [
       "                                  name  cloud_cond        f1  precision  \\\n",
       "0                 CNN-OPT (Cloud-free)  All Pixels  0.825462   0.907231   \n",
       "1                 CNN-OPT (Cloud-free)    No Cloud  0.827067   0.910950   \n",
       "2                 CNN-OPT (Cloud-free)      Cloudy  0.212470   0.128307   \n",
       "3   CNN-OPT [No Prev Def] (Cloud-free)  All Pixels  0.681163   0.981681   \n",
       "4   CNN-OPT [No Prev Def] (Cloud-free)    No Cloud  0.681636   0.981679   \n",
       "5   CNN-OPT [No Prev Def] (Cloud-free)      Cloudy  0.076445   1.000000   \n",
       "6                              CNN-SAR  All Pixels  0.839339   0.855540   \n",
       "7                              CNN-SAR    No Cloud  0.838706   0.857185   \n",
       "8                              CNN-SAR      Cloudy  0.842192   0.848235   \n",
       "9                CNN-SAR [No Prev Def]  All Pixels  0.754273   0.849373   \n",
       "10               CNN-SAR [No Prev Def]    No Cloud  0.751751   0.850024   \n",
       "11               CNN-SAR [No Prev Def]      Cloudy  0.765613   0.846513   \n",
       "12                TRA-OPT (Cloud-free)  All Pixels  0.843438   0.941654   \n",
       "13                TRA-OPT (Cloud-free)    No Cloud  0.844359   0.943641   \n",
       "14                TRA-OPT (Cloud-free)      Cloudy  0.327622   0.233152   \n",
       "15  TRA-OPT [No Prev Def] (Cloud-free)  All Pixels  0.719659   0.958607   \n",
       "16  TRA-OPT [No Prev Def] (Cloud-free)    No Cloud  0.720130   0.958604   \n",
       "17  TRA-OPT [No Prev Def] (Cloud-free)      Cloudy  0.068277   1.000000   \n",
       "18                             TRA-SAR  All Pixels  0.830146   0.860765   \n",
       "19                             TRA-SAR    No Cloud  0.829094   0.861859   \n",
       "20                             TRA-SAR      Cloudy  0.834911   0.855874   \n",
       "21               TRA-SAR [No Prev Def]  All Pixels  0.648233   0.905754   \n",
       "22               TRA-SAR [No Prev Def]    No Cloud  0.645950   0.909324   \n",
       "23               TRA-SAR [No Prev Def]      Cloudy  0.658446   0.890412   \n",
       "\n",
       "      recall group_model prev_def  \n",
       "0   0.757214         CNN     True  \n",
       "1   0.757329         CNN     True  \n",
       "2   0.617553         CNN     True  \n",
       "3   0.521514         CNN    False  \n",
       "4   0.522069         CNN    False  \n",
       "5   0.039742         CNN    False  \n",
       "6   0.823740         CNN     True  \n",
       "7   0.821008         CNN     True  \n",
       "8   0.836234         CNN     True  \n",
       "9   0.678325         CNN    False  \n",
       "10  0.673846         CNN    False  \n",
       "11  0.698828         CNN    False  \n",
       "12  0.763774   SWIN-Unet     True  \n",
       "13  0.763979   SWIN-Unet     True  \n",
       "14  0.550798   SWIN-Unet     True  \n",
       "15  0.576066   SWIN-Unet    False  \n",
       "16  0.576670   SWIN-Unet    False  \n",
       "17  0.035345   SWIN-Unet    False  \n",
       "18  0.801630   SWIN-Unet     True  \n",
       "19  0.798728   SWIN-Unet     True  \n",
       "20  0.814950   SWIN-Unet     True  \n",
       "21  0.504730   SWIN-Unet    False  \n",
       "22  0.500878   SWIN-Unet    False  \n",
       "23  0.522363   SWIN-Unet    False  "
      ]
     },
     "execution_count": 40,
     "metadata": {},
     "output_type": "execute_result"
    }
   ],
   "source": [
    "exp_results"
   ]
  },
  {
   "cell_type": "code",
   "execution_count": 43,
   "metadata": {},
   "outputs": [
    {
     "data": {
      "application/vnd.plotly.v1+json": {
       "config": {
        "plotlyServerURL": "https://plot.ly"
       },
       "data": [
        {
         "alignmentgroup": "True",
         "hovertemplate": "Previous Deforestation Map=True<br>Model=%{x}<br>F1-Score=%{y}<extra></extra>",
         "legendgroup": "True",
         "marker": {
          "color": "#636efa",
          "pattern": {
           "shape": ""
          }
         },
         "name": "True",
         "offsetgroup": "True",
         "orientation": "v",
         "showlegend": true,
         "textposition": "auto",
         "type": "bar",
         "x": [
          "CNN-OPT",
          "CNN-OPT",
          "CNN-OPT",
          "CNN-SAR",
          "CNN-SAR",
          "CNN-SAR",
          "TRA-OPT",
          "TRA-OPT",
          "TRA-OPT",
          "TRA-SAR",
          "TRA-SAR",
          "TRA-SAR"
         ],
         "xaxis": "x",
         "y": [
          0.8254616641584125,
          null,
          null,
          0.8393390064047506,
          null,
          null,
          0.8434375269606842,
          null,
          null,
          0.8301455225276767,
          null,
          null
         ],
         "yaxis": "y"
        },
        {
         "alignmentgroup": "True",
         "hovertemplate": "Previous Deforestation Map=False<br>Model=%{x}<br>F1-Score=%{y}<extra></extra>",
         "legendgroup": "False",
         "marker": {
          "color": "#EF553B",
          "pattern": {
           "shape": ""
          }
         },
         "name": "False",
         "offsetgroup": "False",
         "orientation": "v",
         "showlegend": true,
         "textposition": "auto",
         "type": "bar",
         "x": [
          "CNN-OPT",
          "CNN-OPT",
          "CNN-OPT",
          "CNN-SAR",
          "CNN-SAR",
          "CNN-SAR",
          "TRA-OPT",
          "TRA-OPT",
          "TRA-OPT",
          "TRA-SAR",
          "TRA-SAR",
          "TRA-SAR"
         ],
         "xaxis": "x",
         "y": [
          0.6811625885803869,
          null,
          null,
          0.7542734412731186,
          null,
          null,
          0.7196590558918096,
          null,
          null,
          0.6482332606181979,
          null,
          null
         ],
         "yaxis": "y"
        }
       ],
       "layout": {
        "annotations": [
         {
          "showarrow": false,
          "text": "CNN Models",
          "x": 0.5,
          "y": 1.05
         },
         {
          "showarrow": false,
          "text": "Transformer-based Models",
          "x": 2.5,
          "y": 1.05
         }
        ],
        "barmode": "group",
        "height": 400,
        "legend": {
         "title": {
          "text": "Previous Deforestation Map"
         },
         "tracegroupgap": 0
        },
        "margin": {
         "t": 60
        },
        "shapes": [
         {
          "fillcolor": "green",
          "layer": "below",
          "line": {
           "width": 0
          },
          "opacity": 0.15,
          "type": "rect",
          "x0": 0,
          "x1": 0.5,
          "xref": "x domain",
          "y0": 0,
          "y1": 1,
          "yref": "y"
         },
         {
          "fillcolor": "purple",
          "layer": "below",
          "line": {
           "width": 0
          },
          "opacity": 0.15,
          "type": "rect",
          "x0": 0.5,
          "x1": 1,
          "xref": "x domain",
          "y0": 0,
          "y1": 1,
          "yref": "y"
         }
        ],
        "template": {
         "data": {
          "bar": [
           {
            "error_x": {
             "color": "#2a3f5f"
            },
            "error_y": {
             "color": "#2a3f5f"
            },
            "marker": {
             "line": {
              "color": "#E5ECF6",
              "width": 0.5
             },
             "pattern": {
              "fillmode": "overlay",
              "size": 10,
              "solidity": 0.2
             }
            },
            "type": "bar"
           }
          ],
          "barpolar": [
           {
            "marker": {
             "line": {
              "color": "#E5ECF6",
              "width": 0.5
             },
             "pattern": {
              "fillmode": "overlay",
              "size": 10,
              "solidity": 0.2
             }
            },
            "type": "barpolar"
           }
          ],
          "carpet": [
           {
            "aaxis": {
             "endlinecolor": "#2a3f5f",
             "gridcolor": "white",
             "linecolor": "white",
             "minorgridcolor": "white",
             "startlinecolor": "#2a3f5f"
            },
            "baxis": {
             "endlinecolor": "#2a3f5f",
             "gridcolor": "white",
             "linecolor": "white",
             "minorgridcolor": "white",
             "startlinecolor": "#2a3f5f"
            },
            "type": "carpet"
           }
          ],
          "choropleth": [
           {
            "colorbar": {
             "outlinewidth": 0,
             "ticks": ""
            },
            "type": "choropleth"
           }
          ],
          "contour": [
           {
            "colorbar": {
             "outlinewidth": 0,
             "ticks": ""
            },
            "colorscale": [
             [
              0,
              "#0d0887"
             ],
             [
              0.1111111111111111,
              "#46039f"
             ],
             [
              0.2222222222222222,
              "#7201a8"
             ],
             [
              0.3333333333333333,
              "#9c179e"
             ],
             [
              0.4444444444444444,
              "#bd3786"
             ],
             [
              0.5555555555555556,
              "#d8576b"
             ],
             [
              0.6666666666666666,
              "#ed7953"
             ],
             [
              0.7777777777777778,
              "#fb9f3a"
             ],
             [
              0.8888888888888888,
              "#fdca26"
             ],
             [
              1,
              "#f0f921"
             ]
            ],
            "type": "contour"
           }
          ],
          "contourcarpet": [
           {
            "colorbar": {
             "outlinewidth": 0,
             "ticks": ""
            },
            "type": "contourcarpet"
           }
          ],
          "heatmap": [
           {
            "colorbar": {
             "outlinewidth": 0,
             "ticks": ""
            },
            "colorscale": [
             [
              0,
              "#0d0887"
             ],
             [
              0.1111111111111111,
              "#46039f"
             ],
             [
              0.2222222222222222,
              "#7201a8"
             ],
             [
              0.3333333333333333,
              "#9c179e"
             ],
             [
              0.4444444444444444,
              "#bd3786"
             ],
             [
              0.5555555555555556,
              "#d8576b"
             ],
             [
              0.6666666666666666,
              "#ed7953"
             ],
             [
              0.7777777777777778,
              "#fb9f3a"
             ],
             [
              0.8888888888888888,
              "#fdca26"
             ],
             [
              1,
              "#f0f921"
             ]
            ],
            "type": "heatmap"
           }
          ],
          "heatmapgl": [
           {
            "colorbar": {
             "outlinewidth": 0,
             "ticks": ""
            },
            "colorscale": [
             [
              0,
              "#0d0887"
             ],
             [
              0.1111111111111111,
              "#46039f"
             ],
             [
              0.2222222222222222,
              "#7201a8"
             ],
             [
              0.3333333333333333,
              "#9c179e"
             ],
             [
              0.4444444444444444,
              "#bd3786"
             ],
             [
              0.5555555555555556,
              "#d8576b"
             ],
             [
              0.6666666666666666,
              "#ed7953"
             ],
             [
              0.7777777777777778,
              "#fb9f3a"
             ],
             [
              0.8888888888888888,
              "#fdca26"
             ],
             [
              1,
              "#f0f921"
             ]
            ],
            "type": "heatmapgl"
           }
          ],
          "histogram": [
           {
            "marker": {
             "pattern": {
              "fillmode": "overlay",
              "size": 10,
              "solidity": 0.2
             }
            },
            "type": "histogram"
           }
          ],
          "histogram2d": [
           {
            "colorbar": {
             "outlinewidth": 0,
             "ticks": ""
            },
            "colorscale": [
             [
              0,
              "#0d0887"
             ],
             [
              0.1111111111111111,
              "#46039f"
             ],
             [
              0.2222222222222222,
              "#7201a8"
             ],
             [
              0.3333333333333333,
              "#9c179e"
             ],
             [
              0.4444444444444444,
              "#bd3786"
             ],
             [
              0.5555555555555556,
              "#d8576b"
             ],
             [
              0.6666666666666666,
              "#ed7953"
             ],
             [
              0.7777777777777778,
              "#fb9f3a"
             ],
             [
              0.8888888888888888,
              "#fdca26"
             ],
             [
              1,
              "#f0f921"
             ]
            ],
            "type": "histogram2d"
           }
          ],
          "histogram2dcontour": [
           {
            "colorbar": {
             "outlinewidth": 0,
             "ticks": ""
            },
            "colorscale": [
             [
              0,
              "#0d0887"
             ],
             [
              0.1111111111111111,
              "#46039f"
             ],
             [
              0.2222222222222222,
              "#7201a8"
             ],
             [
              0.3333333333333333,
              "#9c179e"
             ],
             [
              0.4444444444444444,
              "#bd3786"
             ],
             [
              0.5555555555555556,
              "#d8576b"
             ],
             [
              0.6666666666666666,
              "#ed7953"
             ],
             [
              0.7777777777777778,
              "#fb9f3a"
             ],
             [
              0.8888888888888888,
              "#fdca26"
             ],
             [
              1,
              "#f0f921"
             ]
            ],
            "type": "histogram2dcontour"
           }
          ],
          "mesh3d": [
           {
            "colorbar": {
             "outlinewidth": 0,
             "ticks": ""
            },
            "type": "mesh3d"
           }
          ],
          "parcoords": [
           {
            "line": {
             "colorbar": {
              "outlinewidth": 0,
              "ticks": ""
             }
            },
            "type": "parcoords"
           }
          ],
          "pie": [
           {
            "automargin": true,
            "type": "pie"
           }
          ],
          "scatter": [
           {
            "fillpattern": {
             "fillmode": "overlay",
             "size": 10,
             "solidity": 0.2
            },
            "type": "scatter"
           }
          ],
          "scatter3d": [
           {
            "line": {
             "colorbar": {
              "outlinewidth": 0,
              "ticks": ""
             }
            },
            "marker": {
             "colorbar": {
              "outlinewidth": 0,
              "ticks": ""
             }
            },
            "type": "scatter3d"
           }
          ],
          "scattercarpet": [
           {
            "marker": {
             "colorbar": {
              "outlinewidth": 0,
              "ticks": ""
             }
            },
            "type": "scattercarpet"
           }
          ],
          "scattergeo": [
           {
            "marker": {
             "colorbar": {
              "outlinewidth": 0,
              "ticks": ""
             }
            },
            "type": "scattergeo"
           }
          ],
          "scattergl": [
           {
            "marker": {
             "colorbar": {
              "outlinewidth": 0,
              "ticks": ""
             }
            },
            "type": "scattergl"
           }
          ],
          "scattermapbox": [
           {
            "marker": {
             "colorbar": {
              "outlinewidth": 0,
              "ticks": ""
             }
            },
            "type": "scattermapbox"
           }
          ],
          "scatterpolar": [
           {
            "marker": {
             "colorbar": {
              "outlinewidth": 0,
              "ticks": ""
             }
            },
            "type": "scatterpolar"
           }
          ],
          "scatterpolargl": [
           {
            "marker": {
             "colorbar": {
              "outlinewidth": 0,
              "ticks": ""
             }
            },
            "type": "scatterpolargl"
           }
          ],
          "scatterternary": [
           {
            "marker": {
             "colorbar": {
              "outlinewidth": 0,
              "ticks": ""
             }
            },
            "type": "scatterternary"
           }
          ],
          "surface": [
           {
            "colorbar": {
             "outlinewidth": 0,
             "ticks": ""
            },
            "colorscale": [
             [
              0,
              "#0d0887"
             ],
             [
              0.1111111111111111,
              "#46039f"
             ],
             [
              0.2222222222222222,
              "#7201a8"
             ],
             [
              0.3333333333333333,
              "#9c179e"
             ],
             [
              0.4444444444444444,
              "#bd3786"
             ],
             [
              0.5555555555555556,
              "#d8576b"
             ],
             [
              0.6666666666666666,
              "#ed7953"
             ],
             [
              0.7777777777777778,
              "#fb9f3a"
             ],
             [
              0.8888888888888888,
              "#fdca26"
             ],
             [
              1,
              "#f0f921"
             ]
            ],
            "type": "surface"
           }
          ],
          "table": [
           {
            "cells": {
             "fill": {
              "color": "#EBF0F8"
             },
             "line": {
              "color": "white"
             }
            },
            "header": {
             "fill": {
              "color": "#C8D4E3"
             },
             "line": {
              "color": "white"
             }
            },
            "type": "table"
           }
          ]
         },
         "layout": {
          "annotationdefaults": {
           "arrowcolor": "#2a3f5f",
           "arrowhead": 0,
           "arrowwidth": 1
          },
          "autotypenumbers": "strict",
          "coloraxis": {
           "colorbar": {
            "outlinewidth": 0,
            "ticks": ""
           }
          },
          "colorscale": {
           "diverging": [
            [
             0,
             "#8e0152"
            ],
            [
             0.1,
             "#c51b7d"
            ],
            [
             0.2,
             "#de77ae"
            ],
            [
             0.3,
             "#f1b6da"
            ],
            [
             0.4,
             "#fde0ef"
            ],
            [
             0.5,
             "#f7f7f7"
            ],
            [
             0.6,
             "#e6f5d0"
            ],
            [
             0.7,
             "#b8e186"
            ],
            [
             0.8,
             "#7fbc41"
            ],
            [
             0.9,
             "#4d9221"
            ],
            [
             1,
             "#276419"
            ]
           ],
           "sequential": [
            [
             0,
             "#0d0887"
            ],
            [
             0.1111111111111111,
             "#46039f"
            ],
            [
             0.2222222222222222,
             "#7201a8"
            ],
            [
             0.3333333333333333,
             "#9c179e"
            ],
            [
             0.4444444444444444,
             "#bd3786"
            ],
            [
             0.5555555555555556,
             "#d8576b"
            ],
            [
             0.6666666666666666,
             "#ed7953"
            ],
            [
             0.7777777777777778,
             "#fb9f3a"
            ],
            [
             0.8888888888888888,
             "#fdca26"
            ],
            [
             1,
             "#f0f921"
            ]
           ],
           "sequentialminus": [
            [
             0,
             "#0d0887"
            ],
            [
             0.1111111111111111,
             "#46039f"
            ],
            [
             0.2222222222222222,
             "#7201a8"
            ],
            [
             0.3333333333333333,
             "#9c179e"
            ],
            [
             0.4444444444444444,
             "#bd3786"
            ],
            [
             0.5555555555555556,
             "#d8576b"
            ],
            [
             0.6666666666666666,
             "#ed7953"
            ],
            [
             0.7777777777777778,
             "#fb9f3a"
            ],
            [
             0.8888888888888888,
             "#fdca26"
            ],
            [
             1,
             "#f0f921"
            ]
           ]
          },
          "colorway": [
           "#636efa",
           "#EF553B",
           "#00cc96",
           "#ab63fa",
           "#FFA15A",
           "#19d3f3",
           "#FF6692",
           "#B6E880",
           "#FF97FF",
           "#FECB52"
          ],
          "font": {
           "color": "#2a3f5f"
          },
          "geo": {
           "bgcolor": "white",
           "lakecolor": "white",
           "landcolor": "#E5ECF6",
           "showlakes": true,
           "showland": true,
           "subunitcolor": "white"
          },
          "hoverlabel": {
           "align": "left"
          },
          "hovermode": "closest",
          "mapbox": {
           "style": "light"
          },
          "paper_bgcolor": "white",
          "plot_bgcolor": "#E5ECF6",
          "polar": {
           "angularaxis": {
            "gridcolor": "white",
            "linecolor": "white",
            "ticks": ""
           },
           "bgcolor": "#E5ECF6",
           "radialaxis": {
            "gridcolor": "white",
            "linecolor": "white",
            "ticks": ""
           }
          },
          "scene": {
           "xaxis": {
            "backgroundcolor": "#E5ECF6",
            "gridcolor": "white",
            "gridwidth": 2,
            "linecolor": "white",
            "showbackground": true,
            "ticks": "",
            "zerolinecolor": "white"
           },
           "yaxis": {
            "backgroundcolor": "#E5ECF6",
            "gridcolor": "white",
            "gridwidth": 2,
            "linecolor": "white",
            "showbackground": true,
            "ticks": "",
            "zerolinecolor": "white"
           },
           "zaxis": {
            "backgroundcolor": "#E5ECF6",
            "gridcolor": "white",
            "gridwidth": 2,
            "linecolor": "white",
            "showbackground": true,
            "ticks": "",
            "zerolinecolor": "white"
           }
          },
          "shapedefaults": {
           "line": {
            "color": "#2a3f5f"
           }
          },
          "ternary": {
           "aaxis": {
            "gridcolor": "white",
            "linecolor": "white",
            "ticks": ""
           },
           "baxis": {
            "gridcolor": "white",
            "linecolor": "white",
            "ticks": ""
           },
           "bgcolor": "#E5ECF6",
           "caxis": {
            "gridcolor": "white",
            "linecolor": "white",
            "ticks": ""
           }
          },
          "title": {
           "x": 0.05
          },
          "xaxis": {
           "automargin": true,
           "gridcolor": "white",
           "linecolor": "white",
           "ticks": "",
           "title": {
            "standoff": 15
           },
           "zerolinecolor": "white",
           "zerolinewidth": 2
          },
          "yaxis": {
           "automargin": true,
           "gridcolor": "white",
           "linecolor": "white",
           "ticks": "",
           "title": {
            "standoff": 15
           },
           "zerolinecolor": "white",
           "zerolinewidth": 2
          }
         }
        },
        "title": {
         "text": "Previoius Deforestation Map Improvement (Site 2)",
         "x": 0.5
        },
        "width": 800,
        "xaxis": {
         "anchor": "y",
         "domain": [
          0,
          1
         ],
         "title": {
          "text": "Model"
         }
        },
        "yaxis": {
         "anchor": "x",
         "domain": [
          0,
          1
         ],
         "title": {
          "text": "F1-Score"
         }
        }
       }
      }
     },
     "metadata": {},
     "output_type": "display_data"
    }
   ],
   "source": [
    "exp_results.loc[(exp_results['name'].str.contains('SAR') & exp_results['cloud_cond'].str.contains('Cloudy')), 'f1'] = np.nan\n",
    "exp_results.loc[(exp_results['name'].str.contains('SAR') & exp_results['cloud_cond'].str.contains('No Cloud')), 'f1'] = np.nan\n",
    "\n",
    "#cnn_exp_results = exp_results[exp_results['group_model'] == 'CNN']\n",
    "cnn_exp_results = exp_results\n",
    "cnn_max = cnn_exp_results[cnn_exp_results['name'].str.contains('Cloud-free')]['f1'].max()\n",
    "cnn_exp_results.loc[(cnn_exp_results['name'].str.contains('Cloud-free') & exp_results['cloud_cond'].str.contains('No Cloud')), 'f1'] = np.nan\n",
    "cnn_exp_results.loc[(cnn_exp_results['name'].str.contains('Cloud-free') & exp_results['cloud_cond'].str.contains('Cloudy')), 'f1'] = np.nan\n",
    "\n",
    "x_lim1 = 2/4.\n",
    "\n",
    "cnn_exp_results = cnn_exp_results.replace(' \\(Cloud-free\\)', '', regex=True)\n",
    "cnn_exp_results = cnn_exp_results.replace(' \\[No Prev Def\\]', '', regex=True)\n",
    "\n",
    "fig = px.bar(cnn_exp_results, x=\"name\", y=\"f1\",\n",
    "             color='prev_def', barmode='group',\n",
    "             labels = {\n",
    "                 'f1': 'F1-Score',\n",
    "                 'name': 'Model',\n",
    "                 'cloud_cond': 'Cloud Condition',\n",
    "                 'prev_def': 'Previous Deforestation Map'\n",
    "                 },\n",
    "             height=400,\n",
    "             width= 800)\n",
    "\n",
    "fig.add_hrect(y0=0, y1=1, x0 = 0.0, x1 = x_lim1, line_width=0, fillcolor=\"green\", opacity=0.15, layer = 'below')\n",
    "fig.add_hrect(y0=0, y1=1, x0 = x_lim1, x1 = 1, line_width=0, fillcolor=\"purple\", opacity=0.15, layer = 'below')\n",
    "fig.add_annotation(text='CNN Models', x=0.5, y=1.05, showarrow = False)\n",
    "fig.add_annotation(text='Transformer-based Models', x=2.5, y=1.05, showarrow = False)\n",
    "\n",
    "fig.update_layout(title_text=f'Previoius Deforestation Map Improvement (Site {site})', title_x=0.5)\n",
    "fig.show()\n",
    "fig.write_image(f'images/site_{site}_def_prev.png')"
   ]
  },
  {
   "cell_type": "code",
   "execution_count": null,
   "metadata": {},
   "outputs": [],
   "source": []
  },
  {
   "cell_type": "code",
   "execution_count": null,
   "metadata": {},
   "outputs": [],
   "source": []
  }
 ],
 "metadata": {
  "kernelspec": {
   "display_name": "ferrari",
   "language": "python",
   "name": "python3"
  },
  "language_info": {
   "codemirror_mode": {
    "name": "ipython",
    "version": 3
   },
   "file_extension": ".py",
   "mimetype": "text/x-python",
   "name": "python",
   "nbconvert_exporter": "python",
   "pygments_lexer": "ipython3",
   "version": "3.9.18"
  },
  "orig_nbformat": 4
 },
 "nbformat": 4,
 "nbformat_minor": 2
}
