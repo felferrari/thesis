{
 "cells": [
  {
   "cell_type": "code",
   "execution_count": 19,
   "metadata": {},
   "outputs": [],
   "source": [
    "import plotly.express as px\n",
    "from utils.ops import load_yaml\n",
    "from  pathlib import Path\n",
    "import pandas as pd\n",
    "import plotly.graph_objects as go\n",
    "from plotly.subplots import make_subplots\n",
    "import numpy as np"
   ]
  },
  {
   "cell_type": "markdown",
   "metadata": {},
   "source": [
    "# Preparing"
   ]
  },
  {
   "cell_type": "code",
   "execution_count": 20,
   "metadata": {},
   "outputs": [],
   "source": [
    "site = 1\n",
    "site_label  = 'AM'"
   ]
  },
  {
   "cell_type": "code",
   "execution_count": 21,
   "metadata": {},
   "outputs": [],
   "source": [
    "cfg = load_yaml(f'cfg{site}.yaml')\n",
    "site_cfg = load_yaml(f'site_{site}.yaml')\n",
    "\n",
    "preparation_params = cfg['preparation_params']\n",
    "paths_params = cfg['paths']\n",
    "general_params = cfg['general_params']\n",
    "experiments_paths = general_params['experiments_folders']\n",
    "\n",
    "images_path = Path('images')\n",
    "images_path.mkdir(exist_ok=True)"
   ]
  },
  {
   "cell_type": "markdown",
   "metadata": {},
   "source": [
    "## Functions"
   ]
  },
  {
   "cell_type": "code",
   "execution_count": 22,
   "metadata": {},
   "outputs": [],
   "source": [
    "def results2(experiments):\n",
    "    exp_results = []\n",
    "    for exp_i in experiments:\n",
    "        #experiment_params = cfg['experiments'][f'exp_{experiments[exp_i]}']\n",
    "        exp_path = Path(paths_params['experiments']) / f'exp_{exp_i}'\n",
    "        experiment_params = cfg['experiments'][f'exp_{exp_i}']\n",
    "\n",
    "        results_path = exp_path / experiments_paths['results']\n",
    "        final_results_file = results_path / f'results_{exp_i}.data'\n",
    "\n",
    "        result_df = pd.read_pickle(final_results_file)\n",
    "\n",
    "        if '[Siamese-diff]' in experiment_params['short']:\n",
    "            comb_method = 'Siamese [Difference]'\n",
    "        elif '[Siamese-conc]' in experiment_params['short']:\n",
    "            comb_method = 'Siamese [Concatenation]'\n",
    "        else:\n",
    "            comb_method = 'Pixel-level Concatenation'\n",
    "\n",
    "        exp_results.append(\n",
    "            {\n",
    "                'name': f'{experiment_params[\"short\"]}', # ({exp_i})',\n",
    "                'cloud_cond': 'All Pixels',\n",
    "                'f1': result_df['global_f1'][0],\n",
    "                'precision': result_df['global_precision'][0],\n",
    "                'recall': result_df['global_recall'][0],\n",
    "                'group_model': experiment_params['group_model'],\n",
    "                'prev_def': 'False' if '[No Prev Def]' in experiment_params['short'] else 'True',\n",
    "                'comb_method': comb_method\n",
    "\n",
    "            }\n",
    "        )\n",
    "\n",
    "        exp_results.append(\n",
    "            {\n",
    "                'name': f'{experiment_params[\"short\"]}', # ({exp_i})',\n",
    "                'cloud_cond': 'No Cloud',\n",
    "                'f1': result_df['no_cloud_f1'][0],\n",
    "                'precision': result_df['no_cloud_precision'][0],\n",
    "                'recall': result_df['no_cloud_recall'][0],\n",
    "                'group_model': experiment_params['group_model'],\n",
    "                'prev_def': 'False' if '[No Prev Def]' in experiment_params['short'] else 'True',\n",
    "                'comb_method': comb_method\n",
    "            }\n",
    "        )\n",
    "\n",
    "        exp_results.append(\n",
    "            {\n",
    "                'name': f'{experiment_params[\"short\"]}', # ({exp_i})',\n",
    "                'cloud_cond': 'Cloudy',\n",
    "                'f1': result_df['cloud_f1'][0],\n",
    "                'precision': result_df['cloud_precision'][0],\n",
    "                'recall': result_df['cloud_recall'][0],\n",
    "                'group_model': experiment_params['group_model'],\n",
    "                'prev_def': 'False' if '[No Prev Def]' in experiment_params['short'] else 'True',\n",
    "                'comb_method': comb_method\n",
    "            }\n",
    "        )\n",
    "\n",
    "\n",
    "        \n",
    "    return pd.DataFrame(exp_results)"
   ]
  },
  {
   "cell_type": "markdown",
   "metadata": {},
   "source": [
    "## Data preparing"
   ]
  },
  {
   "cell_type": "code",
   "execution_count": 23,
   "metadata": {},
   "outputs": [],
   "source": [
    "experiments = [\n",
    "    6,\n",
    "    18,\n",
    "    19,\n",
    "    2,\n",
    "    20,\n",
    "    21,\n",
    "    56,\n",
    "    68,\n",
    "    69,\n",
    "    52,\n",
    "    70,\n",
    "    71\n",
    "    \n",
    "]\n",
    "exp_results = results2(experiments)"
   ]
  },
  {
   "cell_type": "code",
   "execution_count": 24,
   "metadata": {},
   "outputs": [
    {
     "data": {
      "text/html": [
       "<div>\n",
       "<style scoped>\n",
       "    .dataframe tbody tr th:only-of-type {\n",
       "        vertical-align: middle;\n",
       "    }\n",
       "\n",
       "    .dataframe tbody tr th {\n",
       "        vertical-align: top;\n",
       "    }\n",
       "\n",
       "    .dataframe thead th {\n",
       "        text-align: right;\n",
       "    }\n",
       "</style>\n",
       "<table border=\"1\" class=\"dataframe\">\n",
       "  <thead>\n",
       "    <tr style=\"text-align: right;\">\n",
       "      <th></th>\n",
       "      <th>name</th>\n",
       "      <th>cloud_cond</th>\n",
       "      <th>f1</th>\n",
       "      <th>precision</th>\n",
       "      <th>recall</th>\n",
       "      <th>group_model</th>\n",
       "      <th>prev_def</th>\n",
       "      <th>comb_method</th>\n",
       "    </tr>\n",
       "  </thead>\n",
       "  <tbody>\n",
       "    <tr>\n",
       "      <th>0</th>\n",
       "      <td>CNN-OPT (Cloud-free)</td>\n",
       "      <td>All Pixels</td>\n",
       "      <td>0.921489</td>\n",
       "      <td>0.903045</td>\n",
       "      <td>0.940703</td>\n",
       "      <td>CNN</td>\n",
       "      <td>True</td>\n",
       "      <td>Pixel-level Concatenation</td>\n",
       "    </tr>\n",
       "    <tr>\n",
       "      <th>1</th>\n",
       "      <td>CNN-OPT (Cloud-free)</td>\n",
       "      <td>No Cloud</td>\n",
       "      <td>0.921489</td>\n",
       "      <td>0.903045</td>\n",
       "      <td>0.940703</td>\n",
       "      <td>CNN</td>\n",
       "      <td>True</td>\n",
       "      <td>Pixel-level Concatenation</td>\n",
       "    </tr>\n",
       "    <tr>\n",
       "      <th>2</th>\n",
       "      <td>CNN-OPT (Cloud-free)</td>\n",
       "      <td>Cloudy</td>\n",
       "      <td>NaN</td>\n",
       "      <td>NaN</td>\n",
       "      <td>NaN</td>\n",
       "      <td>CNN</td>\n",
       "      <td>True</td>\n",
       "      <td>Pixel-level Concatenation</td>\n",
       "    </tr>\n",
       "    <tr>\n",
       "      <th>3</th>\n",
       "      <td>CNN-OPT [Siamese-diff] (Cloud-free)</td>\n",
       "      <td>All Pixels</td>\n",
       "      <td>0.917469</td>\n",
       "      <td>0.893516</td>\n",
       "      <td>0.942741</td>\n",
       "      <td>CNN</td>\n",
       "      <td>True</td>\n",
       "      <td>Siamese [Difference]</td>\n",
       "    </tr>\n",
       "    <tr>\n",
       "      <th>4</th>\n",
       "      <td>CNN-OPT [Siamese-diff] (Cloud-free)</td>\n",
       "      <td>No Cloud</td>\n",
       "      <td>0.917469</td>\n",
       "      <td>0.893516</td>\n",
       "      <td>0.942741</td>\n",
       "      <td>CNN</td>\n",
       "      <td>True</td>\n",
       "      <td>Siamese [Difference]</td>\n",
       "    </tr>\n",
       "    <tr>\n",
       "      <th>5</th>\n",
       "      <td>CNN-OPT [Siamese-diff] (Cloud-free)</td>\n",
       "      <td>Cloudy</td>\n",
       "      <td>NaN</td>\n",
       "      <td>NaN</td>\n",
       "      <td>NaN</td>\n",
       "      <td>CNN</td>\n",
       "      <td>True</td>\n",
       "      <td>Siamese [Difference]</td>\n",
       "    </tr>\n",
       "    <tr>\n",
       "      <th>6</th>\n",
       "      <td>CNN-OPT [Siamese-conc] (Cloud-free)</td>\n",
       "      <td>All Pixels</td>\n",
       "      <td>0.917197</td>\n",
       "      <td>0.898457</td>\n",
       "      <td>0.936736</td>\n",
       "      <td>CNN</td>\n",
       "      <td>True</td>\n",
       "      <td>Siamese [Concatenation]</td>\n",
       "    </tr>\n",
       "    <tr>\n",
       "      <th>7</th>\n",
       "      <td>CNN-OPT [Siamese-conc] (Cloud-free)</td>\n",
       "      <td>No Cloud</td>\n",
       "      <td>0.917197</td>\n",
       "      <td>0.898457</td>\n",
       "      <td>0.936736</td>\n",
       "      <td>CNN</td>\n",
       "      <td>True</td>\n",
       "      <td>Siamese [Concatenation]</td>\n",
       "    </tr>\n",
       "    <tr>\n",
       "      <th>8</th>\n",
       "      <td>CNN-OPT [Siamese-conc] (Cloud-free)</td>\n",
       "      <td>Cloudy</td>\n",
       "      <td>NaN</td>\n",
       "      <td>NaN</td>\n",
       "      <td>NaN</td>\n",
       "      <td>CNN</td>\n",
       "      <td>True</td>\n",
       "      <td>Siamese [Concatenation]</td>\n",
       "    </tr>\n",
       "    <tr>\n",
       "      <th>9</th>\n",
       "      <td>CNN-SAR</td>\n",
       "      <td>All Pixels</td>\n",
       "      <td>0.885286</td>\n",
       "      <td>0.989573</td>\n",
       "      <td>0.800885</td>\n",
       "      <td>CNN</td>\n",
       "      <td>True</td>\n",
       "      <td>Pixel-level Concatenation</td>\n",
       "    </tr>\n",
       "    <tr>\n",
       "      <th>10</th>\n",
       "      <td>CNN-SAR</td>\n",
       "      <td>No Cloud</td>\n",
       "      <td>0.887218</td>\n",
       "      <td>0.989854</td>\n",
       "      <td>0.803867</td>\n",
       "      <td>CNN</td>\n",
       "      <td>True</td>\n",
       "      <td>Pixel-level Concatenation</td>\n",
       "    </tr>\n",
       "    <tr>\n",
       "      <th>11</th>\n",
       "      <td>CNN-SAR</td>\n",
       "      <td>Cloudy</td>\n",
       "      <td>0.866069</td>\n",
       "      <td>0.986722</td>\n",
       "      <td>0.771707</td>\n",
       "      <td>CNN</td>\n",
       "      <td>True</td>\n",
       "      <td>Pixel-level Concatenation</td>\n",
       "    </tr>\n",
       "    <tr>\n",
       "      <th>12</th>\n",
       "      <td>CNN-SAR [Siamese-diff]</td>\n",
       "      <td>All Pixels</td>\n",
       "      <td>0.694619</td>\n",
       "      <td>0.994097</td>\n",
       "      <td>0.533807</td>\n",
       "      <td>CNN</td>\n",
       "      <td>True</td>\n",
       "      <td>Siamese [Difference]</td>\n",
       "    </tr>\n",
       "    <tr>\n",
       "      <th>13</th>\n",
       "      <td>CNN-SAR [Siamese-diff]</td>\n",
       "      <td>No Cloud</td>\n",
       "      <td>0.694619</td>\n",
       "      <td>0.994097</td>\n",
       "      <td>0.533807</td>\n",
       "      <td>CNN</td>\n",
       "      <td>True</td>\n",
       "      <td>Siamese [Difference]</td>\n",
       "    </tr>\n",
       "    <tr>\n",
       "      <th>14</th>\n",
       "      <td>CNN-SAR [Siamese-diff]</td>\n",
       "      <td>Cloudy</td>\n",
       "      <td>NaN</td>\n",
       "      <td>NaN</td>\n",
       "      <td>NaN</td>\n",
       "      <td>CNN</td>\n",
       "      <td>True</td>\n",
       "      <td>Siamese [Difference]</td>\n",
       "    </tr>\n",
       "    <tr>\n",
       "      <th>15</th>\n",
       "      <td>CNN-SAR [Siamese-conc]</td>\n",
       "      <td>All Pixels</td>\n",
       "      <td>0.184718</td>\n",
       "      <td>0.993812</td>\n",
       "      <td>0.101821</td>\n",
       "      <td>CNN</td>\n",
       "      <td>True</td>\n",
       "      <td>Siamese [Concatenation]</td>\n",
       "    </tr>\n",
       "    <tr>\n",
       "      <th>16</th>\n",
       "      <td>CNN-SAR [Siamese-conc]</td>\n",
       "      <td>No Cloud</td>\n",
       "      <td>0.184718</td>\n",
       "      <td>0.993812</td>\n",
       "      <td>0.101821</td>\n",
       "      <td>CNN</td>\n",
       "      <td>True</td>\n",
       "      <td>Siamese [Concatenation]</td>\n",
       "    </tr>\n",
       "    <tr>\n",
       "      <th>17</th>\n",
       "      <td>CNN-SAR [Siamese-conc]</td>\n",
       "      <td>Cloudy</td>\n",
       "      <td>NaN</td>\n",
       "      <td>NaN</td>\n",
       "      <td>NaN</td>\n",
       "      <td>CNN</td>\n",
       "      <td>True</td>\n",
       "      <td>Siamese [Concatenation]</td>\n",
       "    </tr>\n",
       "    <tr>\n",
       "      <th>18</th>\n",
       "      <td>TRA-OPT (Cloud-free)</td>\n",
       "      <td>All Pixels</td>\n",
       "      <td>0.921913</td>\n",
       "      <td>0.895557</td>\n",
       "      <td>0.949867</td>\n",
       "      <td>SWIN-Unet</td>\n",
       "      <td>True</td>\n",
       "      <td>Pixel-level Concatenation</td>\n",
       "    </tr>\n",
       "    <tr>\n",
       "      <th>19</th>\n",
       "      <td>TRA-OPT (Cloud-free)</td>\n",
       "      <td>No Cloud</td>\n",
       "      <td>0.921913</td>\n",
       "      <td>0.895557</td>\n",
       "      <td>0.949867</td>\n",
       "      <td>SWIN-Unet</td>\n",
       "      <td>True</td>\n",
       "      <td>Pixel-level Concatenation</td>\n",
       "    </tr>\n",
       "    <tr>\n",
       "      <th>20</th>\n",
       "      <td>TRA-OPT (Cloud-free)</td>\n",
       "      <td>Cloudy</td>\n",
       "      <td>NaN</td>\n",
       "      <td>NaN</td>\n",
       "      <td>NaN</td>\n",
       "      <td>SWIN-Unet</td>\n",
       "      <td>True</td>\n",
       "      <td>Pixel-level Concatenation</td>\n",
       "    </tr>\n",
       "    <tr>\n",
       "      <th>21</th>\n",
       "      <td>TRA-OPT [Siamese-diff] (Cloud-free)</td>\n",
       "      <td>All Pixels</td>\n",
       "      <td>0.919262</td>\n",
       "      <td>0.893782</td>\n",
       "      <td>0.946236</td>\n",
       "      <td>SWIN-Unet</td>\n",
       "      <td>True</td>\n",
       "      <td>Siamese [Difference]</td>\n",
       "    </tr>\n",
       "    <tr>\n",
       "      <th>22</th>\n",
       "      <td>TRA-OPT [Siamese-diff] (Cloud-free)</td>\n",
       "      <td>No Cloud</td>\n",
       "      <td>0.919262</td>\n",
       "      <td>0.893782</td>\n",
       "      <td>0.946236</td>\n",
       "      <td>SWIN-Unet</td>\n",
       "      <td>True</td>\n",
       "      <td>Siamese [Difference]</td>\n",
       "    </tr>\n",
       "    <tr>\n",
       "      <th>23</th>\n",
       "      <td>TRA-OPT [Siamese-diff] (Cloud-free)</td>\n",
       "      <td>Cloudy</td>\n",
       "      <td>NaN</td>\n",
       "      <td>NaN</td>\n",
       "      <td>NaN</td>\n",
       "      <td>SWIN-Unet</td>\n",
       "      <td>True</td>\n",
       "      <td>Siamese [Difference]</td>\n",
       "    </tr>\n",
       "    <tr>\n",
       "      <th>24</th>\n",
       "      <td>TRA-OPT [Siamese-conc] (Cloud-free)</td>\n",
       "      <td>All Pixels</td>\n",
       "      <td>0.921193</td>\n",
       "      <td>0.899990</td>\n",
       "      <td>0.943419</td>\n",
       "      <td>SWIN-Unet</td>\n",
       "      <td>True</td>\n",
       "      <td>Siamese [Concatenation]</td>\n",
       "    </tr>\n",
       "    <tr>\n",
       "      <th>25</th>\n",
       "      <td>TRA-OPT [Siamese-conc] (Cloud-free)</td>\n",
       "      <td>No Cloud</td>\n",
       "      <td>0.921193</td>\n",
       "      <td>0.899990</td>\n",
       "      <td>0.943419</td>\n",
       "      <td>SWIN-Unet</td>\n",
       "      <td>True</td>\n",
       "      <td>Siamese [Concatenation]</td>\n",
       "    </tr>\n",
       "    <tr>\n",
       "      <th>26</th>\n",
       "      <td>TRA-OPT [Siamese-conc] (Cloud-free)</td>\n",
       "      <td>Cloudy</td>\n",
       "      <td>NaN</td>\n",
       "      <td>NaN</td>\n",
       "      <td>NaN</td>\n",
       "      <td>SWIN-Unet</td>\n",
       "      <td>True</td>\n",
       "      <td>Siamese [Concatenation]</td>\n",
       "    </tr>\n",
       "    <tr>\n",
       "      <th>27</th>\n",
       "      <td>TRA-SAR</td>\n",
       "      <td>All Pixels</td>\n",
       "      <td>0.815085</td>\n",
       "      <td>0.986780</td>\n",
       "      <td>0.694283</td>\n",
       "      <td>SWIN-Unet</td>\n",
       "      <td>True</td>\n",
       "      <td>Pixel-level Concatenation</td>\n",
       "    </tr>\n",
       "    <tr>\n",
       "      <th>28</th>\n",
       "      <td>TRA-SAR</td>\n",
       "      <td>No Cloud</td>\n",
       "      <td>0.820939</td>\n",
       "      <td>0.987853</td>\n",
       "      <td>0.702277</td>\n",
       "      <td>SWIN-Unet</td>\n",
       "      <td>True</td>\n",
       "      <td>Pixel-level Concatenation</td>\n",
       "    </tr>\n",
       "    <tr>\n",
       "      <th>29</th>\n",
       "      <td>TRA-SAR</td>\n",
       "      <td>Cloudy</td>\n",
       "      <td>0.755120</td>\n",
       "      <td>0.974981</td>\n",
       "      <td>0.616172</td>\n",
       "      <td>SWIN-Unet</td>\n",
       "      <td>True</td>\n",
       "      <td>Pixel-level Concatenation</td>\n",
       "    </tr>\n",
       "    <tr>\n",
       "      <th>30</th>\n",
       "      <td>TRA-SAR [Siamese-diff]</td>\n",
       "      <td>All Pixels</td>\n",
       "      <td>0.507569</td>\n",
       "      <td>0.584002</td>\n",
       "      <td>0.448827</td>\n",
       "      <td>SWIN-Unet</td>\n",
       "      <td>True</td>\n",
       "      <td>Siamese [Difference]</td>\n",
       "    </tr>\n",
       "    <tr>\n",
       "      <th>31</th>\n",
       "      <td>TRA-SAR [Siamese-diff]</td>\n",
       "      <td>No Cloud</td>\n",
       "      <td>0.520197</td>\n",
       "      <td>0.597046</td>\n",
       "      <td>0.460875</td>\n",
       "      <td>SWIN-Unet</td>\n",
       "      <td>True</td>\n",
       "      <td>Siamese [Difference]</td>\n",
       "    </tr>\n",
       "    <tr>\n",
       "      <th>32</th>\n",
       "      <td>TRA-SAR [Siamese-diff]</td>\n",
       "      <td>Cloudy</td>\n",
       "      <td>0.381589</td>\n",
       "      <td>0.450231</td>\n",
       "      <td>0.331108</td>\n",
       "      <td>SWIN-Unet</td>\n",
       "      <td>True</td>\n",
       "      <td>Siamese [Difference]</td>\n",
       "    </tr>\n",
       "    <tr>\n",
       "      <th>33</th>\n",
       "      <td>TRA-SAR [Siamese-conc]</td>\n",
       "      <td>All Pixels</td>\n",
       "      <td>0.485856</td>\n",
       "      <td>0.994293</td>\n",
       "      <td>0.321471</td>\n",
       "      <td>SWIN-Unet</td>\n",
       "      <td>True</td>\n",
       "      <td>Siamese [Concatenation]</td>\n",
       "    </tr>\n",
       "    <tr>\n",
       "      <th>34</th>\n",
       "      <td>TRA-SAR [Siamese-conc]</td>\n",
       "      <td>No Cloud</td>\n",
       "      <td>0.494161</td>\n",
       "      <td>0.993850</td>\n",
       "      <td>0.328831</td>\n",
       "      <td>SWIN-Unet</td>\n",
       "      <td>True</td>\n",
       "      <td>Siamese [Concatenation]</td>\n",
       "    </tr>\n",
       "    <tr>\n",
       "      <th>35</th>\n",
       "      <td>TRA-SAR [Siamese-conc]</td>\n",
       "      <td>Cloudy</td>\n",
       "      <td>0.399826</td>\n",
       "      <td>1.000000</td>\n",
       "      <td>0.249864</td>\n",
       "      <td>SWIN-Unet</td>\n",
       "      <td>True</td>\n",
       "      <td>Siamese [Concatenation]</td>\n",
       "    </tr>\n",
       "  </tbody>\n",
       "</table>\n",
       "</div>"
      ],
      "text/plain": [
       "                                   name  cloud_cond        f1  precision  \\\n",
       "0                  CNN-OPT (Cloud-free)  All Pixels  0.921489   0.903045   \n",
       "1                  CNN-OPT (Cloud-free)    No Cloud  0.921489   0.903045   \n",
       "2                  CNN-OPT (Cloud-free)      Cloudy       NaN        NaN   \n",
       "3   CNN-OPT [Siamese-diff] (Cloud-free)  All Pixels  0.917469   0.893516   \n",
       "4   CNN-OPT [Siamese-diff] (Cloud-free)    No Cloud  0.917469   0.893516   \n",
       "5   CNN-OPT [Siamese-diff] (Cloud-free)      Cloudy       NaN        NaN   \n",
       "6   CNN-OPT [Siamese-conc] (Cloud-free)  All Pixels  0.917197   0.898457   \n",
       "7   CNN-OPT [Siamese-conc] (Cloud-free)    No Cloud  0.917197   0.898457   \n",
       "8   CNN-OPT [Siamese-conc] (Cloud-free)      Cloudy       NaN        NaN   \n",
       "9                               CNN-SAR  All Pixels  0.885286   0.989573   \n",
       "10                              CNN-SAR    No Cloud  0.887218   0.989854   \n",
       "11                              CNN-SAR      Cloudy  0.866069   0.986722   \n",
       "12               CNN-SAR [Siamese-diff]  All Pixels  0.694619   0.994097   \n",
       "13               CNN-SAR [Siamese-diff]    No Cloud  0.694619   0.994097   \n",
       "14               CNN-SAR [Siamese-diff]      Cloudy       NaN        NaN   \n",
       "15               CNN-SAR [Siamese-conc]  All Pixels  0.184718   0.993812   \n",
       "16               CNN-SAR [Siamese-conc]    No Cloud  0.184718   0.993812   \n",
       "17               CNN-SAR [Siamese-conc]      Cloudy       NaN        NaN   \n",
       "18                 TRA-OPT (Cloud-free)  All Pixels  0.921913   0.895557   \n",
       "19                 TRA-OPT (Cloud-free)    No Cloud  0.921913   0.895557   \n",
       "20                 TRA-OPT (Cloud-free)      Cloudy       NaN        NaN   \n",
       "21  TRA-OPT [Siamese-diff] (Cloud-free)  All Pixels  0.919262   0.893782   \n",
       "22  TRA-OPT [Siamese-diff] (Cloud-free)    No Cloud  0.919262   0.893782   \n",
       "23  TRA-OPT [Siamese-diff] (Cloud-free)      Cloudy       NaN        NaN   \n",
       "24  TRA-OPT [Siamese-conc] (Cloud-free)  All Pixels  0.921193   0.899990   \n",
       "25  TRA-OPT [Siamese-conc] (Cloud-free)    No Cloud  0.921193   0.899990   \n",
       "26  TRA-OPT [Siamese-conc] (Cloud-free)      Cloudy       NaN        NaN   \n",
       "27                              TRA-SAR  All Pixels  0.815085   0.986780   \n",
       "28                              TRA-SAR    No Cloud  0.820939   0.987853   \n",
       "29                              TRA-SAR      Cloudy  0.755120   0.974981   \n",
       "30               TRA-SAR [Siamese-diff]  All Pixels  0.507569   0.584002   \n",
       "31               TRA-SAR [Siamese-diff]    No Cloud  0.520197   0.597046   \n",
       "32               TRA-SAR [Siamese-diff]      Cloudy  0.381589   0.450231   \n",
       "33               TRA-SAR [Siamese-conc]  All Pixels  0.485856   0.994293   \n",
       "34               TRA-SAR [Siamese-conc]    No Cloud  0.494161   0.993850   \n",
       "35               TRA-SAR [Siamese-conc]      Cloudy  0.399826   1.000000   \n",
       "\n",
       "      recall group_model prev_def                comb_method  \n",
       "0   0.940703         CNN     True  Pixel-level Concatenation  \n",
       "1   0.940703         CNN     True  Pixel-level Concatenation  \n",
       "2        NaN         CNN     True  Pixel-level Concatenation  \n",
       "3   0.942741         CNN     True       Siamese [Difference]  \n",
       "4   0.942741         CNN     True       Siamese [Difference]  \n",
       "5        NaN         CNN     True       Siamese [Difference]  \n",
       "6   0.936736         CNN     True    Siamese [Concatenation]  \n",
       "7   0.936736         CNN     True    Siamese [Concatenation]  \n",
       "8        NaN         CNN     True    Siamese [Concatenation]  \n",
       "9   0.800885         CNN     True  Pixel-level Concatenation  \n",
       "10  0.803867         CNN     True  Pixel-level Concatenation  \n",
       "11  0.771707         CNN     True  Pixel-level Concatenation  \n",
       "12  0.533807         CNN     True       Siamese [Difference]  \n",
       "13  0.533807         CNN     True       Siamese [Difference]  \n",
       "14       NaN         CNN     True       Siamese [Difference]  \n",
       "15  0.101821         CNN     True    Siamese [Concatenation]  \n",
       "16  0.101821         CNN     True    Siamese [Concatenation]  \n",
       "17       NaN         CNN     True    Siamese [Concatenation]  \n",
       "18  0.949867   SWIN-Unet     True  Pixel-level Concatenation  \n",
       "19  0.949867   SWIN-Unet     True  Pixel-level Concatenation  \n",
       "20       NaN   SWIN-Unet     True  Pixel-level Concatenation  \n",
       "21  0.946236   SWIN-Unet     True       Siamese [Difference]  \n",
       "22  0.946236   SWIN-Unet     True       Siamese [Difference]  \n",
       "23       NaN   SWIN-Unet     True       Siamese [Difference]  \n",
       "24  0.943419   SWIN-Unet     True    Siamese [Concatenation]  \n",
       "25  0.943419   SWIN-Unet     True    Siamese [Concatenation]  \n",
       "26       NaN   SWIN-Unet     True    Siamese [Concatenation]  \n",
       "27  0.694283   SWIN-Unet     True  Pixel-level Concatenation  \n",
       "28  0.702277   SWIN-Unet     True  Pixel-level Concatenation  \n",
       "29  0.616172   SWIN-Unet     True  Pixel-level Concatenation  \n",
       "30  0.448827   SWIN-Unet     True       Siamese [Difference]  \n",
       "31  0.460875   SWIN-Unet     True       Siamese [Difference]  \n",
       "32  0.331108   SWIN-Unet     True       Siamese [Difference]  \n",
       "33  0.321471   SWIN-Unet     True    Siamese [Concatenation]  \n",
       "34  0.328831   SWIN-Unet     True    Siamese [Concatenation]  \n",
       "35  0.249864   SWIN-Unet     True    Siamese [Concatenation]  "
      ]
     },
     "execution_count": 24,
     "metadata": {},
     "output_type": "execute_result"
    }
   ],
   "source": [
    "exp_results"
   ]
  },
  {
   "cell_type": "code",
   "execution_count": 25,
   "metadata": {},
   "outputs": [
    {
     "data": {
      "application/vnd.plotly.v1+json": {
       "config": {
        "plotlyServerURL": "https://plot.ly"
       },
       "data": [
        {
         "alignmentgroup": "True",
         "hovertemplate": "Temporal Combination=Pixel-level Concatenation<br>Model=%{x}<br>F1-Score=%{y}<extra></extra>",
         "legendgroup": "Pixel-level Concatenation",
         "marker": {
          "color": "#636efa",
          "pattern": {
           "shape": ""
          }
         },
         "name": "Pixel-level Concatenation",
         "offsetgroup": "Pixel-level Concatenation",
         "orientation": "v",
         "showlegend": true,
         "textposition": "auto",
         "type": "bar",
         "x": [
          "CNN-OPT",
          "CNN-OPT",
          "CNN-OPT",
          "CNN-SAR",
          "CNN-SAR",
          "CNN-SAR",
          "TRA-OPT",
          "TRA-OPT",
          "TRA-OPT",
          "TRA-SAR",
          "TRA-SAR",
          "TRA-SAR"
         ],
         "xaxis": "x",
         "y": [
          0.9214893057479138,
          null,
          null,
          0.8852863039200747,
          null,
          null,
          0.9219127952144832,
          null,
          null,
          0.8150847953441726,
          null,
          null
         ],
         "yaxis": "y"
        },
        {
         "alignmentgroup": "True",
         "hovertemplate": "Temporal Combination=Siamese [Difference]<br>Model=%{x}<br>F1-Score=%{y}<extra></extra>",
         "legendgroup": "Siamese [Difference]",
         "marker": {
          "color": "#EF553B",
          "pattern": {
           "shape": ""
          }
         },
         "name": "Siamese [Difference]",
         "offsetgroup": "Siamese [Difference]",
         "orientation": "v",
         "showlegend": true,
         "textposition": "auto",
         "type": "bar",
         "x": [
          "CNN-OPT",
          "CNN-OPT",
          "CNN-OPT",
          "CNN-SAR",
          "CNN-SAR",
          "CNN-SAR",
          "TRA-OPT",
          "TRA-OPT",
          "TRA-OPT",
          "TRA-SAR",
          "TRA-SAR",
          "TRA-SAR"
         ],
         "xaxis": "x",
         "y": [
          0.917468630575712,
          null,
          null,
          0.6946192355422433,
          null,
          null,
          0.9192617390042448,
          null,
          null,
          0.5075690382508964,
          null,
          null
         ],
         "yaxis": "y"
        },
        {
         "alignmentgroup": "True",
         "hovertemplate": "Temporal Combination=Siamese [Concatenation]<br>Model=%{x}<br>F1-Score=%{y}<extra></extra>",
         "legendgroup": "Siamese [Concatenation]",
         "marker": {
          "color": "#00cc96",
          "pattern": {
           "shape": ""
          }
         },
         "name": "Siamese [Concatenation]",
         "offsetgroup": "Siamese [Concatenation]",
         "orientation": "v",
         "showlegend": true,
         "textposition": "auto",
         "type": "bar",
         "x": [
          "CNN-OPT",
          "CNN-OPT",
          "CNN-OPT",
          "CNN-SAR",
          "CNN-SAR",
          "CNN-SAR",
          "TRA-OPT",
          "TRA-OPT",
          "TRA-OPT",
          "TRA-SAR",
          "TRA-SAR",
          "TRA-SAR"
         ],
         "xaxis": "x",
         "y": [
          0.9171969603318021,
          null,
          null,
          0.18471764604761767,
          null,
          null,
          0.9211930617769157,
          null,
          null,
          0.48585641559307235,
          null,
          null
         ],
         "yaxis": "y"
        }
       ],
       "layout": {
        "annotations": [
         {
          "showarrow": false,
          "text": "CNN Models",
          "x": 0.5,
          "y": 1.05
         },
         {
          "showarrow": false,
          "text": "Transformer-based Models",
          "x": 2.5,
          "y": 1.05
         }
        ],
        "barmode": "group",
        "height": 400,
        "legend": {
         "title": {
          "text": "Temporal Combination"
         },
         "tracegroupgap": 0
        },
        "margin": {
         "t": 60
        },
        "shapes": [
         {
          "fillcolor": "green",
          "layer": "below",
          "line": {
           "width": 0
          },
          "opacity": 0.15,
          "type": "rect",
          "x0": 0,
          "x1": 0.5,
          "xref": "x domain",
          "y0": 0,
          "y1": 1,
          "yref": "y"
         },
         {
          "fillcolor": "purple",
          "layer": "below",
          "line": {
           "width": 0
          },
          "opacity": 0.15,
          "type": "rect",
          "x0": 0.5,
          "x1": 1,
          "xref": "x domain",
          "y0": 0,
          "y1": 1,
          "yref": "y"
         }
        ],
        "template": {
         "data": {
          "bar": [
           {
            "error_x": {
             "color": "#2a3f5f"
            },
            "error_y": {
             "color": "#2a3f5f"
            },
            "marker": {
             "line": {
              "color": "#E5ECF6",
              "width": 0.5
             },
             "pattern": {
              "fillmode": "overlay",
              "size": 10,
              "solidity": 0.2
             }
            },
            "type": "bar"
           }
          ],
          "barpolar": [
           {
            "marker": {
             "line": {
              "color": "#E5ECF6",
              "width": 0.5
             },
             "pattern": {
              "fillmode": "overlay",
              "size": 10,
              "solidity": 0.2
             }
            },
            "type": "barpolar"
           }
          ],
          "carpet": [
           {
            "aaxis": {
             "endlinecolor": "#2a3f5f",
             "gridcolor": "white",
             "linecolor": "white",
             "minorgridcolor": "white",
             "startlinecolor": "#2a3f5f"
            },
            "baxis": {
             "endlinecolor": "#2a3f5f",
             "gridcolor": "white",
             "linecolor": "white",
             "minorgridcolor": "white",
             "startlinecolor": "#2a3f5f"
            },
            "type": "carpet"
           }
          ],
          "choropleth": [
           {
            "colorbar": {
             "outlinewidth": 0,
             "ticks": ""
            },
            "type": "choropleth"
           }
          ],
          "contour": [
           {
            "colorbar": {
             "outlinewidth": 0,
             "ticks": ""
            },
            "colorscale": [
             [
              0,
              "#0d0887"
             ],
             [
              0.1111111111111111,
              "#46039f"
             ],
             [
              0.2222222222222222,
              "#7201a8"
             ],
             [
              0.3333333333333333,
              "#9c179e"
             ],
             [
              0.4444444444444444,
              "#bd3786"
             ],
             [
              0.5555555555555556,
              "#d8576b"
             ],
             [
              0.6666666666666666,
              "#ed7953"
             ],
             [
              0.7777777777777778,
              "#fb9f3a"
             ],
             [
              0.8888888888888888,
              "#fdca26"
             ],
             [
              1,
              "#f0f921"
             ]
            ],
            "type": "contour"
           }
          ],
          "contourcarpet": [
           {
            "colorbar": {
             "outlinewidth": 0,
             "ticks": ""
            },
            "type": "contourcarpet"
           }
          ],
          "heatmap": [
           {
            "colorbar": {
             "outlinewidth": 0,
             "ticks": ""
            },
            "colorscale": [
             [
              0,
              "#0d0887"
             ],
             [
              0.1111111111111111,
              "#46039f"
             ],
             [
              0.2222222222222222,
              "#7201a8"
             ],
             [
              0.3333333333333333,
              "#9c179e"
             ],
             [
              0.4444444444444444,
              "#bd3786"
             ],
             [
              0.5555555555555556,
              "#d8576b"
             ],
             [
              0.6666666666666666,
              "#ed7953"
             ],
             [
              0.7777777777777778,
              "#fb9f3a"
             ],
             [
              0.8888888888888888,
              "#fdca26"
             ],
             [
              1,
              "#f0f921"
             ]
            ],
            "type": "heatmap"
           }
          ],
          "heatmapgl": [
           {
            "colorbar": {
             "outlinewidth": 0,
             "ticks": ""
            },
            "colorscale": [
             [
              0,
              "#0d0887"
             ],
             [
              0.1111111111111111,
              "#46039f"
             ],
             [
              0.2222222222222222,
              "#7201a8"
             ],
             [
              0.3333333333333333,
              "#9c179e"
             ],
             [
              0.4444444444444444,
              "#bd3786"
             ],
             [
              0.5555555555555556,
              "#d8576b"
             ],
             [
              0.6666666666666666,
              "#ed7953"
             ],
             [
              0.7777777777777778,
              "#fb9f3a"
             ],
             [
              0.8888888888888888,
              "#fdca26"
             ],
             [
              1,
              "#f0f921"
             ]
            ],
            "type": "heatmapgl"
           }
          ],
          "histogram": [
           {
            "marker": {
             "pattern": {
              "fillmode": "overlay",
              "size": 10,
              "solidity": 0.2
             }
            },
            "type": "histogram"
           }
          ],
          "histogram2d": [
           {
            "colorbar": {
             "outlinewidth": 0,
             "ticks": ""
            },
            "colorscale": [
             [
              0,
              "#0d0887"
             ],
             [
              0.1111111111111111,
              "#46039f"
             ],
             [
              0.2222222222222222,
              "#7201a8"
             ],
             [
              0.3333333333333333,
              "#9c179e"
             ],
             [
              0.4444444444444444,
              "#bd3786"
             ],
             [
              0.5555555555555556,
              "#d8576b"
             ],
             [
              0.6666666666666666,
              "#ed7953"
             ],
             [
              0.7777777777777778,
              "#fb9f3a"
             ],
             [
              0.8888888888888888,
              "#fdca26"
             ],
             [
              1,
              "#f0f921"
             ]
            ],
            "type": "histogram2d"
           }
          ],
          "histogram2dcontour": [
           {
            "colorbar": {
             "outlinewidth": 0,
             "ticks": ""
            },
            "colorscale": [
             [
              0,
              "#0d0887"
             ],
             [
              0.1111111111111111,
              "#46039f"
             ],
             [
              0.2222222222222222,
              "#7201a8"
             ],
             [
              0.3333333333333333,
              "#9c179e"
             ],
             [
              0.4444444444444444,
              "#bd3786"
             ],
             [
              0.5555555555555556,
              "#d8576b"
             ],
             [
              0.6666666666666666,
              "#ed7953"
             ],
             [
              0.7777777777777778,
              "#fb9f3a"
             ],
             [
              0.8888888888888888,
              "#fdca26"
             ],
             [
              1,
              "#f0f921"
             ]
            ],
            "type": "histogram2dcontour"
           }
          ],
          "mesh3d": [
           {
            "colorbar": {
             "outlinewidth": 0,
             "ticks": ""
            },
            "type": "mesh3d"
           }
          ],
          "parcoords": [
           {
            "line": {
             "colorbar": {
              "outlinewidth": 0,
              "ticks": ""
             }
            },
            "type": "parcoords"
           }
          ],
          "pie": [
           {
            "automargin": true,
            "type": "pie"
           }
          ],
          "scatter": [
           {
            "fillpattern": {
             "fillmode": "overlay",
             "size": 10,
             "solidity": 0.2
            },
            "type": "scatter"
           }
          ],
          "scatter3d": [
           {
            "line": {
             "colorbar": {
              "outlinewidth": 0,
              "ticks": ""
             }
            },
            "marker": {
             "colorbar": {
              "outlinewidth": 0,
              "ticks": ""
             }
            },
            "type": "scatter3d"
           }
          ],
          "scattercarpet": [
           {
            "marker": {
             "colorbar": {
              "outlinewidth": 0,
              "ticks": ""
             }
            },
            "type": "scattercarpet"
           }
          ],
          "scattergeo": [
           {
            "marker": {
             "colorbar": {
              "outlinewidth": 0,
              "ticks": ""
             }
            },
            "type": "scattergeo"
           }
          ],
          "scattergl": [
           {
            "marker": {
             "colorbar": {
              "outlinewidth": 0,
              "ticks": ""
             }
            },
            "type": "scattergl"
           }
          ],
          "scattermapbox": [
           {
            "marker": {
             "colorbar": {
              "outlinewidth": 0,
              "ticks": ""
             }
            },
            "type": "scattermapbox"
           }
          ],
          "scatterpolar": [
           {
            "marker": {
             "colorbar": {
              "outlinewidth": 0,
              "ticks": ""
             }
            },
            "type": "scatterpolar"
           }
          ],
          "scatterpolargl": [
           {
            "marker": {
             "colorbar": {
              "outlinewidth": 0,
              "ticks": ""
             }
            },
            "type": "scatterpolargl"
           }
          ],
          "scatterternary": [
           {
            "marker": {
             "colorbar": {
              "outlinewidth": 0,
              "ticks": ""
             }
            },
            "type": "scatterternary"
           }
          ],
          "surface": [
           {
            "colorbar": {
             "outlinewidth": 0,
             "ticks": ""
            },
            "colorscale": [
             [
              0,
              "#0d0887"
             ],
             [
              0.1111111111111111,
              "#46039f"
             ],
             [
              0.2222222222222222,
              "#7201a8"
             ],
             [
              0.3333333333333333,
              "#9c179e"
             ],
             [
              0.4444444444444444,
              "#bd3786"
             ],
             [
              0.5555555555555556,
              "#d8576b"
             ],
             [
              0.6666666666666666,
              "#ed7953"
             ],
             [
              0.7777777777777778,
              "#fb9f3a"
             ],
             [
              0.8888888888888888,
              "#fdca26"
             ],
             [
              1,
              "#f0f921"
             ]
            ],
            "type": "surface"
           }
          ],
          "table": [
           {
            "cells": {
             "fill": {
              "color": "#EBF0F8"
             },
             "line": {
              "color": "white"
             }
            },
            "header": {
             "fill": {
              "color": "#C8D4E3"
             },
             "line": {
              "color": "white"
             }
            },
            "type": "table"
           }
          ]
         },
         "layout": {
          "annotationdefaults": {
           "arrowcolor": "#2a3f5f",
           "arrowhead": 0,
           "arrowwidth": 1
          },
          "autotypenumbers": "strict",
          "coloraxis": {
           "colorbar": {
            "outlinewidth": 0,
            "ticks": ""
           }
          },
          "colorscale": {
           "diverging": [
            [
             0,
             "#8e0152"
            ],
            [
             0.1,
             "#c51b7d"
            ],
            [
             0.2,
             "#de77ae"
            ],
            [
             0.3,
             "#f1b6da"
            ],
            [
             0.4,
             "#fde0ef"
            ],
            [
             0.5,
             "#f7f7f7"
            ],
            [
             0.6,
             "#e6f5d0"
            ],
            [
             0.7,
             "#b8e186"
            ],
            [
             0.8,
             "#7fbc41"
            ],
            [
             0.9,
             "#4d9221"
            ],
            [
             1,
             "#276419"
            ]
           ],
           "sequential": [
            [
             0,
             "#0d0887"
            ],
            [
             0.1111111111111111,
             "#46039f"
            ],
            [
             0.2222222222222222,
             "#7201a8"
            ],
            [
             0.3333333333333333,
             "#9c179e"
            ],
            [
             0.4444444444444444,
             "#bd3786"
            ],
            [
             0.5555555555555556,
             "#d8576b"
            ],
            [
             0.6666666666666666,
             "#ed7953"
            ],
            [
             0.7777777777777778,
             "#fb9f3a"
            ],
            [
             0.8888888888888888,
             "#fdca26"
            ],
            [
             1,
             "#f0f921"
            ]
           ],
           "sequentialminus": [
            [
             0,
             "#0d0887"
            ],
            [
             0.1111111111111111,
             "#46039f"
            ],
            [
             0.2222222222222222,
             "#7201a8"
            ],
            [
             0.3333333333333333,
             "#9c179e"
            ],
            [
             0.4444444444444444,
             "#bd3786"
            ],
            [
             0.5555555555555556,
             "#d8576b"
            ],
            [
             0.6666666666666666,
             "#ed7953"
            ],
            [
             0.7777777777777778,
             "#fb9f3a"
            ],
            [
             0.8888888888888888,
             "#fdca26"
            ],
            [
             1,
             "#f0f921"
            ]
           ]
          },
          "colorway": [
           "#636efa",
           "#EF553B",
           "#00cc96",
           "#ab63fa",
           "#FFA15A",
           "#19d3f3",
           "#FF6692",
           "#B6E880",
           "#FF97FF",
           "#FECB52"
          ],
          "font": {
           "color": "#2a3f5f"
          },
          "geo": {
           "bgcolor": "white",
           "lakecolor": "white",
           "landcolor": "#E5ECF6",
           "showlakes": true,
           "showland": true,
           "subunitcolor": "white"
          },
          "hoverlabel": {
           "align": "left"
          },
          "hovermode": "closest",
          "mapbox": {
           "style": "light"
          },
          "paper_bgcolor": "white",
          "plot_bgcolor": "#E5ECF6",
          "polar": {
           "angularaxis": {
            "gridcolor": "white",
            "linecolor": "white",
            "ticks": ""
           },
           "bgcolor": "#E5ECF6",
           "radialaxis": {
            "gridcolor": "white",
            "linecolor": "white",
            "ticks": ""
           }
          },
          "scene": {
           "xaxis": {
            "backgroundcolor": "#E5ECF6",
            "gridcolor": "white",
            "gridwidth": 2,
            "linecolor": "white",
            "showbackground": true,
            "ticks": "",
            "zerolinecolor": "white"
           },
           "yaxis": {
            "backgroundcolor": "#E5ECF6",
            "gridcolor": "white",
            "gridwidth": 2,
            "linecolor": "white",
            "showbackground": true,
            "ticks": "",
            "zerolinecolor": "white"
           },
           "zaxis": {
            "backgroundcolor": "#E5ECF6",
            "gridcolor": "white",
            "gridwidth": 2,
            "linecolor": "white",
            "showbackground": true,
            "ticks": "",
            "zerolinecolor": "white"
           }
          },
          "shapedefaults": {
           "line": {
            "color": "#2a3f5f"
           }
          },
          "ternary": {
           "aaxis": {
            "gridcolor": "white",
            "linecolor": "white",
            "ticks": ""
           },
           "baxis": {
            "gridcolor": "white",
            "linecolor": "white",
            "ticks": ""
           },
           "bgcolor": "#E5ECF6",
           "caxis": {
            "gridcolor": "white",
            "linecolor": "white",
            "ticks": ""
           }
          },
          "title": {
           "x": 0.05
          },
          "xaxis": {
           "automargin": true,
           "gridcolor": "white",
           "linecolor": "white",
           "ticks": "",
           "title": {
            "standoff": 15
           },
           "zerolinecolor": "white",
           "zerolinewidth": 2
          },
          "yaxis": {
           "automargin": true,
           "gridcolor": "white",
           "linecolor": "white",
           "ticks": "",
           "title": {
            "standoff": 15
           },
           "zerolinecolor": "white",
           "zerolinewidth": 2
          }
         }
        },
        "title": {
         "text": "Siamese Architecture (Site 1)",
         "x": 0.5
        },
        "width": 800,
        "xaxis": {
         "anchor": "y",
         "domain": [
          0,
          1
         ],
         "title": {
          "text": "Model"
         }
        },
        "yaxis": {
         "anchor": "x",
         "domain": [
          0,
          1
         ],
         "title": {
          "text": "F1-Score"
         }
        }
       }
      }
     },
     "metadata": {},
     "output_type": "display_data"
    }
   ],
   "source": [
    "exp_results.loc[(exp_results['name'].str.contains('SAR') & exp_results['cloud_cond'].str.contains('Cloudy')), 'f1'] = np.nan\n",
    "exp_results.loc[(exp_results['name'].str.contains('SAR') & exp_results['cloud_cond'].str.contains('No Cloud')), 'f1'] = np.nan\n",
    "\n",
    "#cnn_exp_results = exp_results[exp_results['group_model'] == 'CNN']\n",
    "cnn_exp_results = exp_results\n",
    "cnn_max = cnn_exp_results[cnn_exp_results['name'].str.contains('Cloud-free')]['f1'].max()\n",
    "cnn_exp_results.loc[(cnn_exp_results['name'].str.contains('Cloud-free') & exp_results['cloud_cond'].str.contains('No Cloud')), 'f1'] = np.nan\n",
    "cnn_exp_results.loc[(cnn_exp_results['name'].str.contains('Cloud-free') & exp_results['cloud_cond'].str.contains('Cloudy')), 'f1'] = np.nan\n",
    "\n",
    "x_lim1 = 2/4.\n",
    "\n",
    "cnn_exp_results = cnn_exp_results.replace(' \\(Cloud-free\\)', '', regex=True)\n",
    "cnn_exp_results = cnn_exp_results.replace(' \\[No Prev Def\\]', '', regex=True)\n",
    "cnn_exp_results = cnn_exp_results.replace(' \\[Siamese-diff\\]', '', regex=True)\n",
    "cnn_exp_results = cnn_exp_results.replace(' \\[Siamese-conc\\]', '', regex=True)\n",
    "\n",
    "fig = px.bar(cnn_exp_results, x=\"name\", y=\"f1\",\n",
    "             color='comb_method', barmode='group',\n",
    "             labels = {\n",
    "                 'f1': 'F1-Score',\n",
    "                 'name': 'Model',\n",
    "                 'cloud_cond': 'Cloud Condition',\n",
    "                 'prev_def': 'Previous Deforestation Map',\n",
    "                 'comb_method': 'Temporal Combination'\n",
    "\n",
    "                 },\n",
    "             height=400,\n",
    "             width= 800)\n",
    "\n",
    "fig.add_hrect(y0=0, y1=1, x0 = 0.0, x1 = x_lim1, line_width=0, fillcolor=\"green\", opacity=0.15, layer = 'below')\n",
    "fig.add_hrect(y0=0, y1=1, x0 = x_lim1, x1 = 1, line_width=0, fillcolor=\"purple\", opacity=0.15, layer = 'below')\n",
    "fig.add_annotation(text='CNN Models', x=0.5, y=1.05, showarrow = False)\n",
    "fig.add_annotation(text='Transformer-based Models', x=2.5, y=1.05, showarrow = False)\n",
    "\n",
    "fig.update_layout(title_text=f'Siamese Architecture (Site {site})', title_x=0.5)\n",
    "fig.show()\n",
    "fig.write_image(f'images/site_{site}_siamese.png')"
   ]
  },
  {
   "cell_type": "code",
   "execution_count": null,
   "metadata": {},
   "outputs": [],
   "source": []
  }
 ],
 "metadata": {
  "kernelspec": {
   "display_name": "ferrari",
   "language": "python",
   "name": "python3"
  },
  "language_info": {
   "codemirror_mode": {
    "name": "ipython",
    "version": 3
   },
   "file_extension": ".py",
   "mimetype": "text/x-python",
   "name": "python",
   "nbconvert_exporter": "python",
   "pygments_lexer": "ipython3",
   "version": "3.9.18"
  },
  "orig_nbformat": 4
 },
 "nbformat": 4,
 "nbformat_minor": 2
}
