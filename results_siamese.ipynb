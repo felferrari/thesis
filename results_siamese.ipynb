{
 "cells": [
  {
   "cell_type": "code",
   "execution_count": 1,
   "metadata": {},
   "outputs": [],
   "source": [
    "import plotly.express as px\n",
    "from utils.ops import load_yaml\n",
    "from  pathlib import Path\n",
    "import pandas as pd\n",
    "import plotly.graph_objects as go\n",
    "from plotly.subplots import make_subplots\n",
    "import numpy as np"
   ]
  },
  {
   "cell_type": "markdown",
   "metadata": {},
   "source": [
    "# Preparing"
   ]
  },
  {
   "cell_type": "code",
   "execution_count": 2,
   "metadata": {},
   "outputs": [],
   "source": [
    "site = 3\n",
    "site_label  = 'AM'"
   ]
  },
  {
   "cell_type": "code",
   "execution_count": 3,
   "metadata": {},
   "outputs": [],
   "source": [
    "cfg = load_yaml(f'cfg{site}.yaml')\n",
    "site_cfg = load_yaml(f'site_{site}.yaml')\n",
    "\n",
    "preparation_params = cfg['preparation_params']\n",
    "paths_params = cfg['paths']\n",
    "general_params = cfg['general_params']\n",
    "experiments_paths = general_params['experiments_folders']\n",
    "\n",
    "images_path = Path('images')\n",
    "images_path.mkdir(exist_ok=True)"
   ]
  },
  {
   "cell_type": "markdown",
   "metadata": {},
   "source": [
    "## Functions"
   ]
  },
  {
   "cell_type": "code",
   "execution_count": 4,
   "metadata": {},
   "outputs": [],
   "source": [
    "def results2(experiments):\n",
    "    exp_results = []\n",
    "    for exp_i in experiments:\n",
    "        #experiment_params = cfg['experiments'][f'exp_{experiments[exp_i]}']\n",
    "        exp_path = Path(paths_params['experiments']) / f'exp_{exp_i}'\n",
    "        experiment_params = cfg['experiments'][f'exp_{exp_i}']\n",
    "\n",
    "        results_path = exp_path / experiments_paths['results']\n",
    "        final_results_file = results_path / f'results_{exp_i}.data'\n",
    "\n",
    "        result_df = pd.read_pickle(final_results_file)\n",
    "\n",
    "        if '[Siamese-diff]' in experiment_params['short']:\n",
    "            comb_method = 'Siamese [Difference]'\n",
    "        elif '[Siamese-conc]' in experiment_params['short']:\n",
    "            comb_method = 'Siamese [Concatenation]'\n",
    "        else:\n",
    "            comb_method = 'Pixel-level Concatenation'\n",
    "\n",
    "        exp_results.append(\n",
    "            {\n",
    "                'name': f'{experiment_params[\"short\"]}', # ({exp_i})',\n",
    "                'cloud_cond': 'All Pixels',\n",
    "                'f1': result_df['global_f1'][0],\n",
    "                'precision': result_df['global_precision'][0],\n",
    "                'recall': result_df['global_recall'][0],\n",
    "                'group_model': experiment_params['group_model'],\n",
    "                'prev_def': 'False' if '[No Prev Def]' in experiment_params['short'] else 'True',\n",
    "                'comb_method': comb_method\n",
    "\n",
    "            }\n",
    "        )\n",
    "\n",
    "        exp_results.append(\n",
    "            {\n",
    "                'name': f'{experiment_params[\"short\"]}', # ({exp_i})',\n",
    "                'cloud_cond': 'No Cloud',\n",
    "                'f1': result_df['no_cloud_f1'][0],\n",
    "                'precision': result_df['no_cloud_precision'][0],\n",
    "                'recall': result_df['no_cloud_recall'][0],\n",
    "                'group_model': experiment_params['group_model'],\n",
    "                'prev_def': 'False' if '[No Prev Def]' in experiment_params['short'] else 'True',\n",
    "                'comb_method': comb_method\n",
    "            }\n",
    "        )\n",
    "\n",
    "        exp_results.append(\n",
    "            {\n",
    "                'name': f'{experiment_params[\"short\"]}', # ({exp_i})',\n",
    "                'cloud_cond': 'Cloudy',\n",
    "                'f1': result_df['cloud_f1'][0],\n",
    "                'precision': result_df['cloud_precision'][0],\n",
    "                'recall': result_df['cloud_recall'][0],\n",
    "                'group_model': experiment_params['group_model'],\n",
    "                'prev_def': 'False' if '[No Prev Def]' in experiment_params['short'] else 'True',\n",
    "                'comb_method': comb_method\n",
    "            }\n",
    "        )\n",
    "\n",
    "\n",
    "        \n",
    "    return pd.DataFrame(exp_results)"
   ]
  },
  {
   "cell_type": "markdown",
   "metadata": {},
   "source": [
    "## Data preparing"
   ]
  },
  {
   "cell_type": "code",
   "execution_count": 24,
   "metadata": {},
   "outputs": [],
   "source": [
    "experiments = [\n",
    "    6,\n",
    "    18,\n",
    "    19,\n",
    "    2,\n",
    "    20,\n",
    "    21,\n",
    "    56,\n",
    "    68,\n",
    "    69,\n",
    "    52,\n",
    "    70,\n",
    "    71\n",
    "]\n",
    "exp_results = results2(experiments)"
   ]
  },
  {
   "cell_type": "code",
   "execution_count": 25,
   "metadata": {},
   "outputs": [
    {
     "data": {
      "text/html": [
       "<div>\n",
       "<style scoped>\n",
       "    .dataframe tbody tr th:only-of-type {\n",
       "        vertical-align: middle;\n",
       "    }\n",
       "\n",
       "    .dataframe tbody tr th {\n",
       "        vertical-align: top;\n",
       "    }\n",
       "\n",
       "    .dataframe thead th {\n",
       "        text-align: right;\n",
       "    }\n",
       "</style>\n",
       "<table border=\"1\" class=\"dataframe\">\n",
       "  <thead>\n",
       "    <tr style=\"text-align: right;\">\n",
       "      <th></th>\n",
       "      <th>name</th>\n",
       "      <th>cloud_cond</th>\n",
       "      <th>f1</th>\n",
       "      <th>precision</th>\n",
       "      <th>recall</th>\n",
       "      <th>group_model</th>\n",
       "      <th>prev_def</th>\n",
       "      <th>comb_method</th>\n",
       "    </tr>\n",
       "  </thead>\n",
       "  <tbody>\n",
       "    <tr>\n",
       "      <th>0</th>\n",
       "      <td>CNN-OPT [Free-cloud]</td>\n",
       "      <td>All Pixels</td>\n",
       "      <td>0.664379</td>\n",
       "      <td>0.504305</td>\n",
       "      <td>0.973327</td>\n",
       "      <td>CNN</td>\n",
       "      <td>True</td>\n",
       "      <td>Pixel-level Concatenation</td>\n",
       "    </tr>\n",
       "    <tr>\n",
       "      <th>1</th>\n",
       "      <td>CNN-OPT [Free-cloud]</td>\n",
       "      <td>No Cloud</td>\n",
       "      <td>0.664381</td>\n",
       "      <td>0.504307</td>\n",
       "      <td>0.973327</td>\n",
       "      <td>CNN</td>\n",
       "      <td>True</td>\n",
       "      <td>Pixel-level Concatenation</td>\n",
       "    </tr>\n",
       "    <tr>\n",
       "      <th>2</th>\n",
       "      <td>CNN-OPT [Free-cloud]</td>\n",
       "      <td>Cloudy</td>\n",
       "      <td>0.470588</td>\n",
       "      <td>0.307692</td>\n",
       "      <td>1.000000</td>\n",
       "      <td>CNN</td>\n",
       "      <td>True</td>\n",
       "      <td>Pixel-level Concatenation</td>\n",
       "    </tr>\n",
       "    <tr>\n",
       "      <th>3</th>\n",
       "      <td>CNN-OPT [Siamese-diff][Free-cloud]</td>\n",
       "      <td>All Pixels</td>\n",
       "      <td>0.910129</td>\n",
       "      <td>0.883441</td>\n",
       "      <td>0.938480</td>\n",
       "      <td>CNN</td>\n",
       "      <td>True</td>\n",
       "      <td>Siamese [Difference]</td>\n",
       "    </tr>\n",
       "    <tr>\n",
       "      <th>4</th>\n",
       "      <td>CNN-OPT [Siamese-diff][Free-cloud]</td>\n",
       "      <td>No Cloud</td>\n",
       "      <td>0.910130</td>\n",
       "      <td>0.883442</td>\n",
       "      <td>0.938479</td>\n",
       "      <td>CNN</td>\n",
       "      <td>True</td>\n",
       "      <td>Siamese [Difference]</td>\n",
       "    </tr>\n",
       "    <tr>\n",
       "      <th>5</th>\n",
       "      <td>CNN-OPT [Siamese-diff][Free-cloud]</td>\n",
       "      <td>Cloudy</td>\n",
       "      <td>0.857143</td>\n",
       "      <td>0.750000</td>\n",
       "      <td>1.000000</td>\n",
       "      <td>CNN</td>\n",
       "      <td>True</td>\n",
       "      <td>Siamese [Difference]</td>\n",
       "    </tr>\n",
       "    <tr>\n",
       "      <th>6</th>\n",
       "      <td>CNN-OPT [Siamese-conc][Free-cloud]</td>\n",
       "      <td>All Pixels</td>\n",
       "      <td>0.909361</td>\n",
       "      <td>0.864644</td>\n",
       "      <td>0.958956</td>\n",
       "      <td>CNN</td>\n",
       "      <td>True</td>\n",
       "      <td>Siamese [Concatenation]</td>\n",
       "    </tr>\n",
       "    <tr>\n",
       "      <th>7</th>\n",
       "      <td>CNN-OPT [Siamese-conc][Free-cloud]</td>\n",
       "      <td>No Cloud</td>\n",
       "      <td>0.909362</td>\n",
       "      <td>0.864645</td>\n",
       "      <td>0.958956</td>\n",
       "      <td>CNN</td>\n",
       "      <td>True</td>\n",
       "      <td>Siamese [Concatenation]</td>\n",
       "    </tr>\n",
       "    <tr>\n",
       "      <th>8</th>\n",
       "      <td>CNN-OPT [Siamese-conc][Free-cloud]</td>\n",
       "      <td>Cloudy</td>\n",
       "      <td>0.857143</td>\n",
       "      <td>0.750000</td>\n",
       "      <td>1.000000</td>\n",
       "      <td>CNN</td>\n",
       "      <td>True</td>\n",
       "      <td>Siamese [Concatenation]</td>\n",
       "    </tr>\n",
       "    <tr>\n",
       "      <th>9</th>\n",
       "      <td>CNN-SAR [12-AverageSAR]</td>\n",
       "      <td>All Pixels</td>\n",
       "      <td>0.652278</td>\n",
       "      <td>0.638547</td>\n",
       "      <td>0.666612</td>\n",
       "      <td>CNN</td>\n",
       "      <td>True</td>\n",
       "      <td>Pixel-level Concatenation</td>\n",
       "    </tr>\n",
       "    <tr>\n",
       "      <th>10</th>\n",
       "      <td>CNN-SAR [12-AverageSAR]</td>\n",
       "      <td>No Cloud</td>\n",
       "      <td>0.650593</td>\n",
       "      <td>0.641236</td>\n",
       "      <td>0.660226</td>\n",
       "      <td>CNN</td>\n",
       "      <td>True</td>\n",
       "      <td>Pixel-level Concatenation</td>\n",
       "    </tr>\n",
       "    <tr>\n",
       "      <th>11</th>\n",
       "      <td>CNN-SAR [12-AverageSAR]</td>\n",
       "      <td>Cloudy</td>\n",
       "      <td>0.660046</td>\n",
       "      <td>0.626607</td>\n",
       "      <td>0.697256</td>\n",
       "      <td>CNN</td>\n",
       "      <td>True</td>\n",
       "      <td>Pixel-level Concatenation</td>\n",
       "    </tr>\n",
       "    <tr>\n",
       "      <th>12</th>\n",
       "      <td>CNN-SAR [Siamese-diff][2-AverageSAR]</td>\n",
       "      <td>All Pixels</td>\n",
       "      <td>0.707655</td>\n",
       "      <td>0.855718</td>\n",
       "      <td>0.603271</td>\n",
       "      <td>CNN</td>\n",
       "      <td>True</td>\n",
       "      <td>Siamese [Difference]</td>\n",
       "    </tr>\n",
       "    <tr>\n",
       "      <th>13</th>\n",
       "      <td>CNN-SAR [Siamese-diff][2-AverageSAR]</td>\n",
       "      <td>No Cloud</td>\n",
       "      <td>0.720100</td>\n",
       "      <td>0.853918</td>\n",
       "      <td>0.622542</td>\n",
       "      <td>CNN</td>\n",
       "      <td>True</td>\n",
       "      <td>Siamese [Difference]</td>\n",
       "    </tr>\n",
       "    <tr>\n",
       "      <th>14</th>\n",
       "      <td>CNN-SAR [Siamese-diff][2-AverageSAR]</td>\n",
       "      <td>Cloudy</td>\n",
       "      <td>0.642704</td>\n",
       "      <td>0.866402</td>\n",
       "      <td>0.510816</td>\n",
       "      <td>CNN</td>\n",
       "      <td>True</td>\n",
       "      <td>Siamese [Difference]</td>\n",
       "    </tr>\n",
       "    <tr>\n",
       "      <th>15</th>\n",
       "      <td>CNN-SAR [Siamese-conc][2-AverageSAR]</td>\n",
       "      <td>All Pixels</td>\n",
       "      <td>0.658620</td>\n",
       "      <td>0.844391</td>\n",
       "      <td>0.539850</td>\n",
       "      <td>CNN</td>\n",
       "      <td>True</td>\n",
       "      <td>Siamese [Concatenation]</td>\n",
       "    </tr>\n",
       "    <tr>\n",
       "      <th>16</th>\n",
       "      <td>CNN-SAR [Siamese-conc][2-AverageSAR]</td>\n",
       "      <td>No Cloud</td>\n",
       "      <td>0.669886</td>\n",
       "      <td>0.836696</td>\n",
       "      <td>0.558532</td>\n",
       "      <td>CNN</td>\n",
       "      <td>True</td>\n",
       "      <td>Siamese [Concatenation]</td>\n",
       "    </tr>\n",
       "    <tr>\n",
       "      <th>17</th>\n",
       "      <td>CNN-SAR [Siamese-conc][2-AverageSAR]</td>\n",
       "      <td>Cloudy</td>\n",
       "      <td>0.598845</td>\n",
       "      <td>0.893143</td>\n",
       "      <td>0.450425</td>\n",
       "      <td>CNN</td>\n",
       "      <td>True</td>\n",
       "      <td>Siamese [Concatenation]</td>\n",
       "    </tr>\n",
       "    <tr>\n",
       "      <th>18</th>\n",
       "      <td>TRA-OPT [Free-cloud]</td>\n",
       "      <td>All Pixels</td>\n",
       "      <td>0.762075</td>\n",
       "      <td>0.626861</td>\n",
       "      <td>0.971662</td>\n",
       "      <td>SWIN-Unet</td>\n",
       "      <td>True</td>\n",
       "      <td>Pixel-level Concatenation</td>\n",
       "    </tr>\n",
       "    <tr>\n",
       "      <th>19</th>\n",
       "      <td>TRA-OPT [Free-cloud]</td>\n",
       "      <td>No Cloud</td>\n",
       "      <td>0.762078</td>\n",
       "      <td>0.626866</td>\n",
       "      <td>0.971661</td>\n",
       "      <td>SWIN-Unet</td>\n",
       "      <td>True</td>\n",
       "      <td>Pixel-level Concatenation</td>\n",
       "    </tr>\n",
       "    <tr>\n",
       "      <th>20</th>\n",
       "      <td>TRA-OPT [Free-cloud]</td>\n",
       "      <td>Cloudy</td>\n",
       "      <td>0.461538</td>\n",
       "      <td>0.300000</td>\n",
       "      <td>1.000000</td>\n",
       "      <td>SWIN-Unet</td>\n",
       "      <td>True</td>\n",
       "      <td>Pixel-level Concatenation</td>\n",
       "    </tr>\n",
       "    <tr>\n",
       "      <th>21</th>\n",
       "      <td>TRA-OPT [Siamese-diff][Free-cloud]</td>\n",
       "      <td>All Pixels</td>\n",
       "      <td>0.489751</td>\n",
       "      <td>0.344888</td>\n",
       "      <td>0.844446</td>\n",
       "      <td>SWIN-Unet</td>\n",
       "      <td>True</td>\n",
       "      <td>Siamese [Difference]</td>\n",
       "    </tr>\n",
       "    <tr>\n",
       "      <th>22</th>\n",
       "      <td>TRA-OPT [Siamese-diff][Free-cloud]</td>\n",
       "      <td>No Cloud</td>\n",
       "      <td>0.489750</td>\n",
       "      <td>0.344886</td>\n",
       "      <td>0.844444</td>\n",
       "      <td>SWIN-Unet</td>\n",
       "      <td>True</td>\n",
       "      <td>Siamese [Difference]</td>\n",
       "    </tr>\n",
       "    <tr>\n",
       "      <th>23</th>\n",
       "      <td>TRA-OPT [Siamese-diff][Free-cloud]</td>\n",
       "      <td>Cloudy</td>\n",
       "      <td>0.750000</td>\n",
       "      <td>0.600000</td>\n",
       "      <td>1.000000</td>\n",
       "      <td>SWIN-Unet</td>\n",
       "      <td>True</td>\n",
       "      <td>Siamese [Difference]</td>\n",
       "    </tr>\n",
       "    <tr>\n",
       "      <th>24</th>\n",
       "      <td>TRA-OPT [Siamese-conc][Free-cloud]</td>\n",
       "      <td>All Pixels</td>\n",
       "      <td>0.927531</td>\n",
       "      <td>0.901155</td>\n",
       "      <td>0.955499</td>\n",
       "      <td>SWIN-Unet</td>\n",
       "      <td>True</td>\n",
       "      <td>Siamese [Concatenation]</td>\n",
       "    </tr>\n",
       "    <tr>\n",
       "      <th>25</th>\n",
       "      <td>TRA-OPT [Siamese-conc][Free-cloud]</td>\n",
       "      <td>No Cloud</td>\n",
       "      <td>0.927533</td>\n",
       "      <td>0.901158</td>\n",
       "      <td>0.955498</td>\n",
       "      <td>SWIN-Unet</td>\n",
       "      <td>True</td>\n",
       "      <td>Siamese [Concatenation]</td>\n",
       "    </tr>\n",
       "    <tr>\n",
       "      <th>26</th>\n",
       "      <td>TRA-OPT [Siamese-conc][Free-cloud]</td>\n",
       "      <td>Cloudy</td>\n",
       "      <td>0.750000</td>\n",
       "      <td>0.600000</td>\n",
       "      <td>1.000000</td>\n",
       "      <td>SWIN-Unet</td>\n",
       "      <td>True</td>\n",
       "      <td>Siamese [Concatenation]</td>\n",
       "    </tr>\n",
       "    <tr>\n",
       "      <th>27</th>\n",
       "      <td>TRA-SAR [12-AverageSAR]</td>\n",
       "      <td>All Pixels</td>\n",
       "      <td>0.661489</td>\n",
       "      <td>0.866940</td>\n",
       "      <td>0.534759</td>\n",
       "      <td>SWIN-Unet</td>\n",
       "      <td>True</td>\n",
       "      <td>Pixel-level Concatenation</td>\n",
       "    </tr>\n",
       "    <tr>\n",
       "      <th>28</th>\n",
       "      <td>TRA-SAR [12-AverageSAR]</td>\n",
       "      <td>No Cloud</td>\n",
       "      <td>0.668604</td>\n",
       "      <td>0.875852</td>\n",
       "      <td>0.540669</td>\n",
       "      <td>SWIN-Unet</td>\n",
       "      <td>True</td>\n",
       "      <td>Pixel-level Concatenation</td>\n",
       "    </tr>\n",
       "    <tr>\n",
       "      <th>29</th>\n",
       "      <td>TRA-SAR [12-AverageSAR]</td>\n",
       "      <td>Cloudy</td>\n",
       "      <td>0.627219</td>\n",
       "      <td>0.823898</td>\n",
       "      <td>0.506345</td>\n",
       "      <td>SWIN-Unet</td>\n",
       "      <td>True</td>\n",
       "      <td>Pixel-level Concatenation</td>\n",
       "    </tr>\n",
       "    <tr>\n",
       "      <th>30</th>\n",
       "      <td>TRA-SAR [Siamese-diff][2-AverageSAR]</td>\n",
       "      <td>All Pixels</td>\n",
       "      <td>0.247938</td>\n",
       "      <td>0.154436</td>\n",
       "      <td>0.628395</td>\n",
       "      <td>SWIN-Unet</td>\n",
       "      <td>True</td>\n",
       "      <td>Siamese [Difference]</td>\n",
       "    </tr>\n",
       "    <tr>\n",
       "      <th>31</th>\n",
       "      <td>TRA-SAR [Siamese-diff][2-AverageSAR]</td>\n",
       "      <td>No Cloud</td>\n",
       "      <td>0.258865</td>\n",
       "      <td>0.161726</td>\n",
       "      <td>0.648199</td>\n",
       "      <td>SWIN-Unet</td>\n",
       "      <td>True</td>\n",
       "      <td>Siamese [Difference]</td>\n",
       "    </tr>\n",
       "    <tr>\n",
       "      <th>32</th>\n",
       "      <td>TRA-SAR [Siamese-diff][2-AverageSAR]</td>\n",
       "      <td>Cloudy</td>\n",
       "      <td>0.198861</td>\n",
       "      <td>0.122224</td>\n",
       "      <td>0.533156</td>\n",
       "      <td>SWIN-Unet</td>\n",
       "      <td>True</td>\n",
       "      <td>Siamese [Difference]</td>\n",
       "    </tr>\n",
       "    <tr>\n",
       "      <th>33</th>\n",
       "      <td>TRA-SAR [Siamese-conc][2-AverageSAR]</td>\n",
       "      <td>All Pixels</td>\n",
       "      <td>0.685766</td>\n",
       "      <td>0.942573</td>\n",
       "      <td>0.538932</td>\n",
       "      <td>SWIN-Unet</td>\n",
       "      <td>True</td>\n",
       "      <td>Siamese [Concatenation]</td>\n",
       "    </tr>\n",
       "    <tr>\n",
       "      <th>34</th>\n",
       "      <td>TRA-SAR [Siamese-conc][2-AverageSAR]</td>\n",
       "      <td>No Cloud</td>\n",
       "      <td>0.698289</td>\n",
       "      <td>0.940925</td>\n",
       "      <td>0.555136</td>\n",
       "      <td>SWIN-Unet</td>\n",
       "      <td>True</td>\n",
       "      <td>Siamese [Concatenation]</td>\n",
       "    </tr>\n",
       "    <tr>\n",
       "      <th>35</th>\n",
       "      <td>TRA-SAR [Siamese-conc][2-AverageSAR]</td>\n",
       "      <td>Cloudy</td>\n",
       "      <td>0.621562</td>\n",
       "      <td>0.952178</td>\n",
       "      <td>0.461365</td>\n",
       "      <td>SWIN-Unet</td>\n",
       "      <td>True</td>\n",
       "      <td>Siamese [Concatenation]</td>\n",
       "    </tr>\n",
       "  </tbody>\n",
       "</table>\n",
       "</div>"
      ],
      "text/plain": [
       "                                    name  cloud_cond        f1  precision  \\\n",
       "0                   CNN-OPT [Free-cloud]  All Pixels  0.664379   0.504305   \n",
       "1                   CNN-OPT [Free-cloud]    No Cloud  0.664381   0.504307   \n",
       "2                   CNN-OPT [Free-cloud]      Cloudy  0.470588   0.307692   \n",
       "3     CNN-OPT [Siamese-diff][Free-cloud]  All Pixels  0.910129   0.883441   \n",
       "4     CNN-OPT [Siamese-diff][Free-cloud]    No Cloud  0.910130   0.883442   \n",
       "5     CNN-OPT [Siamese-diff][Free-cloud]      Cloudy  0.857143   0.750000   \n",
       "6     CNN-OPT [Siamese-conc][Free-cloud]  All Pixels  0.909361   0.864644   \n",
       "7     CNN-OPT [Siamese-conc][Free-cloud]    No Cloud  0.909362   0.864645   \n",
       "8     CNN-OPT [Siamese-conc][Free-cloud]      Cloudy  0.857143   0.750000   \n",
       "9                CNN-SAR [12-AverageSAR]  All Pixels  0.652278   0.638547   \n",
       "10               CNN-SAR [12-AverageSAR]    No Cloud  0.650593   0.641236   \n",
       "11               CNN-SAR [12-AverageSAR]      Cloudy  0.660046   0.626607   \n",
       "12  CNN-SAR [Siamese-diff][2-AverageSAR]  All Pixels  0.707655   0.855718   \n",
       "13  CNN-SAR [Siamese-diff][2-AverageSAR]    No Cloud  0.720100   0.853918   \n",
       "14  CNN-SAR [Siamese-diff][2-AverageSAR]      Cloudy  0.642704   0.866402   \n",
       "15  CNN-SAR [Siamese-conc][2-AverageSAR]  All Pixels  0.658620   0.844391   \n",
       "16  CNN-SAR [Siamese-conc][2-AverageSAR]    No Cloud  0.669886   0.836696   \n",
       "17  CNN-SAR [Siamese-conc][2-AverageSAR]      Cloudy  0.598845   0.893143   \n",
       "18                  TRA-OPT [Free-cloud]  All Pixels  0.762075   0.626861   \n",
       "19                  TRA-OPT [Free-cloud]    No Cloud  0.762078   0.626866   \n",
       "20                  TRA-OPT [Free-cloud]      Cloudy  0.461538   0.300000   \n",
       "21    TRA-OPT [Siamese-diff][Free-cloud]  All Pixels  0.489751   0.344888   \n",
       "22    TRA-OPT [Siamese-diff][Free-cloud]    No Cloud  0.489750   0.344886   \n",
       "23    TRA-OPT [Siamese-diff][Free-cloud]      Cloudy  0.750000   0.600000   \n",
       "24    TRA-OPT [Siamese-conc][Free-cloud]  All Pixels  0.927531   0.901155   \n",
       "25    TRA-OPT [Siamese-conc][Free-cloud]    No Cloud  0.927533   0.901158   \n",
       "26    TRA-OPT [Siamese-conc][Free-cloud]      Cloudy  0.750000   0.600000   \n",
       "27               TRA-SAR [12-AverageSAR]  All Pixels  0.661489   0.866940   \n",
       "28               TRA-SAR [12-AverageSAR]    No Cloud  0.668604   0.875852   \n",
       "29               TRA-SAR [12-AverageSAR]      Cloudy  0.627219   0.823898   \n",
       "30  TRA-SAR [Siamese-diff][2-AverageSAR]  All Pixels  0.247938   0.154436   \n",
       "31  TRA-SAR [Siamese-diff][2-AverageSAR]    No Cloud  0.258865   0.161726   \n",
       "32  TRA-SAR [Siamese-diff][2-AverageSAR]      Cloudy  0.198861   0.122224   \n",
       "33  TRA-SAR [Siamese-conc][2-AverageSAR]  All Pixels  0.685766   0.942573   \n",
       "34  TRA-SAR [Siamese-conc][2-AverageSAR]    No Cloud  0.698289   0.940925   \n",
       "35  TRA-SAR [Siamese-conc][2-AverageSAR]      Cloudy  0.621562   0.952178   \n",
       "\n",
       "      recall group_model prev_def                comb_method  \n",
       "0   0.973327         CNN     True  Pixel-level Concatenation  \n",
       "1   0.973327         CNN     True  Pixel-level Concatenation  \n",
       "2   1.000000         CNN     True  Pixel-level Concatenation  \n",
       "3   0.938480         CNN     True       Siamese [Difference]  \n",
       "4   0.938479         CNN     True       Siamese [Difference]  \n",
       "5   1.000000         CNN     True       Siamese [Difference]  \n",
       "6   0.958956         CNN     True    Siamese [Concatenation]  \n",
       "7   0.958956         CNN     True    Siamese [Concatenation]  \n",
       "8   1.000000         CNN     True    Siamese [Concatenation]  \n",
       "9   0.666612         CNN     True  Pixel-level Concatenation  \n",
       "10  0.660226         CNN     True  Pixel-level Concatenation  \n",
       "11  0.697256         CNN     True  Pixel-level Concatenation  \n",
       "12  0.603271         CNN     True       Siamese [Difference]  \n",
       "13  0.622542         CNN     True       Siamese [Difference]  \n",
       "14  0.510816         CNN     True       Siamese [Difference]  \n",
       "15  0.539850         CNN     True    Siamese [Concatenation]  \n",
       "16  0.558532         CNN     True    Siamese [Concatenation]  \n",
       "17  0.450425         CNN     True    Siamese [Concatenation]  \n",
       "18  0.971662   SWIN-Unet     True  Pixel-level Concatenation  \n",
       "19  0.971661   SWIN-Unet     True  Pixel-level Concatenation  \n",
       "20  1.000000   SWIN-Unet     True  Pixel-level Concatenation  \n",
       "21  0.844446   SWIN-Unet     True       Siamese [Difference]  \n",
       "22  0.844444   SWIN-Unet     True       Siamese [Difference]  \n",
       "23  1.000000   SWIN-Unet     True       Siamese [Difference]  \n",
       "24  0.955499   SWIN-Unet     True    Siamese [Concatenation]  \n",
       "25  0.955498   SWIN-Unet     True    Siamese [Concatenation]  \n",
       "26  1.000000   SWIN-Unet     True    Siamese [Concatenation]  \n",
       "27  0.534759   SWIN-Unet     True  Pixel-level Concatenation  \n",
       "28  0.540669   SWIN-Unet     True  Pixel-level Concatenation  \n",
       "29  0.506345   SWIN-Unet     True  Pixel-level Concatenation  \n",
       "30  0.628395   SWIN-Unet     True       Siamese [Difference]  \n",
       "31  0.648199   SWIN-Unet     True       Siamese [Difference]  \n",
       "32  0.533156   SWIN-Unet     True       Siamese [Difference]  \n",
       "33  0.538932   SWIN-Unet     True    Siamese [Concatenation]  \n",
       "34  0.555136   SWIN-Unet     True    Siamese [Concatenation]  \n",
       "35  0.461365   SWIN-Unet     True    Siamese [Concatenation]  "
      ]
     },
     "execution_count": 25,
     "metadata": {},
     "output_type": "execute_result"
    }
   ],
   "source": [
    "exp_results"
   ]
  },
  {
   "cell_type": "code",
   "execution_count": 26,
   "metadata": {},
   "outputs": [
    {
     "data": {
      "application/vnd.plotly.v1+json": {
       "config": {
        "plotlyServerURL": "https://plot.ly"
       },
       "data": [
        {
         "alignmentgroup": "True",
         "hovertemplate": "Temporal Combination=Pixel-level Concatenation<br>Model=%{x}<br>F1-Score=%{y}<extra></extra>",
         "legendgroup": "Pixel-level Concatenation",
         "marker": {
          "color": "#636efa",
          "pattern": {
           "shape": ""
          }
         },
         "name": "Pixel-level Concatenation",
         "offsetgroup": "Pixel-level Concatenation",
         "orientation": "v",
         "showlegend": true,
         "textposition": "auto",
         "type": "bar",
         "x": [
          "CNN-OPT ",
          "CNN-OPT ",
          "CNN-OPT ",
          "CNN-SAR ",
          "CNN-SAR ",
          "CNN-SAR ",
          "TRA-OPT ",
          "TRA-OPT ",
          "TRA-OPT ",
          "TRA-SAR ",
          "TRA-SAR ",
          "TRA-SAR "
         ],
         "xaxis": "x",
         "y": [
          0.6643785765319409,
          null,
          null,
          0.6522778261707392,
          null,
          null,
          0.7620746458060418,
          null,
          null,
          0.6614888020686774,
          null,
          null
         ],
         "yaxis": "y"
        },
        {
         "alignmentgroup": "True",
         "hovertemplate": "Temporal Combination=Siamese [Difference]<br>Model=%{x}<br>F1-Score=%{y}<extra></extra>",
         "legendgroup": "Siamese [Difference]",
         "marker": {
          "color": "#EF553B",
          "pattern": {
           "shape": ""
          }
         },
         "name": "Siamese [Difference]",
         "offsetgroup": "Siamese [Difference]",
         "orientation": "v",
         "showlegend": true,
         "textposition": "auto",
         "type": "bar",
         "x": [
          "CNN-OPT ",
          "CNN-OPT ",
          "CNN-OPT ",
          "CNN-SAR ",
          "CNN-SAR ",
          "CNN-SAR ",
          "TRA-OPT ",
          "TRA-OPT ",
          "TRA-OPT ",
          "TRA-SAR ",
          "TRA-SAR ",
          "TRA-SAR "
         ],
         "xaxis": "x",
         "y": [
          0.910129177855916,
          null,
          null,
          0.7076546106278226,
          null,
          null,
          0.48975135204011144,
          null,
          null,
          0.2479377143938904,
          null,
          null
         ],
         "yaxis": "y"
        },
        {
         "alignmentgroup": "True",
         "hovertemplate": "Temporal Combination=Siamese [Concatenation]<br>Model=%{x}<br>F1-Score=%{y}<extra></extra>",
         "legendgroup": "Siamese [Concatenation]",
         "marker": {
          "color": "#00cc96",
          "pattern": {
           "shape": ""
          }
         },
         "name": "Siamese [Concatenation]",
         "offsetgroup": "Siamese [Concatenation]",
         "orientation": "v",
         "showlegend": true,
         "textposition": "auto",
         "type": "bar",
         "x": [
          "CNN-OPT ",
          "CNN-OPT ",
          "CNN-OPT ",
          "CNN-SAR ",
          "CNN-SAR ",
          "CNN-SAR ",
          "TRA-OPT ",
          "TRA-OPT ",
          "TRA-OPT ",
          "TRA-SAR ",
          "TRA-SAR ",
          "TRA-SAR "
         ],
         "xaxis": "x",
         "y": [
          0.9093611870147588,
          null,
          null,
          0.6586200543151784,
          null,
          null,
          0.9275314608927262,
          null,
          null,
          0.6857659288791756,
          null,
          null
         ],
         "yaxis": "y"
        }
       ],
       "layout": {
        "annotations": [
         {
          "showarrow": false,
          "text": "CNN Models",
          "x": 0.5,
          "y": 1.05
         },
         {
          "showarrow": false,
          "text": "Transformer-based Models",
          "x": 2.5,
          "y": 1.05
         }
        ],
        "barmode": "group",
        "height": 400,
        "legend": {
         "title": {
          "text": "Temporal Combination"
         },
         "tracegroupgap": 0
        },
        "margin": {
         "t": 60
        },
        "shapes": [
         {
          "fillcolor": "green",
          "layer": "below",
          "line": {
           "width": 0
          },
          "opacity": 0.15,
          "type": "rect",
          "x0": 0,
          "x1": 0.5,
          "xref": "x domain",
          "y0": 0,
          "y1": 1,
          "yref": "y"
         },
         {
          "fillcolor": "purple",
          "layer": "below",
          "line": {
           "width": 0
          },
          "opacity": 0.15,
          "type": "rect",
          "x0": 0.5,
          "x1": 1,
          "xref": "x domain",
          "y0": 0,
          "y1": 1,
          "yref": "y"
         }
        ],
        "template": {
         "data": {
          "bar": [
           {
            "error_x": {
             "color": "#2a3f5f"
            },
            "error_y": {
             "color": "#2a3f5f"
            },
            "marker": {
             "line": {
              "color": "#E5ECF6",
              "width": 0.5
             },
             "pattern": {
              "fillmode": "overlay",
              "size": 10,
              "solidity": 0.2
             }
            },
            "type": "bar"
           }
          ],
          "barpolar": [
           {
            "marker": {
             "line": {
              "color": "#E5ECF6",
              "width": 0.5
             },
             "pattern": {
              "fillmode": "overlay",
              "size": 10,
              "solidity": 0.2
             }
            },
            "type": "barpolar"
           }
          ],
          "carpet": [
           {
            "aaxis": {
             "endlinecolor": "#2a3f5f",
             "gridcolor": "white",
             "linecolor": "white",
             "minorgridcolor": "white",
             "startlinecolor": "#2a3f5f"
            },
            "baxis": {
             "endlinecolor": "#2a3f5f",
             "gridcolor": "white",
             "linecolor": "white",
             "minorgridcolor": "white",
             "startlinecolor": "#2a3f5f"
            },
            "type": "carpet"
           }
          ],
          "choropleth": [
           {
            "colorbar": {
             "outlinewidth": 0,
             "ticks": ""
            },
            "type": "choropleth"
           }
          ],
          "contour": [
           {
            "colorbar": {
             "outlinewidth": 0,
             "ticks": ""
            },
            "colorscale": [
             [
              0,
              "#0d0887"
             ],
             [
              0.1111111111111111,
              "#46039f"
             ],
             [
              0.2222222222222222,
              "#7201a8"
             ],
             [
              0.3333333333333333,
              "#9c179e"
             ],
             [
              0.4444444444444444,
              "#bd3786"
             ],
             [
              0.5555555555555556,
              "#d8576b"
             ],
             [
              0.6666666666666666,
              "#ed7953"
             ],
             [
              0.7777777777777778,
              "#fb9f3a"
             ],
             [
              0.8888888888888888,
              "#fdca26"
             ],
             [
              1,
              "#f0f921"
             ]
            ],
            "type": "contour"
           }
          ],
          "contourcarpet": [
           {
            "colorbar": {
             "outlinewidth": 0,
             "ticks": ""
            },
            "type": "contourcarpet"
           }
          ],
          "heatmap": [
           {
            "colorbar": {
             "outlinewidth": 0,
             "ticks": ""
            },
            "colorscale": [
             [
              0,
              "#0d0887"
             ],
             [
              0.1111111111111111,
              "#46039f"
             ],
             [
              0.2222222222222222,
              "#7201a8"
             ],
             [
              0.3333333333333333,
              "#9c179e"
             ],
             [
              0.4444444444444444,
              "#bd3786"
             ],
             [
              0.5555555555555556,
              "#d8576b"
             ],
             [
              0.6666666666666666,
              "#ed7953"
             ],
             [
              0.7777777777777778,
              "#fb9f3a"
             ],
             [
              0.8888888888888888,
              "#fdca26"
             ],
             [
              1,
              "#f0f921"
             ]
            ],
            "type": "heatmap"
           }
          ],
          "heatmapgl": [
           {
            "colorbar": {
             "outlinewidth": 0,
             "ticks": ""
            },
            "colorscale": [
             [
              0,
              "#0d0887"
             ],
             [
              0.1111111111111111,
              "#46039f"
             ],
             [
              0.2222222222222222,
              "#7201a8"
             ],
             [
              0.3333333333333333,
              "#9c179e"
             ],
             [
              0.4444444444444444,
              "#bd3786"
             ],
             [
              0.5555555555555556,
              "#d8576b"
             ],
             [
              0.6666666666666666,
              "#ed7953"
             ],
             [
              0.7777777777777778,
              "#fb9f3a"
             ],
             [
              0.8888888888888888,
              "#fdca26"
             ],
             [
              1,
              "#f0f921"
             ]
            ],
            "type": "heatmapgl"
           }
          ],
          "histogram": [
           {
            "marker": {
             "pattern": {
              "fillmode": "overlay",
              "size": 10,
              "solidity": 0.2
             }
            },
            "type": "histogram"
           }
          ],
          "histogram2d": [
           {
            "colorbar": {
             "outlinewidth": 0,
             "ticks": ""
            },
            "colorscale": [
             [
              0,
              "#0d0887"
             ],
             [
              0.1111111111111111,
              "#46039f"
             ],
             [
              0.2222222222222222,
              "#7201a8"
             ],
             [
              0.3333333333333333,
              "#9c179e"
             ],
             [
              0.4444444444444444,
              "#bd3786"
             ],
             [
              0.5555555555555556,
              "#d8576b"
             ],
             [
              0.6666666666666666,
              "#ed7953"
             ],
             [
              0.7777777777777778,
              "#fb9f3a"
             ],
             [
              0.8888888888888888,
              "#fdca26"
             ],
             [
              1,
              "#f0f921"
             ]
            ],
            "type": "histogram2d"
           }
          ],
          "histogram2dcontour": [
           {
            "colorbar": {
             "outlinewidth": 0,
             "ticks": ""
            },
            "colorscale": [
             [
              0,
              "#0d0887"
             ],
             [
              0.1111111111111111,
              "#46039f"
             ],
             [
              0.2222222222222222,
              "#7201a8"
             ],
             [
              0.3333333333333333,
              "#9c179e"
             ],
             [
              0.4444444444444444,
              "#bd3786"
             ],
             [
              0.5555555555555556,
              "#d8576b"
             ],
             [
              0.6666666666666666,
              "#ed7953"
             ],
             [
              0.7777777777777778,
              "#fb9f3a"
             ],
             [
              0.8888888888888888,
              "#fdca26"
             ],
             [
              1,
              "#f0f921"
             ]
            ],
            "type": "histogram2dcontour"
           }
          ],
          "mesh3d": [
           {
            "colorbar": {
             "outlinewidth": 0,
             "ticks": ""
            },
            "type": "mesh3d"
           }
          ],
          "parcoords": [
           {
            "line": {
             "colorbar": {
              "outlinewidth": 0,
              "ticks": ""
             }
            },
            "type": "parcoords"
           }
          ],
          "pie": [
           {
            "automargin": true,
            "type": "pie"
           }
          ],
          "scatter": [
           {
            "fillpattern": {
             "fillmode": "overlay",
             "size": 10,
             "solidity": 0.2
            },
            "type": "scatter"
           }
          ],
          "scatter3d": [
           {
            "line": {
             "colorbar": {
              "outlinewidth": 0,
              "ticks": ""
             }
            },
            "marker": {
             "colorbar": {
              "outlinewidth": 0,
              "ticks": ""
             }
            },
            "type": "scatter3d"
           }
          ],
          "scattercarpet": [
           {
            "marker": {
             "colorbar": {
              "outlinewidth": 0,
              "ticks": ""
             }
            },
            "type": "scattercarpet"
           }
          ],
          "scattergeo": [
           {
            "marker": {
             "colorbar": {
              "outlinewidth": 0,
              "ticks": ""
             }
            },
            "type": "scattergeo"
           }
          ],
          "scattergl": [
           {
            "marker": {
             "colorbar": {
              "outlinewidth": 0,
              "ticks": ""
             }
            },
            "type": "scattergl"
           }
          ],
          "scattermapbox": [
           {
            "marker": {
             "colorbar": {
              "outlinewidth": 0,
              "ticks": ""
             }
            },
            "type": "scattermapbox"
           }
          ],
          "scatterpolar": [
           {
            "marker": {
             "colorbar": {
              "outlinewidth": 0,
              "ticks": ""
             }
            },
            "type": "scatterpolar"
           }
          ],
          "scatterpolargl": [
           {
            "marker": {
             "colorbar": {
              "outlinewidth": 0,
              "ticks": ""
             }
            },
            "type": "scatterpolargl"
           }
          ],
          "scatterternary": [
           {
            "marker": {
             "colorbar": {
              "outlinewidth": 0,
              "ticks": ""
             }
            },
            "type": "scatterternary"
           }
          ],
          "surface": [
           {
            "colorbar": {
             "outlinewidth": 0,
             "ticks": ""
            },
            "colorscale": [
             [
              0,
              "#0d0887"
             ],
             [
              0.1111111111111111,
              "#46039f"
             ],
             [
              0.2222222222222222,
              "#7201a8"
             ],
             [
              0.3333333333333333,
              "#9c179e"
             ],
             [
              0.4444444444444444,
              "#bd3786"
             ],
             [
              0.5555555555555556,
              "#d8576b"
             ],
             [
              0.6666666666666666,
              "#ed7953"
             ],
             [
              0.7777777777777778,
              "#fb9f3a"
             ],
             [
              0.8888888888888888,
              "#fdca26"
             ],
             [
              1,
              "#f0f921"
             ]
            ],
            "type": "surface"
           }
          ],
          "table": [
           {
            "cells": {
             "fill": {
              "color": "#EBF0F8"
             },
             "line": {
              "color": "white"
             }
            },
            "header": {
             "fill": {
              "color": "#C8D4E3"
             },
             "line": {
              "color": "white"
             }
            },
            "type": "table"
           }
          ]
         },
         "layout": {
          "annotationdefaults": {
           "arrowcolor": "#2a3f5f",
           "arrowhead": 0,
           "arrowwidth": 1
          },
          "autotypenumbers": "strict",
          "coloraxis": {
           "colorbar": {
            "outlinewidth": 0,
            "ticks": ""
           }
          },
          "colorscale": {
           "diverging": [
            [
             0,
             "#8e0152"
            ],
            [
             0.1,
             "#c51b7d"
            ],
            [
             0.2,
             "#de77ae"
            ],
            [
             0.3,
             "#f1b6da"
            ],
            [
             0.4,
             "#fde0ef"
            ],
            [
             0.5,
             "#f7f7f7"
            ],
            [
             0.6,
             "#e6f5d0"
            ],
            [
             0.7,
             "#b8e186"
            ],
            [
             0.8,
             "#7fbc41"
            ],
            [
             0.9,
             "#4d9221"
            ],
            [
             1,
             "#276419"
            ]
           ],
           "sequential": [
            [
             0,
             "#0d0887"
            ],
            [
             0.1111111111111111,
             "#46039f"
            ],
            [
             0.2222222222222222,
             "#7201a8"
            ],
            [
             0.3333333333333333,
             "#9c179e"
            ],
            [
             0.4444444444444444,
             "#bd3786"
            ],
            [
             0.5555555555555556,
             "#d8576b"
            ],
            [
             0.6666666666666666,
             "#ed7953"
            ],
            [
             0.7777777777777778,
             "#fb9f3a"
            ],
            [
             0.8888888888888888,
             "#fdca26"
            ],
            [
             1,
             "#f0f921"
            ]
           ],
           "sequentialminus": [
            [
             0,
             "#0d0887"
            ],
            [
             0.1111111111111111,
             "#46039f"
            ],
            [
             0.2222222222222222,
             "#7201a8"
            ],
            [
             0.3333333333333333,
             "#9c179e"
            ],
            [
             0.4444444444444444,
             "#bd3786"
            ],
            [
             0.5555555555555556,
             "#d8576b"
            ],
            [
             0.6666666666666666,
             "#ed7953"
            ],
            [
             0.7777777777777778,
             "#fb9f3a"
            ],
            [
             0.8888888888888888,
             "#fdca26"
            ],
            [
             1,
             "#f0f921"
            ]
           ]
          },
          "colorway": [
           "#636efa",
           "#EF553B",
           "#00cc96",
           "#ab63fa",
           "#FFA15A",
           "#19d3f3",
           "#FF6692",
           "#B6E880",
           "#FF97FF",
           "#FECB52"
          ],
          "font": {
           "color": "#2a3f5f"
          },
          "geo": {
           "bgcolor": "white",
           "lakecolor": "white",
           "landcolor": "#E5ECF6",
           "showlakes": true,
           "showland": true,
           "subunitcolor": "white"
          },
          "hoverlabel": {
           "align": "left"
          },
          "hovermode": "closest",
          "mapbox": {
           "style": "light"
          },
          "paper_bgcolor": "white",
          "plot_bgcolor": "#E5ECF6",
          "polar": {
           "angularaxis": {
            "gridcolor": "white",
            "linecolor": "white",
            "ticks": ""
           },
           "bgcolor": "#E5ECF6",
           "radialaxis": {
            "gridcolor": "white",
            "linecolor": "white",
            "ticks": ""
           }
          },
          "scene": {
           "xaxis": {
            "backgroundcolor": "#E5ECF6",
            "gridcolor": "white",
            "gridwidth": 2,
            "linecolor": "white",
            "showbackground": true,
            "ticks": "",
            "zerolinecolor": "white"
           },
           "yaxis": {
            "backgroundcolor": "#E5ECF6",
            "gridcolor": "white",
            "gridwidth": 2,
            "linecolor": "white",
            "showbackground": true,
            "ticks": "",
            "zerolinecolor": "white"
           },
           "zaxis": {
            "backgroundcolor": "#E5ECF6",
            "gridcolor": "white",
            "gridwidth": 2,
            "linecolor": "white",
            "showbackground": true,
            "ticks": "",
            "zerolinecolor": "white"
           }
          },
          "shapedefaults": {
           "line": {
            "color": "#2a3f5f"
           }
          },
          "ternary": {
           "aaxis": {
            "gridcolor": "white",
            "linecolor": "white",
            "ticks": ""
           },
           "baxis": {
            "gridcolor": "white",
            "linecolor": "white",
            "ticks": ""
           },
           "bgcolor": "#E5ECF6",
           "caxis": {
            "gridcolor": "white",
            "linecolor": "white",
            "ticks": ""
           }
          },
          "title": {
           "x": 0.05
          },
          "xaxis": {
           "automargin": true,
           "gridcolor": "white",
           "linecolor": "white",
           "ticks": "",
           "title": {
            "standoff": 15
           },
           "zerolinecolor": "white",
           "zerolinewidth": 2
          },
          "yaxis": {
           "automargin": true,
           "gridcolor": "white",
           "linecolor": "white",
           "ticks": "",
           "title": {
            "standoff": 15
           },
           "zerolinecolor": "white",
           "zerolinewidth": 2
          }
         }
        },
        "title": {
         "text": "Siamese Architecture (Site 3)",
         "x": 0.5
        },
        "width": 800,
        "xaxis": {
         "anchor": "y",
         "domain": [
          0,
          1
         ],
         "title": {
          "text": "Model"
         }
        },
        "yaxis": {
         "anchor": "x",
         "domain": [
          0,
          1
         ],
         "title": {
          "text": "F1-Score"
         }
        }
       }
      }
     },
     "metadata": {},
     "output_type": "display_data"
    }
   ],
   "source": [
    "exp_results.loc[(exp_results['name'].str.contains('SAR') & exp_results['cloud_cond'].str.contains('Cloudy')), 'f1'] = np.nan\n",
    "exp_results.loc[(exp_results['name'].str.contains('SAR') & exp_results['cloud_cond'].str.contains('No Cloud')), 'f1'] = np.nan\n",
    "\n",
    "#cnn_exp_results = exp_results[exp_results['group_model'] == 'CNN']\n",
    "cnn_exp_results = exp_results\n",
    "cnn_max = cnn_exp_results[cnn_exp_results['name'].str.contains('\\[Free-cloud\\]')]['f1'].max()\n",
    "cnn_exp_results.loc[(cnn_exp_results['name'].str.contains('\\[Free-cloud\\]') & exp_results['cloud_cond'].str.contains('No Cloud')), 'f1'] = np.nan\n",
    "cnn_exp_results.loc[(cnn_exp_results['name'].str.contains('\\[Free-cloud\\]') & exp_results['cloud_cond'].str.contains('Cloudy')), 'f1'] = np.nan\n",
    "\n",
    "x_lim1 = 2/4.\n",
    "\n",
    "cnn_exp_results = cnn_exp_results.replace('\\[Siamese-diff\\]', '', regex=True)\n",
    "cnn_exp_results = cnn_exp_results.replace('\\[Siamese-conc\\]', '', regex=True)\n",
    "cnn_exp_results = cnn_exp_results.replace('\\[Free-cloud\\]', '', regex=True)\n",
    "cnn_exp_results = cnn_exp_results.replace('\\[No-prev-def\\]', '', regex=True)\n",
    "cnn_exp_results = cnn_exp_results.replace('\\[12-AverageSAR\\]', '', regex=True)\n",
    "cnn_exp_results = cnn_exp_results.replace('\\[2-AverageSAR\\]', '', regex=True)\n",
    "\n",
    "fig = px.bar(cnn_exp_results, x=\"name\", y=\"f1\",\n",
    "             color='comb_method', barmode='group',\n",
    "             labels = {\n",
    "                 'f1': 'F1-Score',\n",
    "                 'name': 'Model',\n",
    "                 'cloud_cond': 'Cloud Condition',\n",
    "                 'prev_def': 'Previous Deforestation Map',\n",
    "                 'comb_method': 'Temporal Combination'\n",
    "                 },\n",
    "             height=400,\n",
    "             width= 800)\n",
    "\n",
    "fig.add_hrect(y0=0, y1=1, x0 = 0.0, x1 = x_lim1, line_width=0, fillcolor=\"green\", opacity=0.15, layer = 'below')\n",
    "fig.add_hrect(y0=0, y1=1, x0 = x_lim1, x1 = 1, line_width=0, fillcolor=\"purple\", opacity=0.15, layer = 'below')\n",
    "fig.add_annotation(text='CNN Models', x=0.5, y=1.05, showarrow = False)\n",
    "fig.add_annotation(text='Transformer-based Models', x=2.5, y=1.05, showarrow = False)\n",
    "\n",
    "fig.update_layout(title_text=f'Siamese Architecture (Site {site})', title_x=0.5)\n",
    "fig.show()\n",
    "fig.write_image(f'images/site_{site}_siamese.png')"
   ]
  },
  {
   "cell_type": "code",
   "execution_count": null,
   "metadata": {},
   "outputs": [],
   "source": []
  },
  {
   "cell_type": "code",
   "execution_count": null,
   "metadata": {},
   "outputs": [],
   "source": []
  }
 ],
 "metadata": {
  "kernelspec": {
   "display_name": "ferrari",
   "language": "python",
   "name": "python3"
  },
  "language_info": {
   "codemirror_mode": {
    "name": "ipython",
    "version": 3
   },
   "file_extension": ".py",
   "mimetype": "text/x-python",
   "name": "python",
   "nbconvert_exporter": "python",
   "pygments_lexer": "ipython3",
   "version": "3.11.8"
  },
  "orig_nbformat": 4
 },
 "nbformat": 4,
 "nbformat_minor": 2
}
